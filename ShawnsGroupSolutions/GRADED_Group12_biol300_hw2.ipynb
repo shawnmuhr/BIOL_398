{
  "nbformat": 4,
  "nbformat_minor": 0,
  "metadata": {
    "colab": {
      "name": "GRADED - Group12_biol300_hw2.ipynb",
      "provenance": [],
      "collapsed_sections": [],
      "include_colab_link": true
    },
    "kernelspec": {
      "name": "python3",
      "display_name": "Python 3"
    },
    "language_info": {
      "name": "python"
    }
  },
  "cells": [
    {
      "cell_type": "markdown",
      "metadata": {
        "id": "view-in-github",
        "colab_type": "text"
      },
      "source": [
        "<a href=\"https://colab.research.google.com/github/shawnmuhr/BIOL_398/blob/main/ShawnsGroupSolutions/GRADED_Group12_biol300_hw2.ipynb\" target=\"_parent\"><img src=\"https://colab.research.google.com/assets/colab-badge.svg\" alt=\"Open In Colab\"/></a>"
      ]
    },
    {
      "cell_type": "code",
      "metadata": {
        "id": "swcTzyQY-hLV"
      },
      "source": [
        "import random"
      ],
      "execution_count": null,
      "outputs": []
    },
    {
      "cell_type": "markdown",
      "source": [
        "# Exercise 0: Practicing using GitHub (10 points)\n",
        "\n",
        "We will be checking for commit messages, and to practice writing them, they will be worth points on this first assignment. To earn full points, *each* team member must submit *at least one* commit message during the process of working on this homework.\n",
        "\n"
      ],
      "metadata": {
        "id": "GBASCHbZfR5Z"
      }
    },
    {
      "cell_type": "markdown",
      "source": [
        "### <font color='red'> 10/10 </font> "
      ],
      "metadata": {
        "id": "3yz5FKbMzMyP"
      }
    },
    {
      "cell_type": "markdown",
      "source": [
        "# Exercise 1a: Melting temperature calculator (10 pts)\n",
        "\n",
        "Let's say you want to make your own function for validating the design of a given PCR primer sequence. (Note many tools already exist [online](https://bioinfo.ut.ee/primer3-0.4.0/), but it's so much more satisfying to write your own!) As the first step, we want to calculate the melting temperature of a given primer sequence. We will use the following equation:\n",
        "\n",
        "$$ T_m = 81.5 + 0.41 \\times (\\%GC) - 675/N,$$\n",
        "\n",
        "where $T_m$ is the melting temperature in $^\\circ$C, %GC is the GC content (**in percent, not decimal!**), and $N$ is the length of the sequence. Write a function that will take in a DNA sequence, and output the melting temperature.\n",
        "\n",
        "Note you may want to make use of your `GC_content()` function from last week. You can redefine that function here to call it within the `melting_temp()` function below. "
      ],
      "metadata": {
        "id": "FuIxUcNuJ_nn"
      }
    },
    {
      "cell_type": "code",
      "source": [
        "def melting_temp(DNA_seq):\n",
        "    GC_Count = 0\n",
        "    total_seq = len(DNA_seq)\n",
        "    for letter in DNA_seq:\n",
        "        if letter == 'G':\n",
        "            GC_Count += 1\n",
        "        if letter == 'C':\n",
        "            GC_Count += 1\n",
        "    GC = (GC_Count/total_seq)*100\n",
        "    the_final_ans = (81.5 + .41*GC - 675/total_seq)\n",
        "    return the_final_ans"
      ],
      "metadata": {
        "id": "t0ST0C3HSDx1"
      },
      "execution_count": null,
      "outputs": []
    },
    {
      "cell_type": "code",
      "source": [
        "# should be 71.8 (with rounding)\n",
        "melting_temp(\"ATCGATCAGTTACGATAGCCGAC\") "
      ],
      "metadata": {
        "colab": {
          "base_uri": "https://localhost:8080/"
        },
        "id": "HL21LelnzWfl",
        "outputId": "dafbfd59-92d1-45d7-9b55-9557e6d256c8"
      },
      "execution_count": null,
      "outputs": [
        {
          "output_type": "execute_result",
          "data": {
            "text/plain": [
              "71.76086956521738"
            ]
          },
          "metadata": {},
          "execution_count": 3
        }
      ]
    },
    {
      "cell_type": "code",
      "source": [
        "# should be 64.5\n",
        "melting_temp(\"GCATCGATCGATTACGAC\") "
      ],
      "metadata": {
        "colab": {
          "base_uri": "https://localhost:8080/"
        },
        "id": "ZaEB8i_WzalH",
        "outputId": "33104740-3374-4ac5-9f3e-e1128e011a78"
      },
      "execution_count": null,
      "outputs": [
        {
          "output_type": "execute_result",
          "data": {
            "text/plain": [
              "64.5"
            ]
          },
          "metadata": {},
          "execution_count": 4
        }
      ]
    },
    {
      "cell_type": "markdown",
      "source": [
        "### <font color='green'> This looks good. For something simple, this is perfect. But you can also use your same GC_count function from last week in a cell above and just call it in your new function. Also, I'm not sure why they weren't there, but there were no cells testing your function. I added them back in, but I have to take off a point for not having those. </font> \n",
        "\n",
        "### <font color='red'> 9/10 </font> "
      ],
      "metadata": {
        "id": "ifOoJkigzSle"
      }
    },
    {
      "cell_type": "markdown",
      "metadata": {
        "id": "KVGco6Gx2Pk7"
      },
      "source": [
        "# Exercise 1b: Primer checker (20 pts)\n",
        "\n",
        "Let's now develop our full primer checker. For this, we will make reference to [ThermoFisher's guidlines for primer design](https://www.thermofisher.com/blog/behindthebench/pcr-primer-design-tips/). Specifically, your function should to make the following checks on a given DNA sequence:\n",
        "\n",
        "- GC content to be between 40 and 60%. (Again you can use your function from last week.)\n",
        "- Primer ends in a G or C\n",
        "- Length between 18 and 30 bases\n",
        "- Make sure the melting temperature is between 65$^\\circ$C and 75$^\\circ$C\n",
        "- Avoid strings of 4 of the same nucleotide (i.e. 'AAAA', 'CCCC', etc.)\n",
        "\n",
        "You'll want to check each of these rules in turn and `print` output to let the user know if they have violated any (or all!) of these design guidelines. If everything checks out, you can return the melting temperature so you can go about designing your PCR reaction!\n",
        "\n",
        "Note there are *a lot* of checks to do here. To keep the `primer_checker()` function more manageable, you may want to write some other smaller functions that you can call in this main function. How you approach the code is up to you.  \n"
      ]
    },
    {
      "cell_type": "code",
      "metadata": {
        "id": "qboZAu4-2tmO"
      },
      "source": [
        "def primer_checker(DNA_seq):\n",
        "    empty_list = []\n",
        "    GC_Count = 0\n",
        "    total_seq = len(DNA_seq)\n",
        "    final_ans = ''\n",
        "    for letter in DNA_seq:\n",
        "        if letter == 'G':\n",
        "            GC_Count += 1\n",
        "        if letter == 'C':\n",
        "            GC_Count += 1\n",
        "    GC = (GC_Count / total_seq) * 100\n",
        "    if GC > 60 or GC < 40:\n",
        "        final_ans += f'there is a GC Content of {GC:.3f} which is out of range'\n",
        "    if DNA_seq[total_seq - 1] == 'G' or DNA_seq[total_seq - 1] == 'C':\n",
        "        final_ans += '- the last base is G or C'\n",
        "    if total_seq > 30 or total_seq < 18:\n",
        "        final_ans += f'- the length is {total_seq} bases which is not between 18 and 30'\n",
        "    if melting_temp(DNA_seq) < 65 or melting_temp(DNA_seq) > 75:\n",
        "        final_ans += f'- the melting temperature is {melting_temp(DNA_seq)} which is not between 65 nad 75'\n",
        "    if 'AAAA' in DNA_seq or 'TTTT' in DNA_seq or 'CCCC' in DNA_seq or 'GGGG' in DNA_seq:\n",
        "        final_ans += '- there are at least four of the same bases in sequence'\n",
        "    if final_ans == '':\n",
        "        return print(f\"This sequence works! The melting temperature is {melting_temp(DNA_seq):.2f}'C\")\n",
        "    else:\n",
        "        return print(f'This sequence does not work because {final_ans}')\n",
        "\n"
      ],
      "execution_count": null,
      "outputs": []
    },
    {
      "cell_type": "markdown",
      "source": [
        "### <font color='green'> Great job also returning the GC content or whatever is asked so you know exactly what needs to change rather than just saying \"Error\".  </font> \n",
        "\n",
        "### <font color='red'> 20/20  </font>  "
      ],
      "metadata": {
        "id": "dNz8eiWS0BLq"
      }
    },
    {
      "cell_type": "markdown",
      "source": [
        "# Exercise 1c: Testing your primer checker (10)\n",
        "\n",
        "For each of the five rules we put in place for good primer design, test out your function below to demonstrate that it responds appropriately for when the rule is followed and when the rule is broken. "
      ],
      "metadata": {
        "id": "V-UULDT-U4s8"
      }
    },
    {
      "cell_type": "code",
      "source": [
        "primer_checker('ATGCATGCATGCATGCATGCT')\n",
        "primer_checker('AAAAAAAAAAAAAAAAAAAAAAAAAAAAAAAAAAAAAAAAAAAAAAAAAAAAAAAAAAAAAAAAAAAAAAAAAAAG')"
      ],
      "metadata": {
        "id": "N9cxpic76Op4",
        "outputId": "1b634129-0645-4a95-9f32-1272b5dba58c",
        "colab": {
          "base_uri": "https://localhost:8080/"
        }
      },
      "execution_count": null,
      "outputs": [
        {
          "output_type": "stream",
          "name": "stdout",
          "text": [
            "This sequence works! The melting temperature is 68.88'C\n",
            "This sequence does not work because there is a GC Content of 1.316 which is out of range- the last base is G or C- the length is 76 bases which is not between 18 and 30- there are at least four of the same bases in sequence\n"
          ]
        }
      ]
    },
    {
      "cell_type": "markdown",
      "source": [
        "### <font color='green'> Does not check for melting point outside of range. </font> \n",
        "\n",
        "### <font color='red'> 8/10  </font> "
      ],
      "metadata": {
        "id": "T1-nUuohzoZ9"
      }
    },
    {
      "cell_type": "markdown",
      "metadata": {
        "id": "tvlp-tg74q24"
      },
      "source": [
        "# Exercise 2: Mutate sequence (20 points)\n",
        "\n",
        "Last time we wrote code to mutate a single nucleotide to another nucleotide. Now we will expand the functionality to mutagenize an entire DNA sequence at a specified mutation rate. For example, if we have a DNA sequence of length ten and mutagenize at rate 0.1, we would expect *on average* one base pair to get mutated. You may want to reference [Python's documentation about the random module](https://docs.python.org/3/library/random.html) for functions that may help you here."
      ]
    },
    {
      "cell_type": "code",
      "metadata": {
        "id": "mRuQLEqX45fV"
      },
      "source": [
        "def mutate_seq(DNA_seq, mut_rate):\n",
        "  \"\"\"Returns a mutated DNA sequence at the mutation rate provided\"\"\"\n",
        "  x = list(DNA_seq)\n",
        " # this lets the loop know how many times to loop\n",
        "  for i in range(len(DNA_seq)):\n",
        "# this tells it when to mutate\n",
        "    rand_var = random.random()\n",
        "# this is how the base pairs actually mutate\n",
        "    if (rand_var < mut_rate) and (DNA_seq[i]== \"G\"):\n",
        "      \n",
        "      mutate = random.choice([\"A\", \"T\", \"C\"])\n",
        "      x[i] = mutate\n",
        "    if (rand_var < mut_rate) and (DNA_seq[i] == \"A\"):\n",
        "      \n",
        "      mutate = random.choice([\"G\", \"T\", \"C\"])\n",
        "      x[i] = mutate\n",
        "    if (rand_var < mut_rate) and (DNA_seq[i] == \"T\"):\n",
        "      \n",
        "      mutate = random.choice([\"G\", \"A\", \"C\"])\n",
        "      x[i] = mutate\n",
        "    if (rand_var < mut_rate) and (DNA_seq[i] == \"C\"):\n",
        "      \n",
        "      mutate = random.choice([\"G\", \"T\", \"A\"])\n",
        "      x[i] = mutate\n",
        "    i += 1\n",
        "    print\n",
        "      \n",
        "  return x"
      ],
      "execution_count": null,
      "outputs": []
    },
    {
      "cell_type": "markdown",
      "source": [
        "Make sure to try your code out on a few sequence to see that they do in fact mutate!"
      ],
      "metadata": {
        "id": "54C6yndqYovp"
      }
    },
    {
      "cell_type": "code",
      "source": [
        "mutate_seq(\"ATGCTGGACGTA\",.5)"
      ],
      "metadata": {
        "id": "j6ukfAmR6afX",
        "outputId": "35598e7e-c173-4232-ea77-764f66bbae29",
        "colab": {
          "base_uri": "https://localhost:8080/"
        }
      },
      "execution_count": null,
      "outputs": [
        {
          "output_type": "execute_result",
          "data": {
            "text/plain": [
              "['A', 'T', 'G', 'G', 'T', 'G', 'T', 'C', 'C', 'C', 'G', 'A']"
            ]
          },
          "metadata": {},
          "execution_count": 8
        }
      ]
    },
    {
      "cell_type": "code",
      "source": [
        "mutate_seq('TGCATAGCGTATG', .1)"
      ],
      "metadata": {
        "id": "X8hA9Lp7rC6p",
        "outputId": "f1277e0e-23b2-435c-ce09-1b688f768a1a",
        "colab": {
          "base_uri": "https://localhost:8080/"
        }
      },
      "execution_count": null,
      "outputs": [
        {
          "output_type": "execute_result",
          "data": {
            "text/plain": [
              "['T', 'T', 'C', 'G', 'T', 'A', 'G', 'C', 'G', 'T', 'T', 'T', 'G']"
            ]
          },
          "metadata": {},
          "execution_count": 9
        }
      ]
    },
    {
      "cell_type": "code",
      "source": [
        "for i in range(10):\n",
        "  print(mutate_seq(\"AAAAAAAAAA\", 0.1))"
      ],
      "metadata": {
        "colab": {
          "base_uri": "https://localhost:8080/"
        },
        "id": "MnOKbVOl0PxB",
        "outputId": "19b96faa-87c9-4c06-b092-9bec82fb54de"
      },
      "execution_count": null,
      "outputs": [
        {
          "output_type": "stream",
          "name": "stdout",
          "text": [
            "['A', 'A', 'A', 'A', 'A', 'A', 'A', 'A', 'A', 'A']\n",
            "['A', 'A', 'A', 'A', 'A', 'A', 'A', 'A', 'A', 'A']\n",
            "['A', 'A', 'A', 'A', 'A', 'A', 'C', 'A', 'A', 'A']\n",
            "['A', 'A', 'A', 'A', 'A', 'A', 'A', 'A', 'A', 'A']\n",
            "['A', 'A', 'T', 'A', 'A', 'A', 'A', 'A', 'A', 'A']\n",
            "['A', 'T', 'A', 'A', 'A', 'A', 'A', 'A', 'A', 'A']\n",
            "['A', 'A', 'T', 'A', 'A', 'A', 'T', 'A', 'A', 'A']\n",
            "['A', 'A', 'A', 'T', 'A', 'A', 'A', 'A', 'A', 'A']\n",
            "['A', 'A', 'C', 'A', 'A', 'A', 'A', 'A', 'A', 'A']\n",
            "['A', 'A', 'C', 'A', 'G', 'A', 'A', 'A', 'A', 'A']\n"
          ]
        }
      ]
    },
    {
      "cell_type": "markdown",
      "source": [
        "### <font color='green'>Truly random, rather than just doing mut_rate*length every time you run it, but returning it in a string is much more functional and easier to take and use somewhere else if necessary in this case. </font> \n",
        "\n",
        "### <font color='red'> 19/20  </font> "
      ],
      "metadata": {
        "id": "hUSSeZZb0Ymk"
      }
    },
    {
      "cell_type": "markdown",
      "metadata": {
        "id": "28Ho4WoHARJe"
      },
      "source": [
        "# Exercise 3: ORF finder (30 pts)\n",
        "\n",
        "Again building off the code we wrote last time, we will now write an Open Reading Frame (ORF) finder. This means rather than just blinding translating from the start of the provided DNA sequence, we will want to be mindful of start codons and various reading frames. Your function should return a `list` of possible ORFs translated into amino acid sequences, considering all possible start codons in all possible reading frames. \n",
        "\n",
        "As an example, your code may output something like:\n",
        "`[\"MRPSLRAMHGAVRT*\",\"MHGAVRT*\",\"MAETMLP\",\"MLP\"]`, where some ORFs can be a subset of another ORFs, and some ORFs don't have a terminating stop codon because they've reached the end of the provided sequence.\n",
        "\n",
        "Again, we need to define the dictionary for corresponding codons to amino acids. "
      ]
    },
    {
      "cell_type": "code",
      "metadata": {
        "id": "PZ3ta2PRA3GR"
      },
      "source": [
        "aa_dict = \\\n",
        "{'TTT': 'F', 'TTC': 'F', 'TTA': 'L', 'TTG': 'L', 'TCT': 'S', 'TCC': 'S', \n",
        " 'TCA': 'S', 'TCG': 'S', 'TAT': 'Y', 'TAC': 'Y', 'TAA': '*', 'TAG': '*', \n",
        " 'TGT': 'C', 'TGC': 'C', 'TGA': '*', 'TGG': 'W', 'CTT': 'L', 'CTC': 'L', \n",
        " 'CTA': 'L', 'CTG': 'L', 'CCT': 'P', 'CCC': 'P', 'CCA': 'P', 'CCG': 'P', \n",
        " 'CAT': 'H', 'CAC': 'H', 'CAA': 'Q', 'CAG': 'Q', 'CGT': 'R', 'CGC': 'R', \n",
        " 'CGA': 'R', 'CGG': 'R', 'ATT': 'I', 'ATC': 'I', 'ATA': 'I', 'ATG': 'M', \n",
        " 'ACT': 'T', 'ACC': 'T', 'ACA': 'T', 'ACG': 'T', 'AAT': 'N', 'AAC': 'N', \n",
        " 'AAA': 'K', 'AAG': 'K', 'AGT': 'S', 'AGC': 'S', 'AGA': 'R', 'AGG': 'R', \n",
        " 'GTT': 'V', 'GTC': 'V', 'GTA': 'V', 'GTG': 'V', 'GCT': 'A', 'GCC': 'A', \n",
        " 'GCA': 'A', 'GCG': 'A', 'GAT': 'D', 'GAC': 'D', 'GAA': 'E', 'GAG': 'E', \n",
        " 'GGT': 'G', 'GGC': 'G', 'GGA': 'G', 'GGG': 'G'}"
      ],
      "execution_count": null,
      "outputs": []
    },
    {
      "cell_type": "markdown",
      "source": [
        "And now you can write your function."
      ],
      "metadata": {
        "id": "btJlEdNvhjYO"
      }
    },
    {
      "cell_type": "code",
      "source": [
        " # YOUR CODE HERE\n",
        "def translate(DNA_seq):\n",
        "  string = DNA_seq\n",
        "  n =  3\n",
        "  output_list = []\n",
        "  split_string = [string[i:i+n] for i in range(0, len(string), n)]\n",
        "\n",
        "  for x in split_string:\n",
        "    if x in aa_dict:\n",
        "      if aa_dict[x] == '*':\n",
        "        output_list.append('*')\n",
        "        break\n",
        "      else:\n",
        "        output_list.append(aa_dict[x])\n",
        "  final = \"\".join(output_list)\n",
        "  return final"
      ],
      "metadata": {
        "id": "tb-tlM4Lh2LV"
      },
      "execution_count": null,
      "outputs": []
    },
    {
      "cell_type": "code",
      "metadata": {
        "id": "lvLfVDqPHH9B"
      },
      "source": [
        "def ORF_finder(DNA_seq):\n",
        "  \"\"\"Returns a list of all translated ORFs in the provided\n",
        "  DNA sequence\"\"\"\n",
        "  \n",
        "  ORF = []\n",
        "  \n",
        "  string = DNA_seq\n",
        "  #Find out where ATG is\n",
        "  while 'ATG' in string:\n",
        "    start = string.find('ATG')\n",
        "    start_codons = string.count('ATG')\n",
        "    new_DNA = string[start:]\n",
        "\n",
        "    x =  translate(new_DNA)\n",
        "    string = string[start+1:]\n",
        "\n",
        "    ORF.append(x)\n",
        "  \n",
        "  return ORF"
      ],
      "execution_count": null,
      "outputs": []
    },
    {
      "cell_type": "code",
      "source": [
        "ORF_finder('ATGTTTGGTAATGGATAAGTC')"
      ],
      "metadata": {
        "id": "3RyxDpEq9Qq0",
        "outputId": "97b9b7ce-98d3-4228-ec55-c4fe8d3be3ff",
        "colab": {
          "base_uri": "https://localhost:8080/"
        }
      },
      "execution_count": null,
      "outputs": [
        {
          "output_type": "execute_result",
          "data": {
            "text/plain": [
              "['MFGNG*', 'MDK']"
            ]
          },
          "metadata": {},
          "execution_count": 14
        }
      ]
    },
    {
      "cell_type": "code",
      "source": [
        "ORF_finder('TTTATGGGTATGAGATGATAAGTC')"
      ],
      "metadata": {
        "id": "7aqp8Yd8k-aV",
        "outputId": "b3d20a2e-aace-4f16-cc21-b909477a3214",
        "colab": {
          "base_uri": "https://localhost:8080/"
        }
      },
      "execution_count": null,
      "outputs": [
        {
          "output_type": "execute_result",
          "data": {
            "text/plain": [
              "['MGMR*', 'MR*', 'MIS']"
            ]
          },
          "metadata": {},
          "execution_count": 15
        }
      ]
    },
    {
      "cell_type": "code",
      "source": [
        "ORF_finder(\"ATGCAGCATCAGATGCATCGACAATGCGACGACAGTCAGCATAGACGCA\")"
      ],
      "metadata": {
        "colab": {
          "base_uri": "https://localhost:8080/"
        },
        "id": "qWCNH4iC0uYG",
        "outputId": "5f91cd06-346d-44ab-f25e-f2b52f4cdc81"
      },
      "execution_count": null,
      "outputs": [
        {
          "output_type": "execute_result",
          "data": {
            "text/plain": [
              "['MQHQMHRQCDDSQHRR', 'MHRQCDDSQHRR', 'MRRQSA*']"
            ]
          },
          "metadata": {},
          "execution_count": 16
        }
      ]
    },
    {
      "cell_type": "markdown",
      "source": [
        "### <font color='green'> Well done using a separate function and just calling it in your new one. I've seen lots of unnecessary errors arise when people try to put a function in a function, so keep that up.  </font> \n",
        "\n",
        "### <font color='red'> 30/30  </font> \n",
        "\n",
        "# Overall: 96/100 Great job!"
      ],
      "metadata": {
        "id": "MpJhcuSB0_U3"
      }
    },
    {
      "cell_type": "markdown",
      "source": [
        "Test out your function on a few inputs to make sure it works as expected. A few things you may want to check for:\n",
        "- Does your function find multiple ORFs?\n",
        "- Does your function find overlapping ORFs?\n",
        "- Does your function find ORFs in different reading frames?\n",
        "\n"
      ],
      "metadata": {
        "id": "HCFfDpmECglS"
      }
    },
    {
      "cell_type": "markdown",
      "metadata": {
        "id": "tO945D2MK87G"
      },
      "source": [
        "# How long did this take? \n",
        "\n",
        "With a new course and new assignments, I want to be conscientious with how much time this course takes. Please let me know how long this took, so I can adjust future homeworks if needed.\n",
        "\n",
        "# References\n",
        "\n",
        "If you referenced any external sources for completing this homework, please list them below. (Just the links are fine.)\n",
        "\n",
        "# Submitting your homework\n",
        "\n",
        "Please make sure to state what each group member contribute and have each group member \"sign off\" that they agree they are satisfied with the final submission of this homework.\n",
        "\n",
        "You will submit this homework (and all subsequent homeworks via GitHub). Unless you have an approved extension or opt to submit the homework late (with a 10% deduction per day), your homework will be graded based on what is submitted on GitHub at the time of the deadline. So don't forget to push! "
      ]
    },
    {
      "cell_type": "markdown",
      "source": [
        "Group Member Contributions:\n",
        "Shawn completed problem 1 and helped with pseudocode.\n",
        "Jody completed problem 2 and Maggie helped her debug it.\n",
        "Maggie completed problem 3.\n",
        "\n",
        "References: We went to office hours.\n",
        "\n",
        "Time that this took:\n",
        "Question 1 took about 40 mins. Question 2 took around 2 hours mainly due to debugging. Question 3 took around 2 hours also due to debugging.\n",
        "Signed off by:\n",
        "Maggie Dixon\n",
        "Shawn Muhr\n",
        "Jody Romero"
      ],
      "metadata": {
        "id": "Q4ftlTV4qsnC"
      }
    }
  ]
}