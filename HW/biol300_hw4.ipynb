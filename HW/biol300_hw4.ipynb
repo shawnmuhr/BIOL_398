{
  "nbformat": 4,
  "nbformat_minor": 0,
  "metadata": {
    "colab": {
      "name": "biol300_hw4.ipynb",
      "provenance": [],
      "collapsed_sections": [],
      "include_colab_link": true
    },
    "kernelspec": {
      "name": "python3",
      "display_name": "Python 3"
    },
    "language_info": {
      "name": "python"
    }
  },
  "cells": [
    {
      "cell_type": "markdown",
      "metadata": {
        "id": "view-in-github",
        "colab_type": "text"
      },
      "source": [
        "<a href=\"https://colab.research.google.com/github/shawnmuhr/BIOL_398/blob/main/HW/biol300_hw4.ipynb\" target=\"_parent\"><img src=\"https://colab.research.google.com/assets/colab-badge.svg\" alt=\"Open In Colab\"/></a>"
      ]
    },
    {
      "cell_type": "markdown",
      "source": [
        "# Homework 4 -- to be completed individually\n",
        "\n",
        "The purpose of this homework is largely to prepare you for the first midterm, and as such it is best to complete it individually. This homework may not take that long to complete to a minimal extent, but spending longer on the assignment will serve to better prepare you for the midterm. Largely, the purpose of this homework is to encourage you to review the homeworks up to this point, to ensure you have a strong understanding of how to approach all the problems we've tackled so far. \n",
        "\n",
        "# Problem 1 -- Reviewing data types (10 points)\n",
        "\n",
        "Thus far, we've dealt with four main data types:\n",
        "\n",
        "- floats\n",
        "- lists\n",
        "- strings\n",
        "- dictionaries\n",
        "\n",
        "From the homeworks so far, give one explicit example of when we used each of these data types."
      ],
      "metadata": {
        "id": "YjIEhQW9_KyA"
      }
    },
    {
      "cell_type": "markdown",
      "source": [
        ""
      ],
      "metadata": {
        "id": "xH3NZqLsBscd"
      }
    },
    {
      "cell_type": "markdown",
      "source": [
        "___\n",
        "\n",
        "For the following problems, return to the previous homeworks and compare your code to my solution. For each homework, mention at least one problem or part of a problem where your solution varied from mine. For this, I would encourage looking at a problem that gave you the most difficulty or one you didn't contribute to as much. Explicitly copy my code and your code into this notebook and compare them. What are the pros / cons of the respective approaches? (Mine isn't necessarily 'better'!) If your code originally didn't work, can you explain why now?\n",
        "\n",
        "For each homework, you must compare at least one problem or function, but you are encouraged to do more! The better handle you have on the previous homeworks, the better better prepared you will be to crush the midterm! If you have any questions about my approach to any of the problems, please reach out!\n",
        "\n",
        "# Problem 2 -- Return to Homework 1 (10 points)"
      ],
      "metadata": {
        "id": "XtruVsExBtYT"
      }
    },
    {
      "cell_type": "code",
      "source": [
        ""
      ],
      "metadata": {
        "id": "mzLcBvoCAyhv"
      },
      "execution_count": null,
      "outputs": []
    },
    {
      "cell_type": "markdown",
      "source": [
        "# Problem 3 -- Return to Homework 2 (10 points)"
      ],
      "metadata": {
        "id": "eCNrB6bHDoXB"
      }
    },
    {
      "cell_type": "code",
      "source": [
        ""
      ],
      "metadata": {
        "id": "SAEVtbZCDqg6"
      },
      "execution_count": null,
      "outputs": []
    },
    {
      "cell_type": "markdown",
      "source": [
        "# Problem 4 - Return to Homework 3 (10 points)"
      ],
      "metadata": {
        "id": "P6TX9Z-0DrmG"
      }
    },
    {
      "cell_type": "code",
      "source": [
        ""
      ],
      "metadata": {
        "id": "qWS4lFQ9Dujr"
      },
      "execution_count": null,
      "outputs": []
    },
    {
      "cell_type": "markdown",
      "source": [
        "# Submission\n",
        "\n",
        "When you are done, push this file to your sandbox on GitHub.\n"
      ],
      "metadata": {
        "id": "PBj7OA_IGAz3"
      }
    }
  ]
}