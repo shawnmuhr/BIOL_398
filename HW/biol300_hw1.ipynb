{
  "nbformat": 4,
  "nbformat_minor": 0,
  "metadata": {
    "colab": {
      "name": "biol300_hw1.ipynb",
      "provenance": [],
      "collapsed_sections": [],
      "toc_visible": true,
      "include_colab_link": true
    },
    "kernelspec": {
      "name": "python3",
      "display_name": "Python 3"
    },
    "language_info": {
      "name": "python"
    }
  },
  "cells": [
    {
      "cell_type": "markdown",
      "metadata": {
        "id": "view-in-github",
        "colab_type": "text"
      },
      "source": [
        "<a href=\"https://colab.research.google.com/github/shawnmuhr/BIOL_398/blob/main/HW/biol300_hw1.ipynb\" target=\"_parent\"><img src=\"https://colab.research.google.com/assets/colab-badge.svg\" alt=\"Open In Colab\"/></a>"
      ]
    },
    {
      "cell_type": "code",
      "metadata": {
        "id": "swcTzyQY-hLV"
      },
      "source": [
        "import random"
      ],
      "execution_count": null,
      "outputs": []
    },
    {
      "cell_type": "markdown",
      "metadata": {
        "id": "KVGco6Gx2Pk7"
      },
      "source": [
        "# Exercise 1 (10 pts)\n",
        "\n",
        "Concepts: Control Flow, Loops, Functions, Stings\n",
        "\n",
        "Task: Write a function that will compute the GC content of a given DNA sequence. GC content is the fraction of the sequence that is made up of guanines and cytosines (as opposed to adenines and thymines).  "
      ]
    },
    {
      "cell_type": "code",
      "metadata": {
        "id": "qboZAu4-2tmO"
      },
      "source": [
        " def GC_content(DNA_seq):\n",
        "  \"\"\"Computes the GC content (as a float) given the provided DNA sequence \n",
        "  (as a string)\"\"\"\n",
        "  # YOUR CODE HERE\n",
        "\n",
        "  return "
      ],
      "execution_count": null,
      "outputs": []
    },
    {
      "cell_type": "code",
      "metadata": {
        "id": "zc65NNUu5PwO"
      },
      "source": [
        "GC_content(\"ATCG\")"
      ],
      "execution_count": null,
      "outputs": []
    },
    {
      "cell_type": "markdown",
      "source": [
        "As an example, running `GC_content(\"ATCG\")` above should return `0.5`. Try your funtion out with a few other different sequences and dispaly the results to confrim that your function works as expected:"
      ],
      "metadata": {
        "id": "sA4WNxyQDFVo"
      }
    },
    {
      "cell_type": "code",
      "source": [
        "# TEST YOUR CODE HERE"
      ],
      "metadata": {
        "id": "tMMk6rrFDOEq"
      },
      "execution_count": null,
      "outputs": []
    },
    {
      "cell_type": "markdown",
      "metadata": {
        "id": "tvlp-tg74q24"
      },
      "source": [
        "# Exercise 2 (10 pts)\n",
        "\n",
        "Concepts: Control Flow, Functions, Modules\n",
        "\n",
        "Task: Write a function that will mutate a given nucleotide (A, T, C, or G) to any *other* nucleotide. For this, you will want to make use of functions in the `random` module. Note that I have already imported the `random` module at the top of this file, which is generally accepted as good practice.\n",
        "\n"
      ]
    },
    {
      "cell_type": "code",
      "metadata": {
        "id": "mRuQLEqX45fV"
      },
      "source": [
        "def mutate_nt(nt):\n",
        "  \"\"\"Returns a randomly selected mutated nucleotide from the inputted \n",
        "  nucleotide\"\"\"\n",
        "  # YOUR CODE HERE\n",
        "\n",
        "  return"
      ],
      "execution_count": null,
      "outputs": []
    },
    {
      "cell_type": "code",
      "metadata": {
        "colab": {
          "base_uri": "https://localhost:8080/"
        },
        "id": "oxwqOmYy_4WV",
        "outputId": "80666651-9a04-4086-b980-ffaddc5716d9"
      },
      "source": [
        "print(mutate_nt(\"A\"))\n",
        "print(mutate_nt(\"T\"))\n",
        "print(mutate_nt(\"C\"))\n",
        "print(mutate_nt(\"G\"))"
      ],
      "execution_count": null,
      "outputs": [
        {
          "output_type": "stream",
          "name": "stdout",
          "text": [
            "None\n",
            "None\n",
            "None\n",
            "None\n"
          ]
        }
      ]
    },
    {
      "cell_type": "markdown",
      "metadata": {
        "id": "28Ho4WoHARJe"
      },
      "source": [
        "Run the cell above a couple times to verify that your results are in fact random. Also make sure that you actually mutate the DNA and don't return the same nucleotide as was provided! \n",
        "\n",
        "# Exercise 3 (20 pts)\n",
        "\n",
        "Concepts: Control Flow, Loops, Functions, Strings, Dictionaries\n",
        "\n",
        "Task: Write a function that will \"translate\" a given DNA sequence into the corresponding amino acids sequence. For this, the data structure of a `dictionary` will be extremely useful. Below I save a dictionary where the *keys* are the three-basepair codons and the *values* are the corresponding one-letter code for the amino acid. Note that the stop codons are denoted with `*`."
      ]
    },
    {
      "cell_type": "code",
      "metadata": {
        "id": "PZ3ta2PRA3GR"
      },
      "source": [
        "aa_dict = \\\n",
        "{'TTT': 'F', 'TTC': 'F', 'TTA': 'L', 'TTG': 'L', 'TCT': 'S', 'TCC': 'S', \n",
        " 'TCA': 'S', 'TCG': 'S', 'TAT': 'Y', 'TAC': 'Y', 'TAA': '*', 'TAG': '*', \n",
        " 'TGT': 'C', 'TGC': 'C', 'TGA': '*', 'TGG': 'W', 'CTT': 'L', 'CTC': 'L', \n",
        " 'CTA': 'L', 'CTG': 'L', 'CCT': 'P', 'CCC': 'P', 'CCA': 'P', 'CCG': 'P', \n",
        " 'CAT': 'H', 'CAC': 'H', 'CAA': 'Q', 'CAG': 'Q', 'CGT': 'R', 'CGC': 'R', \n",
        " 'CGA': 'R', 'CGG': 'R', 'ATT': 'I', 'ATC': 'I', 'ATA': 'I', 'ATG': 'M', \n",
        " 'ACT': 'T', 'ACC': 'T', 'ACA': 'T', 'ACG': 'T', 'AAT': 'N', 'AAC': 'N', \n",
        " 'AAA': 'K', 'AAG': 'K', 'AGT': 'S', 'AGC': 'S', 'AGA': 'R', 'AGG': 'R', \n",
        " 'GTT': 'V', 'GTC': 'V', 'GTA': 'V', 'GTG': 'V', 'GCT': 'A', 'GCC': 'A', \n",
        " 'GCA': 'A', 'GCG': 'A', 'GAT': 'D', 'GAC': 'D', 'GAA': 'E', 'GAG': 'E', \n",
        " 'GGT': 'G', 'GGC': 'G', 'GGA': 'G', 'GGG': 'G'}"
      ],
      "execution_count": null,
      "outputs": []
    },
    {
      "cell_type": "markdown",
      "metadata": {
        "id": "YvPHcjACE82_"
      },
      "source": [
        "With this dictionary, you should be able to loop through a DNA sequence in chunks of three basepairs to get the corresponding amino acid sequence. For this, we won't worry about looking for a start codon (we will just start reading off the DNA at the beginning), but you should make sure to terminate the sequence if there's a stop codon."
      ]
    },
    {
      "cell_type": "code",
      "metadata": {
        "id": "lvLfVDqPHH9B"
      },
      "source": [
        "def translate(DNA_seq):\n",
        "  \"\"\"Returns a string of the amino acid sequence that results from translating\n",
        "  the inputted DNA sequence\"\"\"\n",
        "  # YOUR CODE HERE\n"
      ],
      "execution_count": null,
      "outputs": []
    },
    {
      "cell_type": "markdown",
      "source": [
        "Below, test out your function on a few single codons. Does it return what you expect?\n",
        "\n"
      ],
      "metadata": {
        "id": "HCFfDpmECglS"
      }
    },
    {
      "cell_type": "code",
      "source": [
        "# TEST YOUR CODE HERE"
      ],
      "metadata": {
        "id": "Hl9PbG9gDiyv"
      },
      "execution_count": null,
      "outputs": []
    },
    {
      "cell_type": "markdown",
      "source": [
        "Next, test your function on slightly more complicated sequences, ones with more than one codon. \n",
        "\n",
        "As you test your function, consider how it responds if the DNA sequence length is not multiple of 3. If your function currently gives an error, address this bug before proceeding. "
      ],
      "metadata": {
        "id": "eDdyuNhCDpYt"
      }
    },
    {
      "cell_type": "code",
      "source": [
        "# TEST YOUR CODE HERE"
      ],
      "metadata": {
        "id": "IcTo8yrDFf4j"
      },
      "execution_count": null,
      "outputs": []
    },
    {
      "cell_type": "markdown",
      "source": [
        "As a final test, we will now translate a longer sequence, one that would be a bit tedious to translate by hand. Make sure the code cell below returns `TRUE`."
      ],
      "metadata": {
        "id": "3DjVoZ7eFkkP"
      }
    },
    {
      "cell_type": "code",
      "metadata": {
        "id": "BnkPdcNDHfQj",
        "colab": {
          "base_uri": "https://localhost:8080/"
        },
        "outputId": "532faaeb-300a-44b3-dd50-c23798c78266"
      },
      "source": [
        "translate(\"ATGATCAGCATCATACTACGACTACAATCAGCATCATACAGCATATAGCATCATCACTA\") == 'MISIILRLQSASYSI*'"
      ],
      "execution_count": null,
      "outputs": [
        {
          "output_type": "execute_result",
          "data": {
            "text/plain": [
              "True"
            ]
          },
          "metadata": {},
          "execution_count": 11
        }
      ]
    },
    {
      "cell_type": "markdown",
      "metadata": {
        "id": "tO945D2MK87G"
      },
      "source": [
        "# How long did this take? \n",
        "\n",
        "With a new course and new assignments, I want to be conscientious with how much time this course take. Please let me know how long this took, so I can adjust future homeworks if needed.\n",
        "\n",
        "# Submitting your homework\n",
        "\n",
        "- Rename your version of this document as `biol300_hw1_FIRSTNAME_LASTNAME.ipynb`. \n",
        "- Go to File, then Download, and download this document as `.ipynb` \n",
        "- Upload this downloaded `.ipynb` file on Canvas for your HW1 submission."
      ]
    },
    {
      "cell_type": "code",
      "source": [
        "dd={\"ji\":\"jo\"}"
      ],
      "metadata": {
        "id": "6sgvFLSCGuiJ"
      },
      "execution_count": null,
      "outputs": []
    },
    {
      "cell_type": "code",
      "source": [
        "dd[key:'ji']"
      ],
      "metadata": {
        "colab": {
          "base_uri": "https://localhost:8080/",
          "height": 166
        },
        "id": "T4IqFNIyH3Tj",
        "outputId": "5a62c89c-cc1b-4297-8a14-b3a05e0bbb25"
      },
      "execution_count": null,
      "outputs": [
        {
          "output_type": "error",
          "ename": "NameError",
          "evalue": "ignored",
          "traceback": [
            "\u001b[0;31m---------------------------------------------------------------------------\u001b[0m",
            "\u001b[0;31mNameError\u001b[0m                                 Traceback (most recent call last)",
            "\u001b[0;32m<ipython-input-22-1e1c3cbb8579>\u001b[0m in \u001b[0;36m<module>\u001b[0;34m()\u001b[0m\n\u001b[0;32m----> 1\u001b[0;31m \u001b[0mdd\u001b[0m\u001b[0;34m[\u001b[0m\u001b[0mkey\u001b[0m\u001b[0;34m:\u001b[0m\u001b[0;34m'ji'\u001b[0m\u001b[0;34m]\u001b[0m\u001b[0;34m\u001b[0m\u001b[0;34m\u001b[0m\u001b[0m\n\u001b[0m",
            "\u001b[0;31mNameError\u001b[0m: name 'key' is not defined"
          ]
        }
      ]
    },
    {
      "cell_type": "code",
      "source": [
        "\"hu\".reverse()"
      ],
      "metadata": {
        "colab": {
          "base_uri": "https://localhost:8080/",
          "height": 166
        },
        "id": "V8dY82pqH7QV",
        "outputId": "3472af79-1a22-482b-ec5a-1199eb8d95c1"
      },
      "execution_count": null,
      "outputs": [
        {
          "output_type": "error",
          "ename": "AttributeError",
          "evalue": "ignored",
          "traceback": [
            "\u001b[0;31m---------------------------------------------------------------------------\u001b[0m",
            "\u001b[0;31mAttributeError\u001b[0m                            Traceback (most recent call last)",
            "\u001b[0;32m<ipython-input-5-37859560df1d>\u001b[0m in \u001b[0;36m<module>\u001b[0;34m()\u001b[0m\n\u001b[0;32m----> 1\u001b[0;31m \u001b[0;34m\"hu\"\u001b[0m\u001b[0;34m.\u001b[0m\u001b[0mreverse\u001b[0m\u001b[0;34m(\u001b[0m\u001b[0;34m)\u001b[0m\u001b[0;34m\u001b[0m\u001b[0;34m\u001b[0m\u001b[0m\n\u001b[0m",
            "\u001b[0;31mAttributeError\u001b[0m: 'str' object has no attribute 'reverse'"
          ]
        }
      ]
    },
    {
      "cell_type": "code",
      "source": [
        ""
      ],
      "metadata": {
        "id": "IT-lw_yrIzgp"
      },
      "execution_count": null,
      "outputs": []
    }
  ]
}