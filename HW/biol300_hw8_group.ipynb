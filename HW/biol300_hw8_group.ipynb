{
  "nbformat": 4,
  "nbformat_minor": 0,
  "metadata": {
    "colab": {
      "name": "biol300_hw8_group.ipynb",
      "provenance": [],
      "collapsed_sections": [],
      "include_colab_link": true
    },
    "kernelspec": {
      "name": "python3",
      "display_name": "Python 3"
    },
    "language_info": {
      "name": "python"
    }
  },
  "cells": [
    {
      "cell_type": "markdown",
      "metadata": {
        "id": "view-in-github",
        "colab_type": "text"
      },
      "source": [
        "<a href=\"https://colab.research.google.com/github/shawnmuhr/BIOL_398/blob/main/HW/biol300_hw8_group.ipynb\" target=\"_parent\"><img src=\"https://colab.research.google.com/assets/colab-badge.svg\" alt=\"Open In Colab\"/></a>"
      ]
    },
    {
      "cell_type": "code",
      "execution_count": null,
      "metadata": {
        "id": "zYNfO-w9js6d"
      },
      "outputs": [],
      "source": [
        "import numpy as np\n",
        "import pandas as pd"
      ]
    },
    {
      "cell_type": "markdown",
      "source": [
        "# Problem 1: Dance of the p_values (20 points)"
      ],
      "metadata": {
        "id": "c-XDdpaVkJA6"
      }
    },
    {
      "cell_type": "markdown",
      "source": [
        "For this, we will return to frogs 2 and 3, the two frogs for which we were unable to reject the null hypothesis for having the same mean with a permutation test."
      ],
      "metadata": {
        "id": "SHV3kBJqky_q"
      }
    },
    {
      "cell_type": "code",
      "source": [
        "frog2 = np.array([1612,  605,  327,  946,  541, 1539,  529,  628, 1453,  297,  703,\n",
        "        269,  751,  245, 1182,  515,  435,  383,  457,  730])\n",
        "frog3 = np.array([614, 414, 324, 776, 611, 544, 538, 579, 806, 459, 458, 626, 621,\n",
        "       544, 535, 385, 401, 614, 665, 488])"
      ],
      "metadata": {
        "id": "gv58dch8j4oP"
      },
      "execution_count": null,
      "outputs": []
    },
    {
      "cell_type": "markdown",
      "source": [
        "A. Repeat your permutation test 100 times. Record the p-value you get each time."
      ],
      "metadata": {
        "id": "UhsHzcQuGwzW"
      }
    },
    {
      "cell_type": "code",
      "source": [
        ""
      ],
      "metadata": {
        "id": "9hXg2N7fkO5d"
      },
      "execution_count": null,
      "outputs": []
    },
    {
      "cell_type": "markdown",
      "source": [
        "B. Plot an ECDF of the p-values from the repeated permutation tests. How much do the p-values vary by? Would your decision to reject the null hypothesis or not change from repeating the permutation test?"
      ],
      "metadata": {
        "id": "fNL1MO9oG9Wf"
      }
    },
    {
      "cell_type": "code",
      "source": [
        ""
      ],
      "metadata": {
        "id": "DQnxVDUSIHHo"
      },
      "execution_count": null,
      "outputs": []
    },
    {
      "cell_type": "markdown",
      "source": [
        "While the p-values may not have varied that much in the previous part, a more interesting and more applicable question would be how much the p-value would change if we were to *repeat the experiment itself*. For this, we can simulate getting the data from frogs 2 and 3 again, by sampling from our data with replacement. As a reminder, this is how you can sample with replacement: `np.random.choice(frog2, size=20, replace=True)`.\n",
        "\n",
        "C. For 100 trials, sample the two frogs with replacement to generate data as if we had repeated the experiment. With this newly sampled data, conduct a permutation test and save the p-value.\n"
      ],
      "metadata": {
        "id": "zMZN2-GlIHln"
      }
    },
    {
      "cell_type": "code",
      "source": [
        ""
      ],
      "metadata": {
        "id": "1_jd3iAzJZXM"
      },
      "execution_count": null,
      "outputs": []
    },
    {
      "cell_type": "markdown",
      "source": [
        "D. Plot an ECDF of these p-values that resulted from resampling the data for each permutation test. How much to the p-values vary by now? "
      ],
      "metadata": {
        "id": "Exccc7JlJbIh"
      }
    },
    {
      "cell_type": "code",
      "source": [
        ""
      ],
      "metadata": {
        "id": "X7NIJxSTJaD4"
      },
      "execution_count": null,
      "outputs": []
    },
    {
      "cell_type": "markdown",
      "source": [
        "E. Explain how this exercise serves as a cautionary tale regarding the reliance on p-values in experimental work."
      ],
      "metadata": {
        "id": "bq42IfndJr77"
      }
    },
    {
      "cell_type": "code",
      "source": [
        ""
      ],
      "metadata": {
        "id": "mx7dRK0hJ5x1"
      },
      "execution_count": null,
      "outputs": []
    },
    {
      "cell_type": "markdown",
      "source": [
        "# Problem 2: Darwin's finches (20 points)\n",
        "\n",
        "The following data come from Peter and Rosemary Grant of Princeton University, who have visited the island of Daphne Major on the Galápagos every year for over forty years and have been taking a careful inventory of the finches there. The Grants recently published a wonderful book, [40 years of evolution: Darwin's finches on Daphne Major Island](https://press.princeton.edu/books/hardcover/9780691160467/40-years-of-evolution). They were generous and made their data publicly available on [the Dryad data repository](https://datadryad.org/stash/dataset/doi:10.5061/dryad.g6g3h). (In general, it is a very good idea to put your published data in public data repositories, both to preserve the data and also to make your findings public.) We will be using this data set to learn about evolution of Darwin's finches and use your \"hacker\" statistics skills. \n",
        "\n",
        "We will focus on the primary two species of ground finch on Daphne Major, *Geospiza fortis* and *Geospiza scandens*. In this data set, you will find measurements of the beak length (tip to base) and beak depth (top to bottom) of these finches in the years 1973, 1975, 1987, 1991, and 2012. Also included in that data set is the band number for the bird, which gives a unique identifier."
      ],
      "metadata": {
        "id": "TWAI5AaSKIzT"
      }
    },
    {
      "cell_type": "code",
      "source": [
        "from google.colab import drive\n",
        "drive.mount('/content/drive')"
      ],
      "metadata": {
        "colab": {
          "base_uri": "https://localhost:8080/"
        },
        "id": "Z5wo9tXgKMIl",
        "outputId": "1fe7aed9-4481-4046-9018-43bc1f821dd9"
      },
      "execution_count": null,
      "outputs": [
        {
          "output_type": "stream",
          "name": "stdout",
          "text": [
            "Mounted at /content/drive\n"
          ]
        }
      ]
    },
    {
      "cell_type": "code",
      "source": [
        "path = \"/content/drive/MyDrive/BIOL300_S22/data/finch_beaks.csv\"\n",
        "df = pd.read_csv(path)\n",
        "df.head()"
      ],
      "metadata": {
        "colab": {
          "base_uri": "https://localhost:8080/",
          "height": 206
        },
        "id": "R8PUviL1dqSH",
        "outputId": "8b3359dd-a3d0-4ff6-a69d-439cc15aa9f7"
      },
      "execution_count": null,
      "outputs": [
        {
          "output_type": "execute_result",
          "data": {
            "text/plain": [
              "    band species  year  beak length (mm)  beak depth (mm)\n",
              "0  20123  fortis  1973              9.25             8.05\n",
              "1  20126  fortis  1973             11.35            10.45\n",
              "2  20128  fortis  1973             10.15             9.55\n",
              "3  20129  fortis  1973              9.95             8.75\n",
              "4  20133  fortis  1973             11.55            10.15"
            ],
            "text/html": [
              "\n",
              "  <div id=\"df-2ac7e8c5-44bf-4b90-b829-025445276165\">\n",
              "    <div class=\"colab-df-container\">\n",
              "      <div>\n",
              "<style scoped>\n",
              "    .dataframe tbody tr th:only-of-type {\n",
              "        vertical-align: middle;\n",
              "    }\n",
              "\n",
              "    .dataframe tbody tr th {\n",
              "        vertical-align: top;\n",
              "    }\n",
              "\n",
              "    .dataframe thead th {\n",
              "        text-align: right;\n",
              "    }\n",
              "</style>\n",
              "<table border=\"1\" class=\"dataframe\">\n",
              "  <thead>\n",
              "    <tr style=\"text-align: right;\">\n",
              "      <th></th>\n",
              "      <th>band</th>\n",
              "      <th>species</th>\n",
              "      <th>year</th>\n",
              "      <th>beak length (mm)</th>\n",
              "      <th>beak depth (mm)</th>\n",
              "    </tr>\n",
              "  </thead>\n",
              "  <tbody>\n",
              "    <tr>\n",
              "      <th>0</th>\n",
              "      <td>20123</td>\n",
              "      <td>fortis</td>\n",
              "      <td>1973</td>\n",
              "      <td>9.25</td>\n",
              "      <td>8.05</td>\n",
              "    </tr>\n",
              "    <tr>\n",
              "      <th>1</th>\n",
              "      <td>20126</td>\n",
              "      <td>fortis</td>\n",
              "      <td>1973</td>\n",
              "      <td>11.35</td>\n",
              "      <td>10.45</td>\n",
              "    </tr>\n",
              "    <tr>\n",
              "      <th>2</th>\n",
              "      <td>20128</td>\n",
              "      <td>fortis</td>\n",
              "      <td>1973</td>\n",
              "      <td>10.15</td>\n",
              "      <td>9.55</td>\n",
              "    </tr>\n",
              "    <tr>\n",
              "      <th>3</th>\n",
              "      <td>20129</td>\n",
              "      <td>fortis</td>\n",
              "      <td>1973</td>\n",
              "      <td>9.95</td>\n",
              "      <td>8.75</td>\n",
              "    </tr>\n",
              "    <tr>\n",
              "      <th>4</th>\n",
              "      <td>20133</td>\n",
              "      <td>fortis</td>\n",
              "      <td>1973</td>\n",
              "      <td>11.55</td>\n",
              "      <td>10.15</td>\n",
              "    </tr>\n",
              "  </tbody>\n",
              "</table>\n",
              "</div>\n",
              "      <button class=\"colab-df-convert\" onclick=\"convertToInteractive('df-2ac7e8c5-44bf-4b90-b829-025445276165')\"\n",
              "              title=\"Convert this dataframe to an interactive table.\"\n",
              "              style=\"display:none;\">\n",
              "        \n",
              "  <svg xmlns=\"http://www.w3.org/2000/svg\" height=\"24px\"viewBox=\"0 0 24 24\"\n",
              "       width=\"24px\">\n",
              "    <path d=\"M0 0h24v24H0V0z\" fill=\"none\"/>\n",
              "    <path d=\"M18.56 5.44l.94 2.06.94-2.06 2.06-.94-2.06-.94-.94-2.06-.94 2.06-2.06.94zm-11 1L8.5 8.5l.94-2.06 2.06-.94-2.06-.94L8.5 2.5l-.94 2.06-2.06.94zm10 10l.94 2.06.94-2.06 2.06-.94-2.06-.94-.94-2.06-.94 2.06-2.06.94z\"/><path d=\"M17.41 7.96l-1.37-1.37c-.4-.4-.92-.59-1.43-.59-.52 0-1.04.2-1.43.59L10.3 9.45l-7.72 7.72c-.78.78-.78 2.05 0 2.83L4 21.41c.39.39.9.59 1.41.59.51 0 1.02-.2 1.41-.59l7.78-7.78 2.81-2.81c.8-.78.8-2.07 0-2.86zM5.41 20L4 18.59l7.72-7.72 1.47 1.35L5.41 20z\"/>\n",
              "  </svg>\n",
              "      </button>\n",
              "      \n",
              "  <style>\n",
              "    .colab-df-container {\n",
              "      display:flex;\n",
              "      flex-wrap:wrap;\n",
              "      gap: 12px;\n",
              "    }\n",
              "\n",
              "    .colab-df-convert {\n",
              "      background-color: #E8F0FE;\n",
              "      border: none;\n",
              "      border-radius: 50%;\n",
              "      cursor: pointer;\n",
              "      display: none;\n",
              "      fill: #1967D2;\n",
              "      height: 32px;\n",
              "      padding: 0 0 0 0;\n",
              "      width: 32px;\n",
              "    }\n",
              "\n",
              "    .colab-df-convert:hover {\n",
              "      background-color: #E2EBFA;\n",
              "      box-shadow: 0px 1px 2px rgba(60, 64, 67, 0.3), 0px 1px 3px 1px rgba(60, 64, 67, 0.15);\n",
              "      fill: #174EA6;\n",
              "    }\n",
              "\n",
              "    [theme=dark] .colab-df-convert {\n",
              "      background-color: #3B4455;\n",
              "      fill: #D2E3FC;\n",
              "    }\n",
              "\n",
              "    [theme=dark] .colab-df-convert:hover {\n",
              "      background-color: #434B5C;\n",
              "      box-shadow: 0px 1px 3px 1px rgba(0, 0, 0, 0.15);\n",
              "      filter: drop-shadow(0px 1px 2px rgba(0, 0, 0, 0.3));\n",
              "      fill: #FFFFFF;\n",
              "    }\n",
              "  </style>\n",
              "\n",
              "      <script>\n",
              "        const buttonEl =\n",
              "          document.querySelector('#df-2ac7e8c5-44bf-4b90-b829-025445276165 button.colab-df-convert');\n",
              "        buttonEl.style.display =\n",
              "          google.colab.kernel.accessAllowed ? 'block' : 'none';\n",
              "\n",
              "        async function convertToInteractive(key) {\n",
              "          const element = document.querySelector('#df-2ac7e8c5-44bf-4b90-b829-025445276165');\n",
              "          const dataTable =\n",
              "            await google.colab.kernel.invokeFunction('convertToInteractive',\n",
              "                                                     [key], {});\n",
              "          if (!dataTable) return;\n",
              "\n",
              "          const docLinkHtml = 'Like what you see? Visit the ' +\n",
              "            '<a target=\"_blank\" href=https://colab.research.google.com/notebooks/data_table.ipynb>data table notebook</a>'\n",
              "            + ' to learn more about interactive tables.';\n",
              "          element.innerHTML = '';\n",
              "          dataTable['output_type'] = 'display_data';\n",
              "          await google.colab.output.renderOutput(dataTable, element);\n",
              "          const docLink = document.createElement('div');\n",
              "          docLink.innerHTML = docLinkHtml;\n",
              "          element.appendChild(docLink);\n",
              "        }\n",
              "      </script>\n",
              "    </div>\n",
              "  </div>\n",
              "  "
            ]
          },
          "metadata": {},
          "execution_count": 4
        }
      ]
    },
    {
      "cell_type": "markdown",
      "source": [
        "A. Plot ECDFs of the beak depths of G*eospiza scandens* in 1975 and in 2012, and comment on what you see."
      ],
      "metadata": {
        "id": "DQ61IbRfe7rD"
      }
    },
    {
      "cell_type": "code",
      "source": [
        ""
      ],
      "metadata": {
        "id": "f37w-pK8fBWn"
      },
      "execution_count": null,
      "outputs": []
    },
    {
      "cell_type": "markdown",
      "source": [
        "B. For the *scandens* data in 1975, sample the data 10,000 times with replacement and record the mean with each sample. Sort these samples and find the 2.5th and 97.5th percentiles. The range between these two values is what is known as the 95% confidence interval, meaning that 95% of the sample lie within this range. "
      ],
      "metadata": {
        "id": "kYYSK56tfMOK"
      }
    },
    {
      "cell_type": "code",
      "source": [
        ""
      ],
      "metadata": {
        "id": "ytMpxm5MhEzJ"
      },
      "execution_count": null,
      "outputs": []
    },
    {
      "cell_type": "markdown",
      "source": [
        "C. Now get the *scandens* 95% confidence interval for the year 2012. Comment on the overlap (if any) of the confidence intervals from 1975 and 2012."
      ],
      "metadata": {
        "id": "xSWAvNXZhFkL"
      }
    },
    {
      "cell_type": "code",
      "source": [
        ""
      ],
      "metadata": {
        "id": "FxphcXc8fLkN"
      },
      "execution_count": null,
      "outputs": []
    },
    {
      "cell_type": "markdown",
      "source": [
        "D. Perform a hypothesis test comparing the G. scandens beak depths in 1975 and 2012. Carefully state your null hypothesis, your test statistic, and your definition of what it means to be at least as extreme as the test statistic. Comment on the results. "
      ],
      "metadata": {
        "id": "DMPLJw4fhhMd"
      }
    },
    {
      "cell_type": "code",
      "source": [
        ""
      ],
      "metadata": {
        "id": "dFKl1N5ph34B"
      },
      "execution_count": null,
      "outputs": []
    },
    {
      "cell_type": "markdown",
      "source": [
        "E. It might be interesting to know that a severe drought in 1976 and 1977 resulted in the death of the plants that produce small seeds on the island. Hypothesize what might have happened to the scandens beaks from 1975 to 2012."
      ],
      "metadata": {
        "id": "TvwYV-q3h4Ne"
      }
    },
    {
      "cell_type": "code",
      "source": [
        ""
      ],
      "metadata": {
        "id": "lovisjVfjF9Q"
      },
      "execution_count": null,
      "outputs": []
    }
  ]
}