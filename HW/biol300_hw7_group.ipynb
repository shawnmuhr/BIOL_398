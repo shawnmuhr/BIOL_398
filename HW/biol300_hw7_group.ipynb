{
  "nbformat": 4,
  "nbformat_minor": 0,
  "metadata": {
    "colab": {
      "name": "biol300_hw7_group.ipynb",
      "provenance": [],
      "collapsed_sections": [],
      "include_colab_link": true
    },
    "kernelspec": {
      "name": "python3",
      "display_name": "Python 3"
    },
    "language_info": {
      "name": "python"
    }
  },
  "cells": [
    {
      "cell_type": "markdown",
      "metadata": {
        "id": "view-in-github",
        "colab_type": "text"
      },
      "source": [
        "<a href=\"https://colab.research.google.com/github/shawnmuhr/BIOL_398/blob/main/HW/biol300_hw7_group.ipynb\" target=\"_parent\"><img src=\"https://colab.research.google.com/assets/colab-badge.svg\" alt=\"Open In Colab\"/></a>"
      ]
    },
    {
      "cell_type": "code",
      "execution_count": null,
      "metadata": {
        "id": "kgB8pQc_xuXF"
      },
      "outputs": [],
      "source": [
        "import pandas as pd"
      ]
    },
    {
      "cell_type": "code",
      "source": [
        "from google.colab import drive\n",
        "drive.mount('/content/drive')"
      ],
      "metadata": {
        "colab": {
          "base_uri": "https://localhost:8080/"
        },
        "id": "XQlbmx0bx54H",
        "outputId": "9cd5ad2e-d67c-40fd-fe16-645109c107e0"
      },
      "execution_count": null,
      "outputs": [
        {
          "output_type": "stream",
          "name": "stdout",
          "text": [
            "Mounted at /content/drive\n"
          ]
        }
      ]
    },
    {
      "cell_type": "markdown",
      "source": [
        "# Problem 1 (30 points)\n",
        "\n",
        "At the end of the individual portion, you should have had a list of all the image file names for the jellyfish during the day. \n",
        "\n",
        "A. Now loop through those images, extract out the box for the third jellyfish, and save the total intensity of the box at each frame.\n",
        "\n"
      ],
      "metadata": {
        "id": "ZhjkwvVlx254"
      }
    },
    {
      "cell_type": "code",
      "source": [
        ""
      ],
      "metadata": {
        "id": "0nFyDnmWdb1x"
      },
      "execution_count": null,
      "outputs": []
    },
    {
      "cell_type": "markdown",
      "source": [
        "B. Plot these intensities over time. To set the x-axis you'll need to use the fact that there were 15 frames per second. How many pulses do you see during these 10 seconds?"
      ],
      "metadata": {
        "id": "PaUANlzxdcJW"
      }
    },
    {
      "cell_type": "code",
      "source": [
        ""
      ],
      "metadata": {
        "id": "bawOi-UmdyLG"
      },
      "execution_count": null,
      "outputs": []
    },
    {
      "cell_type": "markdown",
      "source": [
        "C. Repeat the analysis for this same jellyfish, but for the images taken at night. How many times does the jellyfish pulse at night?"
      ],
      "metadata": {
        "id": "r1ZcYcUfdyfL"
      }
    },
    {
      "cell_type": "code",
      "source": [
        ""
      ],
      "metadata": {
        "id": "czfGjCmVePIu"
      },
      "execution_count": null,
      "outputs": []
    },
    {
      "cell_type": "markdown",
      "source": [
        "D. What differences do you notice in the jellyfish between night and day?"
      ],
      "metadata": {
        "id": "_lZLOYWxePaq"
      }
    },
    {
      "cell_type": "markdown",
      "source": [
        "It turns out that these single 10-second clips don't make the differences between the night and day particular clear. Now that you have a sense of how these data were analyzed, let's take a look at the values for a much longer time frame, without messing with the images themselves. Below is the dataframe of values for 250+ seconds of images (as analyzed by yours truly!).\n"
      ],
      "metadata": {
        "id": "gNhgUTYvf8_l"
      }
    },
    {
      "cell_type": "code",
      "source": [
        "df = pd.read_csv(\"/content/drive/MyDrive/BIOL300_S22/data/jellyfish_values.csv\")\n",
        "df.head()"
      ],
      "metadata": {
        "colab": {
          "base_uri": "https://localhost:8080/",
          "height": 206
        },
        "id": "cyPL_cX-xQu2",
        "outputId": "2cd1729c-4870-4bf5-cd69-7281d8dd7e9a"
      },
      "execution_count": null,
      "outputs": [
        {
          "output_type": "execute_result",
          "data": {
            "text/html": [
              "\n",
              "  <div id=\"df-a11d97ce-77af-4792-b59d-2c740e630831\">\n",
              "    <div class=\"colab-df-container\">\n",
              "      <div>\n",
              "<style scoped>\n",
              "    .dataframe tbody tr th:only-of-type {\n",
              "        vertical-align: middle;\n",
              "    }\n",
              "\n",
              "    .dataframe tbody tr th {\n",
              "        vertical-align: top;\n",
              "    }\n",
              "\n",
              "    .dataframe thead th {\n",
              "        text-align: right;\n",
              "    }\n",
              "</style>\n",
              "<table border=\"1\" class=\"dataframe\">\n",
              "  <thead>\n",
              "    <tr style=\"text-align: right;\">\n",
              "      <th></th>\n",
              "      <th>time (s)</th>\n",
              "      <th>day</th>\n",
              "      <th>night</th>\n",
              "    </tr>\n",
              "  </thead>\n",
              "  <tbody>\n",
              "    <tr>\n",
              "      <th>0</th>\n",
              "      <td>0.000000</td>\n",
              "      <td>4.073090</td>\n",
              "      <td>9.195357</td>\n",
              "    </tr>\n",
              "    <tr>\n",
              "      <th>1</th>\n",
              "      <td>0.066667</td>\n",
              "      <td>3.925700</td>\n",
              "      <td>9.073050</td>\n",
              "    </tr>\n",
              "    <tr>\n",
              "      <th>2</th>\n",
              "      <td>0.133333</td>\n",
              "      <td>3.785661</td>\n",
              "      <td>9.073950</td>\n",
              "    </tr>\n",
              "    <tr>\n",
              "      <th>3</th>\n",
              "      <td>0.200000</td>\n",
              "      <td>3.715860</td>\n",
              "      <td>9.099444</td>\n",
              "    </tr>\n",
              "    <tr>\n",
              "      <th>4</th>\n",
              "      <td>0.266667</td>\n",
              "      <td>3.666644</td>\n",
              "      <td>9.229641</td>\n",
              "    </tr>\n",
              "  </tbody>\n",
              "</table>\n",
              "</div>\n",
              "      <button class=\"colab-df-convert\" onclick=\"convertToInteractive('df-a11d97ce-77af-4792-b59d-2c740e630831')\"\n",
              "              title=\"Convert this dataframe to an interactive table.\"\n",
              "              style=\"display:none;\">\n",
              "        \n",
              "  <svg xmlns=\"http://www.w3.org/2000/svg\" height=\"24px\"viewBox=\"0 0 24 24\"\n",
              "       width=\"24px\">\n",
              "    <path d=\"M0 0h24v24H0V0z\" fill=\"none\"/>\n",
              "    <path d=\"M18.56 5.44l.94 2.06.94-2.06 2.06-.94-2.06-.94-.94-2.06-.94 2.06-2.06.94zm-11 1L8.5 8.5l.94-2.06 2.06-.94-2.06-.94L8.5 2.5l-.94 2.06-2.06.94zm10 10l.94 2.06.94-2.06 2.06-.94-2.06-.94-.94-2.06-.94 2.06-2.06.94z\"/><path d=\"M17.41 7.96l-1.37-1.37c-.4-.4-.92-.59-1.43-.59-.52 0-1.04.2-1.43.59L10.3 9.45l-7.72 7.72c-.78.78-.78 2.05 0 2.83L4 21.41c.39.39.9.59 1.41.59.51 0 1.02-.2 1.41-.59l7.78-7.78 2.81-2.81c.8-.78.8-2.07 0-2.86zM5.41 20L4 18.59l7.72-7.72 1.47 1.35L5.41 20z\"/>\n",
              "  </svg>\n",
              "      </button>\n",
              "      \n",
              "  <style>\n",
              "    .colab-df-container {\n",
              "      display:flex;\n",
              "      flex-wrap:wrap;\n",
              "      gap: 12px;\n",
              "    }\n",
              "\n",
              "    .colab-df-convert {\n",
              "      background-color: #E8F0FE;\n",
              "      border: none;\n",
              "      border-radius: 50%;\n",
              "      cursor: pointer;\n",
              "      display: none;\n",
              "      fill: #1967D2;\n",
              "      height: 32px;\n",
              "      padding: 0 0 0 0;\n",
              "      width: 32px;\n",
              "    }\n",
              "\n",
              "    .colab-df-convert:hover {\n",
              "      background-color: #E2EBFA;\n",
              "      box-shadow: 0px 1px 2px rgba(60, 64, 67, 0.3), 0px 1px 3px 1px rgba(60, 64, 67, 0.15);\n",
              "      fill: #174EA6;\n",
              "    }\n",
              "\n",
              "    [theme=dark] .colab-df-convert {\n",
              "      background-color: #3B4455;\n",
              "      fill: #D2E3FC;\n",
              "    }\n",
              "\n",
              "    [theme=dark] .colab-df-convert:hover {\n",
              "      background-color: #434B5C;\n",
              "      box-shadow: 0px 1px 3px 1px rgba(0, 0, 0, 0.15);\n",
              "      filter: drop-shadow(0px 1px 2px rgba(0, 0, 0, 0.3));\n",
              "      fill: #FFFFFF;\n",
              "    }\n",
              "  </style>\n",
              "\n",
              "      <script>\n",
              "        const buttonEl =\n",
              "          document.querySelector('#df-a11d97ce-77af-4792-b59d-2c740e630831 button.colab-df-convert');\n",
              "        buttonEl.style.display =\n",
              "          google.colab.kernel.accessAllowed ? 'block' : 'none';\n",
              "\n",
              "        async function convertToInteractive(key) {\n",
              "          const element = document.querySelector('#df-a11d97ce-77af-4792-b59d-2c740e630831');\n",
              "          const dataTable =\n",
              "            await google.colab.kernel.invokeFunction('convertToInteractive',\n",
              "                                                     [key], {});\n",
              "          if (!dataTable) return;\n",
              "\n",
              "          const docLinkHtml = 'Like what you see? Visit the ' +\n",
              "            '<a target=\"_blank\" href=https://colab.research.google.com/notebooks/data_table.ipynb>data table notebook</a>'\n",
              "            + ' to learn more about interactive tables.';\n",
              "          element.innerHTML = '';\n",
              "          dataTable['output_type'] = 'display_data';\n",
              "          await google.colab.output.renderOutput(dataTable, element);\n",
              "          const docLink = document.createElement('div');\n",
              "          docLink.innerHTML = docLinkHtml;\n",
              "          element.appendChild(docLink);\n",
              "        }\n",
              "      </script>\n",
              "    </div>\n",
              "  </div>\n",
              "  "
            ],
            "text/plain": [
              "   time (s)       day     night\n",
              "0  0.000000  4.073090  9.195357\n",
              "1  0.066667  3.925700  9.073050\n",
              "2  0.133333  3.785661  9.073950\n",
              "3  0.200000  3.715860  9.099444\n",
              "4  0.266667  3.666644  9.229641"
            ]
          },
          "metadata": {},
          "execution_count": 13
        }
      ]
    },
    {
      "cell_type": "markdown",
      "source": [
        "E. Now plot these values for the jellyfish over time for day and night. Note: it's probably best to make two separate plots, as night and day have their own scales of values (due to the ambient lighting in the room), making them hard to compare on a single plot."
      ],
      "metadata": {
        "id": "kYhnvioHk6MT"
      }
    },
    {
      "cell_type": "code",
      "source": [
        ""
      ],
      "metadata": {
        "id": "l1C1hF0blkz9"
      },
      "execution_count": null,
      "outputs": []
    },
    {
      "cell_type": "markdown",
      "source": [
        "F. Now looking over this longer time frame, what differences do you see between night and day? What do you think lead the author to conclude that jellyfish exhibit a \"sleep-like state\"?"
      ],
      "metadata": {
        "id": "p0CyL9TVmTjd"
      }
    },
    {
      "cell_type": "markdown",
      "source": [
        "# Problem 2 (40 points)\n",
        "\n",
        "This problem is a continuation of the second problem from the previous homework. It turns out the researchers actually tested a whole range of repressor copy numbers (not just delta and R124), as they had predictions of how the gene expression (as measured by YFP) changed with increasing number of repressors. Make sure to grab the full data set from the HW7 OneDrive folder, as we now have more images to work with.\n",
        "\n",
        "In cases like this, where we want to repeat the same analysis on many images, it is helpful to put your entire image analysis pipeline into a function that can be called repeatedly.\n",
        "\n",
        "A. Write a function that takes in the path to an mCherry image and corresponding YFP image, and returns a list of the YFP intensities of each bacteria in the images. This basically distills everything you did last homework into a single function.\n",
        "\n"
      ],
      "metadata": {
        "id": "QQARYgpin1l0"
      }
    },
    {
      "cell_type": "code",
      "source": [
        "def average_YFP_values(mCherry_path, YFP_path):\n",
        "\n",
        "  return "
      ],
      "metadata": {
        "id": "FnWCVaf5mTA0"
      },
      "execution_count": null,
      "outputs": []
    },
    {
      "cell_type": "markdown",
      "source": [
        "B. Demonstrate that your function works by testing it on the delta LacI strain we investigated last week. It should return the same results as you saw for question 2C last week. "
      ],
      "metadata": {
        "id": "e__as6WbqaEq"
      }
    },
    {
      "cell_type": "code",
      "source": [
        "path_mCherry = \"/content/drive/MyDrive/BIOL300_S22/data/lacI_images/deltaLacI_experiment_001_mCherry.tif\"\n",
        "path_YFP = \"/content/drive/MyDrive/BIOL300_S22/data/lacI_images/deltaLacI_experiment_001_YFP.tif\"\n",
        "\n",
        "average_YFP_values(path_mCherry, path_YFP)"
      ],
      "metadata": {
        "id": "FdbG075Tpk3P"
      },
      "execution_count": null,
      "outputs": []
    },
    {
      "cell_type": "markdown",
      "source": [
        "C. With this, we are ready to apply your function to all the images. \n",
        "Use `glob.glob` to get all the mCherry images and YFP images, saving each as their own lists. Make sure to sort both lists so the correct images correspond with each other!"
      ],
      "metadata": {
        "id": "lFfeWYGRrCaa"
      }
    },
    {
      "cell_type": "code",
      "source": [
        "\n"
      ],
      "metadata": {
        "id": "FqWmfoE9rBcl"
      },
      "execution_count": null,
      "outputs": []
    },
    {
      "cell_type": "markdown",
      "source": [
        "D. Now call your function on each pair of mCherry/YFP images, saving each list of YFP values."
      ],
      "metadata": {
        "id": "EidP7XgWrQq9"
      }
    },
    {
      "cell_type": "code",
      "source": [
        ""
      ],
      "metadata": {
        "id": "vxRNo-x5q_OV"
      },
      "execution_count": null,
      "outputs": []
    },
    {
      "cell_type": "markdown",
      "source": [
        "E. Consolidate your results either into a dataframe, or into two lists (one of x-values and one of y-values). With this, plot a scatter plot of YFP intensity vs. repressor copy number (where DeltaLacI is 0 repressors, R22 is 22 repressors, etc.). "
      ],
      "metadata": {
        "id": "nJSAhXndsPng"
      }
    },
    {
      "cell_type": "code",
      "source": [
        ""
      ],
      "metadata": {
        "id": "VhZ4mgnksO7A"
      },
      "execution_count": null,
      "outputs": []
    }
  ]
}