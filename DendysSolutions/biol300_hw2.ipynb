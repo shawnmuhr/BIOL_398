{
  "nbformat": 4,
  "nbformat_minor": 0,
  "metadata": {
    "colab": {
      "name": "biol300_hw2.ipynb",
      "provenance": [],
      "collapsed_sections": [],
      "toc_visible": true,
      "include_colab_link": true
    },
    "kernelspec": {
      "name": "python3",
      "display_name": "Python 3"
    },
    "language_info": {
      "name": "python"
    }
  },
  "cells": [
    {
      "cell_type": "markdown",
      "metadata": {
        "id": "view-in-github",
        "colab_type": "text"
      },
      "source": [
        "<a href=\"https://colab.research.google.com/github/shawnmuhr/BIOL_398/blob/main/DendysSolutions/biol300_hw2.ipynb\" target=\"_parent\"><img src=\"https://colab.research.google.com/assets/colab-badge.svg\" alt=\"Open In Colab\"/></a>"
      ]
    },
    {
      "cell_type": "code",
      "metadata": {
        "id": "swcTzyQY-hLV"
      },
      "source": [
        "import random"
      ],
      "execution_count": null,
      "outputs": []
    },
    {
      "cell_type": "markdown",
      "source": [
        "# Exercise 0: Practicing using GitHub (10 points)\n",
        "\n",
        "We will be checking for commit messages, and to practice writing them, they will be worth points on this first assignment. To earn full points, *each* team member must submit *at least one* commit message during the process of working on this homework.\n",
        "\n"
      ],
      "metadata": {
        "id": "GBASCHbZfR5Z"
      }
    },
    {
      "cell_type": "markdown",
      "source": [
        "# Exercise 1a: Melting temperature calculator (10 pts)\n",
        "\n",
        "Let's say you want to make your own function for validating the design of a given PCR primer sequence. (Note many tools already exist [online](https://bioinfo.ut.ee/primer3-0.4.0/), but it's so much more satisfying to write your own!) As the first step, we want to calculate the melting temperature of a given primer sequence. We will use the following equation:\n",
        "\n",
        "$$ T_m = 81.5 + 0.41 \\times (\\%GC) - 675/N,$$\n",
        "\n",
        "where $T_m$ is the melting temperature in $^\\circ$C, %GC is the GC content (**in percent, not decimal!**), and $N$ is the length of the sequence. Write a function that will take in a DNA sequence, and output the melting temperature.\n",
        "\n",
        "Note you may want to make use of your `GC_content()` function from last week. You can redefine that function here to call it within the `melting_temp()` function below. "
      ],
      "metadata": {
        "id": "FuIxUcNuJ_nn"
      }
    },
    {
      "cell_type": "code",
      "source": [
        "def GC_content(DNA_seq):\n",
        "    \"\"\"Calculate the fraction of DNA which is G and C\"\"\"\n",
        "    numG = 0         #initialize the counters\n",
        "    numC = 0\n",
        "\n",
        "    numG = DNA_seq.count('G')     # call count() to get the actual numbers\n",
        "    numC = DNA_seq.count('C')\n",
        "    \n",
        "    numtot = numG + numC          # get the total of G and C\n",
        "    \n",
        "    numlist = len(DNA_seq)        # determine how many are in the sequence\n",
        "    \n",
        "    frac = numtot/numlist         # calculate the fraction\n",
        "    GC_percent = frac*100\n",
        "    #print(f\"The GC content = \" + str(frac))  # convert frac to string to print\n",
        "    return GC_percent\n",
        "GC_content(\"ATGC\")\n",
        "\n"
      ],
      "metadata": {
        "id": "j6NXq_ZgH3fD",
        "outputId": "c0e7b1ab-51e6-4060-bc99-15334e4b6b6d",
        "colab": {
          "base_uri": "https://localhost:8080/"
        }
      },
      "execution_count": 6,
      "outputs": [
        {
          "output_type": "execute_result",
          "data": {
            "text/plain": [
              "50.0"
            ]
          },
          "metadata": {},
          "execution_count": 6
        }
      ]
    },
    {
      "cell_type": "code",
      "source": [
        "def melting_temp(DNA_seq):\n",
        "  \"\"\"computes the melting temperature of provide DNA sequence\"\"\" \n",
        "  Tm = 81.5 + 0.41*GC_content(DNA_seq) -675/len(DNA_seq)\n",
        "  \n",
        "  return round(Tm,1)\n",
        "\n",
        "\n",
        "melting_temp('GCAATC') "
      ],
      "metadata": {
        "id": "t0ST0C3HSDx1",
        "outputId": "2da7c6d4-de98-4c25-caeb-b669c8c66c7d",
        "colab": {
          "base_uri": "https://localhost:8080/"
        }
      },
      "execution_count": 17,
      "outputs": [
        {
          "output_type": "execute_result",
          "data": {
            "text/plain": [
              "-10.5"
            ]
          },
          "metadata": {},
          "execution_count": 17
        }
      ]
    },
    {
      "cell_type": "markdown",
      "source": [
        "A few tests are included below. "
      ],
      "metadata": {
        "id": "Bx-FbLRw1dZc"
      }
    },
    {
      "cell_type": "code",
      "source": [
        "# should be 71.8 (with rounding)\n",
        "melting_temp(\"ATCGATCAGTTACGATAGCCGAC\")\n"
      ],
      "metadata": {
        "id": "ofzHBx-61k0-",
        "colab": {
          "base_uri": "https://localhost:8080/"
        },
        "outputId": "81459542-bbbb-4163-c6d0-9e00aeacde3f"
      },
      "execution_count": 19,
      "outputs": [
        {
          "output_type": "execute_result",
          "data": {
            "text/plain": [
              "71.8"
            ]
          },
          "metadata": {},
          "execution_count": 19
        }
      ]
    },
    {
      "cell_type": "code",
      "source": [
        "# should be 64.5\n",
        "melting_temp(\"GCATCGATCGATTACGAC\")"
      ],
      "metadata": {
        "id": "51BsAfJF2JzA",
        "outputId": "d4c6a80b-f1d7-4694-eaf7-e19799bac6ae",
        "colab": {
          "base_uri": "https://localhost:8080/"
        }
      },
      "execution_count": 20,
      "outputs": [
        {
          "output_type": "execute_result",
          "data": {
            "text/plain": [
              "64.5"
            ]
          },
          "metadata": {},
          "execution_count": 20
        }
      ]
    },
    {
      "cell_type": "markdown",
      "metadata": {
        "id": "KVGco6Gx2Pk7"
      },
      "source": [
        "# Exercise 1b: Primer checker (20 pts)\n",
        "\n",
        "Let's now develop our full primer checker. For this, we will make reference to [ThermoFisher's guidlines for primer design](https://www.thermofisher.com/blog/behindthebench/pcr-primer-design-tips/). Specifically, your function should to make the following checks on a given DNA sequence:\n",
        "\n",
        "- GC content to be between 40 and 60%. (Again you can use your function from last week.)\n",
        "- Primer ends in a G or C\n",
        "- Length between 18 and 30 bases\n",
        "- Make sure the melting temperature is between 65$^\\circ$C and 75$^\\circ$C\n",
        "- Avoid strings of 4 of the same nucleotide (i.e. 'AAAA', 'CCCC', etc.)\n",
        "\n",
        "You'll want to check each of these rules in turn and `print` output to let the user know if they have violated any (or all!) of these design guidelines. If everything checks out, you can return the melting temperature so you can go about designing your PCR reaction!\n",
        "\n",
        "Note there are *a lot* of checks to do here. To keep the `primer_checker()` function more manageable, you may want to write some other smaller functions that you can call in this main function. How you approach the code is up to you.  \n"
      ]
    },
    {
      "cell_type": "code",
      "metadata": {
        "id": "qboZAu4-2tmO"
      },
      "source": [
        "def primer_checker(DNA_seq):\n",
        "  \"\"\"Provides output (in the form of print statements) to the user,\n",
        "  letting them know if the primer sequence has any design flaw.\n",
        "  Otherwise, returns the melting temperature\"\"\"\n",
        "\n",
        "  # make sure to return the melting temperature, if everything checks out!\n",
        "  return "
      ],
      "execution_count": null,
      "outputs": []
    },
    {
      "cell_type": "markdown",
      "source": [
        "# Exercise 1c: Testing your primer checker (10)\n",
        "\n",
        "For each of the five rules we put in place for good primer design, test out your function below to demonstrate that it responds appropriately for when the rule is followed and when the rule is broken. "
      ],
      "metadata": {
        "id": "V-UULDT-U4s8"
      }
    },
    {
      "cell_type": "markdown",
      "metadata": {
        "id": "tvlp-tg74q24"
      },
      "source": [
        "# Exercise 2: Mutate sequence (20 points)\n",
        "\n",
        "Last time we wrote code to mutate a single nucleotide to another nucleotide. Now we will expand the functionality to mutagenize an entire DNA sequence at a specified mutation rate. For example, if we have a DNA sequence of length ten and mutagenize at rate 0.1, we would expect *on average* one nucleotide to get mutated, but it may very well happen that more than one (or no) nucleotides get mutated. You may want to reference [Python's documentation about the random module](https://docs.python.org/3/library/random.html) for functions that may help you here."
      ]
    },
    {
      "cell_type": "code",
      "metadata": {
        "id": "mRuQLEqX45fV"
      },
      "source": [
        "def mutate_seq(DNA_seq, mut_rate):\n",
        "  \"\"\"Returns a mutated DNA sequence at the mutation rate provided\"\"\"\n",
        "\n",
        "  return"
      ],
      "execution_count": null,
      "outputs": []
    },
    {
      "cell_type": "markdown",
      "source": [
        "Make sure to try your code out on a few sequence to see that they do in fact mutate!"
      ],
      "metadata": {
        "id": "54C6yndqYovp"
      }
    },
    {
      "cell_type": "markdown",
      "metadata": {
        "id": "28Ho4WoHARJe"
      },
      "source": [
        "# Exercise 3: ORF finder (30 pts)\n",
        "\n",
        "Again building off the code we wrote last time, we will now write an Open Reading Frame (ORF) finder. This means rather than just blinding translating from the start of the provided DNA sequence, we will want to be mindful of start codons and various reading frames. Your function should return a `list` of possible ORFs translated into amino acid sequences, considering all possible start codons in all possible reading frames. \n",
        "\n",
        "As an example, your code may output something like:\n",
        "`[\"MRPSLRAMHGAVRT*\",\"MHGAVRT*\",\"MAETMLP\",\"MLP\"]`, where some ORFs can be a subset of another ORFs, and some ORFs don't have a terminating stop codon because they've reached the end of the provided sequence.\n",
        "\n",
        "Again, we need to define the dictionary for corresponding codons to amino acids. "
      ]
    },
    {
      "cell_type": "code",
      "metadata": {
        "id": "PZ3ta2PRA3GR"
      },
      "source": [
        "aa_dict = \\\n",
        "{'TTT': 'F', 'TTC': 'F', 'TTA': 'L', 'TTG': 'L', 'TCT': 'S', 'TCC': 'S', \n",
        " 'TCA': 'S', 'TCG': 'S', 'TAT': 'Y', 'TAC': 'Y', 'TAA': '*', 'TAG': '*', \n",
        " 'TGT': 'C', 'TGC': 'C', 'TGA': '*', 'TGG': 'W', 'CTT': 'L', 'CTC': 'L', \n",
        " 'CTA': 'L', 'CTG': 'L', 'CCT': 'P', 'CCC': 'P', 'CCA': 'P', 'CCG': 'P', \n",
        " 'CAT': 'H', 'CAC': 'H', 'CAA': 'Q', 'CAG': 'Q', 'CGT': 'R', 'CGC': 'R', \n",
        " 'CGA': 'R', 'CGG': 'R', 'ATT': 'I', 'ATC': 'I', 'ATA': 'I', 'ATG': 'M', \n",
        " 'ACT': 'T', 'ACC': 'T', 'ACA': 'T', 'ACG': 'T', 'AAT': 'N', 'AAC': 'N', \n",
        " 'AAA': 'K', 'AAG': 'K', 'AGT': 'S', 'AGC': 'S', 'AGA': 'R', 'AGG': 'R', \n",
        " 'GTT': 'V', 'GTC': 'V', 'GTA': 'V', 'GTG': 'V', 'GCT': 'A', 'GCC': 'A', \n",
        " 'GCA': 'A', 'GCG': 'A', 'GAT': 'D', 'GAC': 'D', 'GAA': 'E', 'GAG': 'E', \n",
        " 'GGT': 'G', 'GGC': 'G', 'GGA': 'G', 'GGG': 'G'}"
      ],
      "execution_count": null,
      "outputs": []
    },
    {
      "cell_type": "markdown",
      "source": [
        "And now you can write your function."
      ],
      "metadata": {
        "id": "btJlEdNvhjYO"
      }
    },
    {
      "cell_type": "code",
      "metadata": {
        "id": "lvLfVDqPHH9B"
      },
      "source": [
        "def ORF_finder(DNA_seq):\n",
        "  \"\"\"Returns a list of all translated ORFs in the provided\n",
        "  DNA sequence\"\"\"\n",
        "  \n",
        "  return"
      ],
      "execution_count": null,
      "outputs": []
    },
    {
      "cell_type": "markdown",
      "source": [
        "Test out your function on a few inputs to make sure it works as expected. A few things you may want to check for:\n",
        "- Does your function find multiple ORFs?\n",
        "- Does your function find overlapping ORFs?\n",
        "- Does your function find ORFs in different reading frames?\n",
        "\n"
      ],
      "metadata": {
        "id": "HCFfDpmECglS"
      }
    },
    {
      "cell_type": "markdown",
      "metadata": {
        "id": "tO945D2MK87G"
      },
      "source": [
        "# How long did this take? \n",
        "\n",
        "With a new course and new assignments, I want to be conscientious with how much time this course takes. Please let me know how long this took, so I can adjust future homeworks if needed.\n",
        "\n",
        "# References\n",
        "\n",
        "If you referenced any external sources for completing this homework, please list them below. (Just the links are fine.)\n",
        "\n",
        "# Submitting your homework\n",
        "\n",
        "Please make sure to state what each group member contribute and have each group member \"sign off\" that they agree they are satisfied with the final submission of this homework.\n",
        "\n",
        "You will submit this homework (and all subsequent homeworks via GitHub). Unless you have an approved extension or opt to submit the homework late (with a 10% deduction per day), your homework will be graded based on what is submitted on GitHub at the time of the deadline. So don't forget to push! "
      ]
    }
  ]
}