{
  "nbformat": 4,
  "nbformat_minor": 0,
  "metadata": {
    "colab": {
      "name": "biol300_hw1_solns.ipynb",
      "provenance": [],
      "collapsed_sections": [],
      "toc_visible": true,
      "include_colab_link": true
    },
    "kernelspec": {
      "name": "python3",
      "display_name": "Python 3"
    },
    "language_info": {
      "name": "python"
    }
  },
  "cells": [
    {
      "cell_type": "markdown",
      "metadata": {
        "id": "view-in-github",
        "colab_type": "text"
      },
      "source": [
        "<a href=\"https://colab.research.google.com/github/shawnmuhr/BIOL_398/blob/main/HW_Solutions/biol300_hw1_solns.ipynb\" target=\"_parent\"><img src=\"https://colab.research.google.com/assets/colab-badge.svg\" alt=\"Open In Colab\"/></a>"
      ]
    },
    {
      "cell_type": "code",
      "metadata": {
        "id": "swcTzyQY-hLV"
      },
      "source": [
        "import random"
      ],
      "execution_count": null,
      "outputs": []
    },
    {
      "cell_type": "markdown",
      "metadata": {
        "id": "KVGco6Gx2Pk7"
      },
      "source": [
        "# Exercise 1 (10 pts)\n",
        "\n",
        "Concepts: Control Flow, Loops, Functions, Stings\n",
        "\n",
        "Task: Write a function that will compute the GC content of a given DNA sequence. GC content is the fraction of the sequence that is made up of guanines and cytosines (as opposed to adenines and thymines).  "
      ]
    },
    {
      "cell_type": "code",
      "metadata": {
        "id": "qboZAu4-2tmO"
      },
      "source": [
        "def GC_content(DNA_seq):\n",
        "  \"\"\"Computes the GC content (as a float) given the provided DNA sequence \n",
        "  (as a string)\"\"\"\n",
        "\n",
        "  # count Cs and Gs, respectively\n",
        "  C_count = DNA_seq.count('C')\n",
        "  G_count = DNA_seq.count('G')\n",
        "\n",
        "  # comupte GC content as a fraction \n",
        "  GC_frac = (C_count + G_count) / len(DNA_seq)\n",
        "\n",
        "  return GC_frac"
      ],
      "execution_count": null,
      "outputs": []
    },
    {
      "cell_type": "code",
      "metadata": {
        "id": "zc65NNUu5PwO",
        "colab": {
          "base_uri": "https://localhost:8080/"
        },
        "outputId": "93ad9d54-145f-4ef7-dcbb-758a53900bcd"
      },
      "source": [
        "GC_content(\"ATCG\")"
      ],
      "execution_count": null,
      "outputs": [
        {
          "output_type": "execute_result",
          "data": {
            "text/plain": [
              "0.5"
            ]
          },
          "metadata": {},
          "execution_count": 3
        }
      ]
    },
    {
      "cell_type": "markdown",
      "source": [
        "As an example, running `GC_content(\"ATCG\")` above should return `0.5`. Try your funtion out with a few other different sequences and dispaly the results to confrim that your function works as expected:"
      ],
      "metadata": {
        "id": "sA4WNxyQDFVo"
      }
    },
    {
      "cell_type": "code",
      "source": [
        "print(GC_content(\"ATTC\")) # should be 0.25\n",
        "print(GC_content(\"AGCC\")) # should be 0.75\n",
        "print(GC_content(\"GGCG\")) # should be 1.0"
      ],
      "metadata": {
        "id": "tMMk6rrFDOEq",
        "colab": {
          "base_uri": "https://localhost:8080/"
        },
        "outputId": "64bbad64-077e-4a34-bc6d-a3a9e7e6e2e4"
      },
      "execution_count": null,
      "outputs": [
        {
          "output_type": "stream",
          "name": "stdout",
          "text": [
            "0.25\n",
            "0.75\n",
            "1.0\n"
          ]
        }
      ]
    },
    {
      "cell_type": "markdown",
      "metadata": {
        "id": "tvlp-tg74q24"
      },
      "source": [
        "# Exercise 2 (10 pts)\n",
        "\n",
        "Concepts: Control Flow, Functions, Modules\n",
        "\n",
        "Task: Write a function that will mutate a given nucleotide (A, T, C, or G) to any *other* nucleotide. For this, you will want to make use of functions in the `random` module. Note that I have already imported the `random` module at the top of this file, which is generally accepted as good practice.\n",
        "\n"
      ]
    },
    {
      "cell_type": "code",
      "metadata": {
        "id": "mRuQLEqX45fV"
      },
      "source": [
        "def mutate_nt(nt):\n",
        "  \"\"\"Returns a randomly selected mutated nucleotide from the inputted \n",
        "  nucleotide\"\"\"\n",
        "\n",
        "  # initialize all possible options, then exclude the nt provided\n",
        "  options = [\"A\",\"T\",\"C\",\"G\"]\n",
        "  options.remove(nt)\n",
        "\n",
        "  # return one of the remaining options at random\n",
        "  return random.choice(options)"
      ],
      "execution_count": null,
      "outputs": []
    },
    {
      "cell_type": "code",
      "metadata": {
        "colab": {
          "base_uri": "https://localhost:8080/"
        },
        "id": "oxwqOmYy_4WV",
        "outputId": "c57a4e48-d8b0-4883-b741-c6a31f00ec31"
      },
      "source": [
        "print(mutate_nt(\"A\"))\n",
        "print(mutate_nt(\"T\"))\n",
        "print(mutate_nt(\"C\"))\n",
        "print(mutate_nt(\"G\"))"
      ],
      "execution_count": null,
      "outputs": [
        {
          "output_type": "stream",
          "name": "stdout",
          "text": [
            "T\n",
            "G\n",
            "A\n",
            "C\n"
          ]
        }
      ]
    },
    {
      "cell_type": "markdown",
      "metadata": {
        "id": "28Ho4WoHARJe"
      },
      "source": [
        "Run the cell above a couple times to verify that your results are in fact random. Also make sure that you actually mutate the DNA and don't return the same nucleotide as was provided! \n",
        "\n",
        "# Exercise 3 (20 pts)\n",
        "\n",
        "Concepts: Control Flow, Loops, Functions, Strings, Dictionaries\n",
        "\n",
        "Task: Write a function that will \"translate\" a given DNA sequence into the corresponding amino acids sequence. For this, the data structure of a `dictionary` will be extremely useful. Below I save a dictionary where the *keys* are the three-basepair codons and the *values* are the corresponding one-letter code for the amino acid. Note that the stop codons are denoted with `*`."
      ]
    },
    {
      "cell_type": "code",
      "metadata": {
        "id": "PZ3ta2PRA3GR"
      },
      "source": [
        "aa_dict = \\\n",
        "{'TTT': 'F', 'TTC': 'F', 'TTA': 'L', 'TTG': 'L', 'TCT': 'S', 'TCC': 'S', \n",
        " 'TCA': 'S', 'TCG': 'S', 'TAT': 'Y', 'TAC': 'Y', 'TAA': '*', 'TAG': '*', \n",
        " 'TGT': 'C', 'TGC': 'C', 'TGA': '*', 'TGG': 'W', 'CTT': 'L', 'CTC': 'L', \n",
        " 'CTA': 'L', 'CTG': 'L', 'CCT': 'P', 'CCC': 'P', 'CCA': 'P', 'CCG': 'P', \n",
        " 'CAT': 'H', 'CAC': 'H', 'CAA': 'Q', 'CAG': 'Q', 'CGT': 'R', 'CGC': 'R', \n",
        " 'CGA': 'R', 'CGG': 'R', 'ATT': 'I', 'ATC': 'I', 'ATA': 'I', 'ATG': 'M', \n",
        " 'ACT': 'T', 'ACC': 'T', 'ACA': 'T', 'ACG': 'T', 'AAT': 'N', 'AAC': 'N', \n",
        " 'AAA': 'K', 'AAG': 'K', 'AGT': 'S', 'AGC': 'S', 'AGA': 'R', 'AGG': 'R', \n",
        " 'GTT': 'V', 'GTC': 'V', 'GTA': 'V', 'GTG': 'V', 'GCT': 'A', 'GCC': 'A', \n",
        " 'GCA': 'A', 'GCG': 'A', 'GAT': 'D', 'GAC': 'D', 'GAA': 'E', 'GAG': 'E', \n",
        " 'GGT': 'G', 'GGC': 'G', 'GGA': 'G', 'GGG': 'G'}"
      ],
      "execution_count": null,
      "outputs": []
    },
    {
      "cell_type": "markdown",
      "metadata": {
        "id": "YvPHcjACE82_"
      },
      "source": [
        "With this dictionary, you should be able to loop through a DNA sequence in chunks of three basepairs to get the corresponding amino acid sequence. For this, we won't worry about looking for a start codon (we will just start reading off the DNA at the beginning), but you should make sure to terminate the sequence if there's a stop codon."
      ]
    },
    {
      "cell_type": "code",
      "metadata": {
        "id": "lvLfVDqPHH9B"
      },
      "source": [
        "def translate(DNA_seq):\n",
        "  \"\"\"Returns a string of the amino acid sequence that results from translating\n",
        "  the inputted DNA sequence\"\"\"\n",
        "\n",
        "  # round down to get number of codons\n",
        "  num_codons = int(len(DNA_seq)/3)\n",
        "\n",
        "  # initilize string of amino acids\n",
        "  aa_seq = \"\"\n",
        "  \n",
        "  for i in range(num_codons):\n",
        "\n",
        "    # determine codon and corresponding amino acid\n",
        "    codon = DNA_seq[i*3:i*3+3]\n",
        "    aa = aa_dict[codon]\n",
        "\n",
        "    # update amino acid string with new amino acid\n",
        "    aa_seq = aa_seq + aa\n",
        "\n",
        "    # check for stop codon\n",
        "    if aa == \"*\":\n",
        "      return aa_seq\n",
        "\n",
        "  return aa_seq\n"
      ],
      "execution_count": null,
      "outputs": []
    },
    {
      "cell_type": "markdown",
      "source": [
        "Below, test out your function on a few single codons. Does it return what you expect?\n",
        "\n"
      ],
      "metadata": {
        "id": "HCFfDpmECglS"
      }
    },
    {
      "cell_type": "code",
      "source": [
        "print(translate(\"ATG\"))\n",
        "print(translate(\"TAG\"))"
      ],
      "metadata": {
        "id": "Hl9PbG9gDiyv",
        "colab": {
          "base_uri": "https://localhost:8080/"
        },
        "outputId": "37d2fbe3-a68b-45aa-a317-a18f0c8398eb"
      },
      "execution_count": null,
      "outputs": [
        {
          "output_type": "stream",
          "name": "stdout",
          "text": [
            "M\n",
            "*\n"
          ]
        }
      ]
    },
    {
      "cell_type": "markdown",
      "source": [
        "Next, test your function on slightly more complicated sequences, ones with more than one codon. \n",
        "\n",
        "As you test your function, consider how it responds if the DNA sequence length is not multiple of 3. If your function currently gives an error, address this bug before proceeding. "
      ],
      "metadata": {
        "id": "eDdyuNhCDpYt"
      }
    },
    {
      "cell_type": "code",
      "source": [
        "print(translate(\"ATGACGCAG\")) # multiple of three\n",
        "print(translate(\"ATGACGCAGTT\")) # not multiple of three\n"
      ],
      "metadata": {
        "id": "IcTo8yrDFf4j",
        "colab": {
          "base_uri": "https://localhost:8080/"
        },
        "outputId": "7a2a3d3e-7ed4-4fe7-c564-3b9aafc16bb6"
      },
      "execution_count": null,
      "outputs": [
        {
          "output_type": "stream",
          "name": "stdout",
          "text": [
            "MTQ\n",
            "MTQ\n"
          ]
        }
      ]
    },
    {
      "cell_type": "markdown",
      "source": [
        "As a final test, we will now translate a longer sequence, one that would be a bit tedious to translate by hand. Make sure the code cell below returns `TRUE`."
      ],
      "metadata": {
        "id": "3DjVoZ7eFkkP"
      }
    },
    {
      "cell_type": "code",
      "metadata": {
        "id": "BnkPdcNDHfQj",
        "colab": {
          "base_uri": "https://localhost:8080/"
        },
        "outputId": "b60d7cbb-31f7-4665-a8f0-e280e71aaa85"
      },
      "source": [
        "translate(\"ATGATCAGCATCATACTACGACTACAATCAGCATCATACAGCATATAGCATCATCACTA\") == 'MISIILRLQSASYSI*'"
      ],
      "execution_count": null,
      "outputs": [
        {
          "output_type": "execute_result",
          "data": {
            "text/plain": [
              "True"
            ]
          },
          "metadata": {},
          "execution_count": 17
        }
      ]
    },
    {
      "cell_type": "markdown",
      "metadata": {
        "id": "tO945D2MK87G"
      },
      "source": [
        "# How long did this take? \n",
        "\n",
        "With a new course and new assignments, I want to be conscientious with how much time this course take. Please let me know how long this took, so I can adjust future homeworks if needed.\n",
        "\n",
        "# Submitting your homework\n",
        "\n",
        "- Rename your version of this document as `biol300_hw1_FIRSTNAME_LASTNAME.ipynb`. \n",
        "- Go to File, then Download, and download this document as `.ipynb` \n",
        "- Upload this downloaded `.ipynb` file on Canvas for your HW1 submission."
      ]
    }
  ]
}