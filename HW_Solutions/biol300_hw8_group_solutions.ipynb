{
  "cells": [
    {
      "cell_type": "markdown",
      "metadata": {
        "id": "view-in-github",
        "colab_type": "text"
      },
      "source": [
        "<a href=\"https://colab.research.google.com/github/shawnmuhr/BIOL_398/blob/main/HW_Solutions/biol300_hw8_group_solutions.ipynb\" target=\"_parent\"><img src=\"https://colab.research.google.com/assets/colab-badge.svg\" alt=\"Open In Colab\"/></a>"
      ]
    },
    {
      "cell_type": "code",
      "execution_count": null,
      "metadata": {
        "id": "zYNfO-w9js6d"
      },
      "outputs": [],
      "source": [
        "import numpy as np\n",
        "import pandas as pd\n",
        "import matplotlib.pyplot as plt\n",
        "\n",
        "import seaborn as sns\n",
        "sns.set()"
      ]
    },
    {
      "cell_type": "markdown",
      "metadata": {
        "id": "c-XDdpaVkJA6"
      },
      "source": [
        "# Problem 1: Dance of the p-values (20 points)"
      ]
    },
    {
      "cell_type": "markdown",
      "metadata": {
        "id": "SHV3kBJqky_q"
      },
      "source": [
        "For this, we will return to frogs 2 and 3, the two frogs for which we were unable to reject the null hypothesis for having the same mean with a permutation test."
      ]
    },
    {
      "cell_type": "code",
      "execution_count": null,
      "metadata": {
        "id": "gv58dch8j4oP"
      },
      "outputs": [],
      "source": [
        "frog2 = np.array([1612,  605,  327,  946,  541, 1539,  529,  628, 1453,  297,  703,\n",
        "        269,  751,  245, 1182,  515,  435,  383,  457,  730])\n",
        "frog3 = np.array([614, 414, 324, 776, 611, 544, 538, 579, 806, 459, 458, 626, 621,\n",
        "       544, 535, 385, 401, 614, 665, 488])"
      ]
    },
    {
      "cell_type": "markdown",
      "metadata": {
        "id": "UhsHzcQuGwzW"
      },
      "source": [
        "A. Repeat your permutation test 100 times. Record the p-value you get each time.\n",
        "\n",
        "First I redefine my permutation function from the individual portion:"
      ]
    },
    {
      "cell_type": "code",
      "execution_count": null,
      "metadata": {
        "id": "9hXg2N7fkO5d"
      },
      "outputs": [],
      "source": [
        "def permutation_p_value(data1, data2, num_reps=10000):\n",
        "\n",
        "  # counter for p-value\n",
        "  xtreme_counter = 0\n",
        "\n",
        "  # true difference from the data\n",
        "  data_diff = data1.mean() - data2.mean()\n",
        "\n",
        "  # concatenate the data\n",
        "  combined = np.concatenate((data1,data2))\n",
        "\n",
        "  for i in range(num_reps):\n",
        "\n",
        "    # scramble the data and get samples\n",
        "    perm = np.random.permutation(combined)\n",
        "    data1_samp = perm[:len(data1)]\n",
        "    data2_samp = perm[len(data1):]\n",
        "\n",
        "    # compute difference of means from sampled data\n",
        "    diff = data1_samp.mean() - data2_samp.mean()\n",
        "\n",
        "    # see if result is \"as extreme\"\n",
        "    if np.abs(diff) >= np.abs(data_diff):\n",
        "      xtreme_counter += 1\n",
        "\n",
        "  p_value = xtreme_counter / num_reps\n",
        "\n",
        "  return p_value"
      ]
    },
    {
      "cell_type": "markdown",
      "metadata": {
        "id": "45lGwp7Vyt7A"
      },
      "source": [
        "Now I call this function 100 times, saving the p-value each time:"
      ]
    },
    {
      "cell_type": "code",
      "execution_count": null,
      "metadata": {
        "colab": {
          "background_save": true
        },
        "id": "yq9lnqyYyRZE"
      },
      "outputs": [],
      "source": [
        "p_values = np.zeros(100)\n",
        "\n",
        "for i in range(100):\n",
        "  p_value = permutation_p_value(frog2, frog3)\n",
        "  p_values[i] = p_value"
      ]
    },
    {
      "cell_type": "markdown",
      "metadata": {
        "id": "fNL1MO9oG9Wf"
      },
      "source": [
        "B. Plot an ECDF of the p-values from the repeated permutation tests. How much do the p-values vary by? Would your decision to reject the null hypothesis or not change from repeating the permutation test?"
      ]
    },
    {
      "cell_type": "code",
      "execution_count": null,
      "metadata": {
        "colab": {
          "background_save": true
        },
        "id": "DQnxVDUSIHHo"
      },
      "outputs": [],
      "source": [
        "def ecdf(data):\n",
        "  \"\"\"Generate x and y values for plotting an ECDF.\"\"\"\n",
        "  x_vals = np.sort(data)\n",
        "  y_vals = np.arange(1, len(data)+1) / len(data)\n",
        "  \n",
        "  return x_vals, y_vals"
      ]
    },
    {
      "cell_type": "code",
      "execution_count": null,
      "metadata": {
        "colab": {
          "background_save": true,
          "base_uri": "https://localhost:8080/",
          "height": 303
        },
        "id": "1jr8IocKy4H3",
        "outputId": "b08ec16f-6bbe-401f-96aa-15c7c7e9c8b3"
      },
      "outputs": [
        {
          "data": {
            "text/plain": [
              "Text(0, 0.5, 'ECDF')"
            ]
          },
          "execution_count": null,
          "metadata": {},
          "output_type": "execute_result"
        },
        {
          "data": {
            "image/png": "[encoded data removed]",
            "text/plain": [
              "<Figure size 432x288 with 1 Axes>"
            ]
          },
          "metadata": {},
          "output_type": "display_data"
        }
      ],
      "source": [
        "x,y = ecdf(p_values)\n",
        "plt.plot(x,y, '.')\n",
        "plt.xlabel(\"p-value\")\n",
        "plt.ylabel(\"ECDF\")"
      ]
    },
    {
      "cell_type": "markdown",
      "metadata": {
        "id": "D2j10_vvzxl4"
      },
      "source": [
        "We see that while the p-value can vary some, it would not change our decision to not reject the null hypothesis."
      ]
    },
    {
      "cell_type": "markdown",
      "metadata": {
        "id": "zMZN2-GlIHln"
      },
      "source": [
        "While the p-values may not have varied that much in the previous part, a more interesting and more applicable question would be how much the p-value would change if we were to *repeat the experiment itself*. For this, we can simulate getting the data from frogs 2 and 3 again, by sampling from our data with replacement. As a reminder, this is how you can sample with replacement: `np.random.choice(frog2, size=20, replace=True)`.\n",
        "\n",
        "C. For 100 trials, sample the two frogs with replacement to generate data as if we had repeated the experiment. With this newly sampled data, conduct a permutation test and save the p-value.\n"
      ]
    },
    {
      "cell_type": "code",
      "execution_count": null,
      "metadata": {
        "colab": {
          "background_save": true
        },
        "id": "1_jd3iAzJZXM"
      },
      "outputs": [],
      "source": [
        "p_values = np.zeros(100)\n",
        "\n",
        "for i in range(100):\n",
        "  frog2_samp = np.random.choice(frog2, size=20, replace=True)\n",
        "  frog3_samp = np.random.choice(frog3, size=20, replace=True)\n",
        "  p_value = permutation_p_value(frog2_samp, frog3_samp)\n",
        "  p_values[i] = p_value"
      ]
    },
    {
      "cell_type": "markdown",
      "metadata": {
        "id": "Exccc7JlJbIh"
      },
      "source": [
        "D. Plot an ECDF of these p-values that resulted from resampling the data for each permutation test. How much do the p-values vary by now? "
      ]
    },
    {
      "cell_type": "code",
      "execution_count": null,
      "metadata": {
        "colab": {
          "background_save": true,
          "base_uri": "https://localhost:8080/",
          "height": 303
        },
        "id": "X7NIJxSTJaD4",
        "outputId": "ae85bdd5-b242-4ebe-b5db-9faf78ff27a3"
      },
      "outputs": [
        {
          "data": {
            "text/plain": [
              "Text(0, 0.5, 'ECDF')"
            ]
          },
          "execution_count": null,
          "metadata": {},
          "output_type": "execute_result"
        },
        {
          "data": {
            "image/png": "[encoded data removed]",
            "text/plain": [
              "<Figure size 432x288 with 1 Axes>"
            ]
          },
          "metadata": {},
          "output_type": "display_data"
        }
      ],
      "source": [
        "x,y = ecdf(p_values)\n",
        "plt.plot(x,y, '.')\n",
        "plt.xlabel(\"p-value\")\n",
        "plt.ylabel(\"ECDF\")"
      ]
    },
    {
      "cell_type": "markdown",
      "metadata": {
        "id": "poI_DKDL0X7D"
      },
      "source": [
        "We now see that the p-values vary by **a lot**. The p-values nearly span the entire possible range of 0 to 1."
      ]
    },
    {
      "cell_type": "markdown",
      "metadata": {
        "id": "bq42IfndJr77"
      },
      "source": [
        "E. Explain how this exercise serves as a cautionary tale regarding the reliance on p-values in experimental work."
      ]
    },
    {
      "cell_type": "markdown",
      "metadata": {
        "id": "KdZc5xZ30pQ3"
      },
      "source": [
        "We see that under the very reasonable simulation of \"repeating the experiment,\" we can get wildly different p-values. This means we should exercise caution when relying on a p-value from a single experiment. A slight, and experimentally possible, change in the data can lead to an entirely different interpretation. "
      ]
    },
    {
      "cell_type": "markdown",
      "metadata": {
        "id": "TWAI5AaSKIzT"
      },
      "source": [
        "# Problem 2: Darwin's finches (20 points)\n",
        "\n",
        "The following data come from Peter and Rosemary Grant of Princeton University, who have visited the island of Daphne Major on the Galápagos every year for over forty years and have been taking a careful inventory of the finches there. The Grants recently published a wonderful book, [40 years of evolution: Darwin's finches on Daphne Major Island](https://press.princeton.edu/books/hardcover/9780691160467/40-years-of-evolution). They were generous and made their data publicly available on [the Dryad data repository](https://datadryad.org/stash/dataset/doi:10.5061/dryad.g6g3h). (In general, it is a very good idea to put your published data in public data repositories, both to preserve the data and also to make your findings public.) We will be using this data set to learn about evolution of Darwin's finches and use your \"hacker\" statistics skills. \n",
        "\n",
        "We will focus on the primary two species of ground finch on Daphne Major, *Geospiza fortis* and *Geospiza scandens*. In this data set, you will find measurements of the beak length (tip to base) and beak depth (top to bottom) of these finches in the years 1973, 1975, 1987, 1991, and 2012. Also included in that data set is the band number for the bird, which gives a unique identifier."
      ]
    },
    {
      "cell_type": "code",
      "execution_count": null,
      "metadata": {
        "colab": {
          "base_uri": "https://localhost:8080/"
        },
        "id": "Z5wo9tXgKMIl",
        "outputId": "8ee93059-8ae8-42a2-e323-2ff8c098d20e"
      },
      "outputs": [
        {
          "name": "stdout",
          "output_type": "stream",
          "text": [
            "Mounted at /content/drive\n"
          ]
        }
      ],
      "source": [
        "from google.colab import drive\n",
        "drive.mount('/content/drive')"
      ]
    },
    {
      "cell_type": "code",
      "execution_count": null,
      "metadata": {
        "colab": {
          "base_uri": "https://localhost:8080/",
          "height": 206
        },
        "id": "R8PUviL1dqSH",
        "outputId": "b6f507a5-fcb3-49d0-908f-f78f7d046bac"
      },
      "outputs": [
        {
          "data": {
            "text/html": [
              "\n",
              "  <div id=\"df-99d45700-2a15-4471-92c7-304b82ab5f53\">\n",
              "    <div class=\"colab-df-container\">\n",
              "      <div>\n",
              "<style scoped>\n",
              "    .dataframe tbody tr th:only-of-type {\n",
              "        vertical-align: middle;\n",
              "    }\n",
              "\n",
              "    .dataframe tbody tr th {\n",
              "        vertical-align: top;\n",
              "    }\n",
              "\n",
              "    .dataframe thead th {\n",
              "        text-align: right;\n",
              "    }\n",
              "</style>\n",
              "<table border=\"1\" class=\"dataframe\">\n",
              "  <thead>\n",
              "    <tr style=\"text-align: right;\">\n",
              "      <th></th>\n",
              "      <th>band</th>\n",
              "      <th>species</th>\n",
              "      <th>year</th>\n",
              "      <th>beak length (mm)</th>\n",
              "      <th>beak depth (mm)</th>\n",
              "    </tr>\n",
              "  </thead>\n",
              "  <tbody>\n",
              "    <tr>\n",
              "      <th>0</th>\n",
              "      <td>20123</td>\n",
              "      <td>fortis</td>\n",
              "      <td>1973</td>\n",
              "      <td>9.25</td>\n",
              "      <td>8.05</td>\n",
              "    </tr>\n",
              "    <tr>\n",
              "      <th>1</th>\n",
              "      <td>20126</td>\n",
              "      <td>fortis</td>\n",
              "      <td>1973</td>\n",
              "      <td>11.35</td>\n",
              "      <td>10.45</td>\n",
              "    </tr>\n",
              "    <tr>\n",
              "      <th>2</th>\n",
              "      <td>20128</td>\n",
              "      <td>fortis</td>\n",
              "      <td>1973</td>\n",
              "      <td>10.15</td>\n",
              "      <td>9.55</td>\n",
              "    </tr>\n",
              "    <tr>\n",
              "      <th>3</th>\n",
              "      <td>20129</td>\n",
              "      <td>fortis</td>\n",
              "      <td>1973</td>\n",
              "      <td>9.95</td>\n",
              "      <td>8.75</td>\n",
              "    </tr>\n",
              "    <tr>\n",
              "      <th>4</th>\n",
              "      <td>20133</td>\n",
              "      <td>fortis</td>\n",
              "      <td>1973</td>\n",
              "      <td>11.55</td>\n",
              "      <td>10.15</td>\n",
              "    </tr>\n",
              "  </tbody>\n",
              "</table>\n",
              "</div>\n",
              "      <button class=\"colab-df-convert\" onclick=\"convertToInteractive('df-99d45700-2a15-4471-92c7-304b82ab5f53')\"\n",
              "              title=\"Convert this dataframe to an interactive table.\"\n",
              "              style=\"display:none;\">\n",
              "        \n",
              "  <svg xmlns=\"http://www.w3.org/2000/svg\" height=\"24px\"viewBox=\"0 0 24 24\"\n",
              "       width=\"24px\">\n",
              "    <path d=\"M0 0h24v24H0V0z\" fill=\"none\"/>\n",
              "    <path d=\"M18.56 5.44l.94 2.06.94-2.06 2.06-.94-2.06-.94-.94-2.06-.94 2.06-2.06.94zm-11 1L8.5 8.5l.94-2.06 2.06-.94-2.06-.94L8.5 2.5l-.94 2.06-2.06.94zm10 10l.94 2.06.94-2.06 2.06-.94-2.06-.94-.94-2.06-.94 2.06-2.06.94z\"/><path d=\"M17.41 7.96l-1.37-1.37c-.4-.4-.92-.59-1.43-.59-.52 0-1.04.2-1.43.59L10.3 9.45l-7.72 7.72c-.78.78-.78 2.05 0 2.83L4 21.41c.39.39.9.59 1.41.59.51 0 1.02-.2 1.41-.59l7.78-7.78 2.81-2.81c.8-.78.8-2.07 0-2.86zM5.41 20L4 18.59l7.72-7.72 1.47 1.35L5.41 20z\"/>\n",
              "  </svg>\n",
              "      </button>\n",
              "      \n",
              "  <style>\n",
              "    .colab-df-container {\n",
              "      display:flex;\n",
              "      flex-wrap:wrap;\n",
              "      gap: 12px;\n",
              "    }\n",
              "\n",
              "    .colab-df-convert {\n",
              "      background-color: #E8F0FE;\n",
              "      border: none;\n",
              "      border-radius: 50%;\n",
              "      cursor: pointer;\n",
              "      display: none;\n",
              "      fill: #1967D2;\n",
              "      height: 32px;\n",
              "      padding: 0 0 0 0;\n",
              "      width: 32px;\n",
              "    }\n",
              "\n",
              "    .colab-df-convert:hover {\n",
              "      background-color: #E2EBFA;\n",
              "      box-shadow: 0px 1px 2px rgba(60, 64, 67, 0.3), 0px 1px 3px 1px rgba(60, 64, 67, 0.15);\n",
              "      fill: #174EA6;\n",
              "    }\n",
              "\n",
              "    [theme=dark] .colab-df-convert {\n",
              "      background-color: #3B4455;\n",
              "      fill: #D2E3FC;\n",
              "    }\n",
              "\n",
              "    [theme=dark] .colab-df-convert:hover {\n",
              "      background-color: #434B5C;\n",
              "      box-shadow: 0px 1px 3px 1px rgba(0, 0, 0, 0.15);\n",
              "      filter: drop-shadow(0px 1px 2px rgba(0, 0, 0, 0.3));\n",
              "      fill: #FFFFFF;\n",
              "    }\n",
              "  </style>\n",
              "\n",
              "      <script>\n",
              "        const buttonEl =\n",
              "          document.querySelector('#df-99d45700-2a15-4471-92c7-304b82ab5f53 button.colab-df-convert');\n",
              "        buttonEl.style.display =\n",
              "          google.colab.kernel.accessAllowed ? 'block' : 'none';\n",
              "\n",
              "        async function convertToInteractive(key) {\n",
              "          const element = document.querySelector('#df-99d45700-2a15-4471-92c7-304b82ab5f53');\n",
              "          const dataTable =\n",
              "            await google.colab.kernel.invokeFunction('convertToInteractive',\n",
              "                                                     [key], {});\n",
              "          if (!dataTable) return;\n",
              "\n",
              "          const docLinkHtml = 'Like what you see? Visit the ' +\n",
              "            '<a target=\"_blank\" href=https://colab.research.google.com/notebooks/data_table.ipynb>data table notebook</a>'\n",
              "            + ' to learn more about interactive tables.';\n",
              "          element.innerHTML = '';\n",
              "          dataTable['output_type'] = 'display_data';\n",
              "          await google.colab.output.renderOutput(dataTable, element);\n",
              "          const docLink = document.createElement('div');\n",
              "          docLink.innerHTML = docLinkHtml;\n",
              "          element.appendChild(docLink);\n",
              "        }\n",
              "      </script>\n",
              "    </div>\n",
              "  </div>\n",
              "  "
            ],
            "text/plain": [
              "    band species  year  beak length (mm)  beak depth (mm)\n",
              "0  20123  fortis  1973              9.25             8.05\n",
              "1  20126  fortis  1973             11.35            10.45\n",
              "2  20128  fortis  1973             10.15             9.55\n",
              "3  20129  fortis  1973              9.95             8.75\n",
              "4  20133  fortis  1973             11.55            10.15"
            ]
          },
          "execution_count": 10,
          "metadata": {},
          "output_type": "execute_result"
        }
      ],
      "source": [
        "path = \"/content/drive/MyDrive/BIOL300_S22/data/finch_beaks.csv\"\n",
        "df = pd.read_csv(path)\n",
        "df.head()"
      ]
    },
    {
      "cell_type": "markdown",
      "metadata": {
        "id": "DQ61IbRfe7rD"
      },
      "source": [
        "A. Plot ECDFs of the beak depths of G*eospiza scandens* in 1975 and in 2012, and comment on what you see."
      ]
    },
    {
      "cell_type": "code",
      "execution_count": null,
      "metadata": {
        "colab": {
          "base_uri": "https://localhost:8080/",
          "height": 303
        },
        "id": "f37w-pK8fBWn",
        "outputId": "67d13f8a-1883-435c-ee2a-1189de38978d"
      },
      "outputs": [
        {
          "data": {
            "text/plain": [
              "<matplotlib.legend.Legend at 0x7f9c502b3d10>"
            ]
          },
          "execution_count": 11,
          "metadata": {},
          "output_type": "execute_result"
        },
        {
          "data": {
            "image/png": "[encoded data removed]",
            "text/plain": [
              "<Figure size 432x288 with 1 Axes>"
            ]
          },
          "metadata": {},
          "output_type": "display_data"
        }
      ],
      "source": [
        "# pare down the df to the species and years we care about\n",
        "scandens = df[df[\"species\"]==\"scandens\"]\n",
        "s75 = scandens[scandens[\"year\"]==1975]\n",
        "s12 = scandens[scandens[\"year\"]==2012]\n",
        "\n",
        "# get ECDF values\n",
        "x1,y1 = ecdf(s75[\"beak depth (mm)\"])\n",
        "x2,y2 = ecdf(s12[\"beak depth (mm)\"])\n",
        "\n",
        "plt.plot(x1, y1)\n",
        "plt.plot(x2, y2)\n",
        "plt.xlabel(\"beak depth (mm)\")\n",
        "plt.ylabel(\"ECDF\")\n",
        "plt.legend([1975, 2012])"
      ]
    },
    {
      "cell_type": "markdown",
      "metadata": {
        "id": "zIWMAn_H3s8y"
      },
      "source": [
        "It seems like the beak depth is larger in 2012 than 1975."
      ]
    },
    {
      "cell_type": "markdown",
      "metadata": {
        "id": "kYYSK56tfMOK"
      },
      "source": [
        "B. For the *scandens* data in 1975, sample the data 10,000 times with replacement and record the mean with each sample. Sort these samples and find the 2.5th and 97.5th percentiles. The range between these two values is what is known as the 95% confidence interval, meaning that 95% of the sample lie within this range. "
      ]
    },
    {
      "cell_type": "code",
      "execution_count": null,
      "metadata": {
        "colab": {
          "base_uri": "https://localhost:8080/"
        },
        "id": "ytMpxm5MhEzJ",
        "outputId": "05ff5bf2-56f5-46a0-8b38-e2551a311aef"
      },
      "outputs": [
        {
          "name": "stdout",
          "output_type": "stream",
          "text": [
            "95% CI: 8.844 - 9.078\n"
          ]
        }
      ],
      "source": [
        "bd75_mean_samps = np.zeros(10000)\n",
        "\n",
        "for i in range(10000):\n",
        "  samp = np.random.choice(s75[\"beak depth (mm)\"], size=len(s75), replace=True)\n",
        "  bd75_mean_samps[i] = samp.mean()\n",
        "\n",
        "bd75_mean_samps.sort()\n",
        "lowerCI = bd75_mean_samps[249]\n",
        "upperCI = bd75_mean_samps[-250]\n",
        "print(\"95% CI:\", np.round(lowerCI, 3), \"-\", np.round(upperCI, 3))"
      ]
    },
    {
      "cell_type": "markdown",
      "metadata": {
        "id": "xSWAvNXZhFkL"
      },
      "source": [
        "C. Now get the *scandens* 95% confidence interval for the year 2012. Comment on the overlap (if any) of the confidence intervals from 1975 and 2012."
      ]
    },
    {
      "cell_type": "code",
      "execution_count": null,
      "metadata": {
        "colab": {
          "base_uri": "https://localhost:8080/"
        },
        "id": "FxphcXc8fLkN",
        "outputId": "c49fac2d-758c-4101-8531-35c026543291"
      },
      "outputs": [
        {
          "name": "stdout",
          "output_type": "stream",
          "text": [
            "95% CI: 9.073 - 9.306\n"
          ]
        }
      ],
      "source": [
        "bd12_mean_samps = np.zeros(10000)\n",
        "\n",
        "for i in range(10000):\n",
        "  samp = np.random.choice(s12[\"beak depth (mm)\"], size=len(s12), replace=True)\n",
        "  bd12_mean_samps[i] = samp.mean()\n",
        "\n",
        "bd12_mean_samps.sort()\n",
        "lowerCI = bd12_mean_samps[249]\n",
        "upperCI = bd12_mean_samps[-250]\n",
        "print(\"95% CI:\", np.round(lowerCI, 3), \"-\", np.round(upperCI, 3))"
      ]
    },
    {
      "cell_type": "markdown",
      "metadata": {
        "id": "dtz-LqN86GMQ"
      },
      "source": [
        "We see that the confidence intervals overlap just slightly. The upper part of the 1975 CI overlaps with the lower part of the 2012 CI."
      ]
    },
    {
      "cell_type": "markdown",
      "metadata": {
        "id": "DMPLJw4fhhMd"
      },
      "source": [
        "D. Perform a hypothesis test comparing the G. scandens beak depths in 1975 and 2012. Carefully state your null hypothesis, your test statistic, and your definition of what it means to be at least as extreme as the test statistic. Comment on the results. \n",
        "\n",
        "As an example of a different type of hypothesis test, I will do a shifted mean test below. Here, the null hypothesis is that the two years have the same mean. The test statistic is the difference in means between the two years. \"As extreme\" will be if the absolute value of the difference in the means is equal to or greater than than what is seen in the data, meaning this is a two-tailed test. (Note: for a one-tailed test, we would only be interested in seeing if the mean for 2012 is greater than the mean for 1975)."
      ]
    },
    {
      "cell_type": "code",
      "execution_count": null,
      "metadata": {
        "id": "dFKl1N5ph34B"
      },
      "outputs": [],
      "source": [
        "def shifted_mean_p_value(data1, data2, num_reps=10000):\n",
        "\n",
        "  # counter for p-value\n",
        "  xtreme_counter = 0\n",
        "\n",
        "  # true difference from the data\n",
        "  data_diff = data1.mean() - data2.mean()\n",
        "\n",
        "  # shift the data\n",
        "  total_mean = (data1.mean() + data2.mean()) / (len(data1) + len(data2))\n",
        "  data1_shifted = data1 - data1.mean() + total_mean\n",
        "  data2_shifted = data2 - data2.mean() + total_mean\n",
        "\n",
        "  for i in range(num_reps):\n",
        "\n",
        "    # sample the shifted data\n",
        "    data1_samp = np.random.choice(data1_shifted, size=len(data1_shifted), replace=True)\n",
        "    data2_samp = np.random.choice(data2_shifted, size=len(data2_shifted), replace=True)\n",
        "\n",
        "    # compute difference of means from sampled data\n",
        "    diff = data1_samp.mean() - data2_samp.mean()\n",
        "\n",
        "    # see if result is \"as extreme\"\n",
        "    if np.abs(diff) >= np.abs(data_diff):\n",
        "      xtreme_counter += 1\n",
        "\n",
        "  p_value = xtreme_counter / num_reps\n",
        "\n",
        "  return p_value"
      ]
    },
    {
      "cell_type": "code",
      "execution_count": null,
      "metadata": {
        "colab": {
          "base_uri": "https://localhost:8080/"
        },
        "id": "K_C8ZAqB9AE1",
        "outputId": "9003d3a5-d235-4336-f042-c3e08cf6a66c"
      },
      "outputs": [
        {
          "data": {
            "text/plain": [
              "0.0067"
            ]
          },
          "execution_count": 15,
          "metadata": {},
          "output_type": "execute_result"
        }
      ],
      "source": [
        "shifted_mean_p_value(s75[\"beak depth (mm)\"], s12[\"beak depth (mm)\"], num_reps=10000)"
      ]
    },
    {
      "cell_type": "markdown",
      "metadata": {
        "id": "OuyvLwgx9Wsf"
      },
      "source": [
        "From a p-value of ~0.007, we can reject the null hypothesis that these two years have the same mean. It seems that the beaks in 2012 are in fact statistically significantly larger than 1975."
      ]
    },
    {
      "cell_type": "markdown",
      "metadata": {
        "id": "TvwYV-q3h4Ne"
      },
      "source": [
        "E. It might be interesting to know that a severe drought in 1976 and 1977 resulted in the death of the plants that produce small seeds on the island. Hypothesize what might have happened to the scandens beaks from 1975 to 2012.\n",
        "\n",
        "It seems that an increase in seed size drove the increase in beak size. That is, after the drought it is likely the case that birds with bigger beaks had an advantage over birds with smaller beaks. These larger-beaked birds were thus more likely to survive and pass on their genes, resulting in a shift in the population over time."
      ]
    }
  ],
  "metadata": {
    "colab": {
      "collapsed_sections": [],
      "name": "biol300_hw8_group_solutions.ipynb",
      "provenance": [],
      "include_colab_link": true
    },
    "kernelspec": {
      "display_name": "Python 3",
      "name": "python3"
    },
    "language_info": {
      "name": "python"
    }
  },
  "nbformat": 4,
  "nbformat_minor": 0
}