{
  "nbformat": 4,
  "nbformat_minor": 0,
  "metadata": {
    "colab": {
      "name": "biol300_hw8_group_problem3_solution.ipynb",
      "provenance": [],
      "collapsed_sections": [],
      "include_colab_link": true
    },
    "kernelspec": {
      "name": "python3",
      "display_name": "Python 3"
    },
    "language_info": {
      "name": "python"
    }
  },
  "cells": [
    {
      "cell_type": "markdown",
      "metadata": {
        "id": "view-in-github",
        "colab_type": "text"
      },
      "source": [
        "<a href=\"https://colab.research.google.com/github/shawnmuhr/BIOL_398/blob/main/HW_Solutions/biol300_hw8_group_problem3_solution.ipynb\" target=\"_parent\"><img src=\"https://colab.research.google.com/assets/colab-badge.svg\" alt=\"Open In Colab\"/></a>"
      ]
    },
    {
      "cell_type": "markdown",
      "source": [
        "This problem will explore Fisher's argument that Mendel's data were *too good*. [You can read more about the controversy here](https://www.colorado.edu/physics/sites/default/files/attached-files/mendelfishercontroversy.pdf). That is, Fisher suspected that the results that Mendel presented from his pea experiments did not vary much as would be expected. To put this to the test, we will simulate Mendel's crossing experiments many times over and see how his published results compare with the simulations.\n",
        "\n",
        "Below I set up most of the simulation for you. Your remaining task will be to conduct the simulation many times over, computing a desired test statistic each time, and then comparing to the real data to the simulated data.\n",
        "\n",
        "# The simulation"
      ],
      "metadata": {
        "id": "dYwYXBmw7S7G"
      }
    },
    {
      "cell_type": "code",
      "execution_count": null,
      "metadata": {
        "id": "hRc_nbsUxX_w"
      },
      "outputs": [],
      "source": [
        "import random\n",
        "import matplotlib.pyplot as plt\n",
        "import seaborn as sns\n",
        "import numpy as np\n",
        "sns.set()"
      ]
    },
    {
      "cell_type": "markdown",
      "source": [
        "Let's have python flip a coin for us! If you hit the \"play\" button below multiple times, you will see the output will switch from heads `'H'` to tails `'T'` randomly."
      ],
      "metadata": {
        "id": "7Snb0f8Q2BN2"
      }
    },
    {
      "cell_type": "code",
      "source": [
        "# coin flip for heads or tails\n",
        "random.choice([\"H\",\"T\"])"
      ],
      "metadata": {
        "colab": {
          "base_uri": "https://localhost:8080/",
          "height": 35
        },
        "id": "2Cw4h9FtxzRe",
        "outputId": "229fce53-b205-41ca-abe3-7d730b9c2be8"
      },
      "execution_count": null,
      "outputs": [
        {
          "output_type": "execute_result",
          "data": {
            "text/plain": [
              "'H'"
            ],
            "application/vnd.google.colaboratory.intrinsic+json": {
              "type": "string"
            }
          },
          "metadata": {},
          "execution_count": 2
        }
      ]
    },
    {
      "cell_type": "markdown",
      "source": [
        "We can now \"flip a coin\" twice to construct a genotype. Again, if you run this cell of code multiple times, you may see different results each time."
      ],
      "metadata": {
        "id": "8NDiqaUM2J_Q"
      }
    },
    {
      "cell_type": "code",
      "source": [
        "# two coin flips, one for each allele\n",
        "allele1 = random.choice([\"H\",\"T\"])\n",
        "allele2 = random.choice([\"H\",\"T\"])\n",
        "\n",
        "# construct the genotype from the two alleles\n",
        "genotype = allele1 + allele2\n",
        "\n",
        "# display the genotype\n",
        "print(genotype)"
      ],
      "metadata": {
        "colab": {
          "base_uri": "https://localhost:8080/"
        },
        "id": "o6MjJ3xFx-Fv",
        "outputId": "0f5aa926-cce8-419d-eabb-85dc94cf39bc"
      },
      "execution_count": null,
      "outputs": [
        {
          "output_type": "stream",
          "name": "stdout",
          "text": [
            "TH\n"
          ]
        }
      ]
    },
    {
      "cell_type": "markdown",
      "source": [
        "Now let's map these coin flips onto a phenotype of interest. As an example, we can correspond the `TT` genotype to green peas and all other genotypes to yellow peas. "
      ],
      "metadata": {
        "id": "_yqDpp-zNeeK"
      }
    },
    {
      "cell_type": "code",
      "source": [
        "# TT genotype corresponds to green phenotype\n",
        "if genotype == \"TT\":\n",
        "  phenotype = \"green\"\n",
        "\n",
        "# all other genotypes correspond to yellow phenotype\n",
        "else: \n",
        "  phenotype = \"yellow\"\n",
        "\n",
        "# display the resulting phenotype\n",
        "print(phenotype)"
      ],
      "metadata": {
        "colab": {
          "base_uri": "https://localhost:8080/"
        },
        "id": "ZFSWnavAPUAZ",
        "outputId": "6a3f6695-8edd-47b5-9d2b-f6c2f8ce0b02"
      },
      "execution_count": null,
      "outputs": [
        {
          "output_type": "stream",
          "name": "stdout",
          "text": [
            "yellow\n"
          ]
        }
      ]
    },
    {
      "cell_type": "markdown",
      "source": [
        "Now let's simulate 100 \"coin flips\" as a way to get a percent of yellow peas from a Mendelian experiment. For this, we will simulate *each* plant in turn doing a set of coin flips and recording their genotype as a combination of heads and tails."
      ],
      "metadata": {
        "id": "JlmSEd-O2cP8"
      }
    },
    {
      "cell_type": "code",
      "source": [
        "def sim_coinflips(num_plants = 100):\n",
        "\n",
        "  # start a counter for yellow peas\n",
        "  yellow_count = 0\n",
        "\n",
        "  # repeat coin flips for each student\n",
        "  for i in range(num_plants):\n",
        "    \n",
        "    # do coin flips to make genotype\n",
        "    allele1 = random.choice([\"H\",\"T\"])\n",
        "    allele2 = random.choice([\"H\",\"T\"])\n",
        "    genotype = allele1 + allele2\n",
        "\n",
        "    # add to yellow counter if the genotpye is anything other than TT\n",
        "    if genotype != \"TT\":\n",
        "      yellow_count = yellow_count + 1\n",
        "\n",
        "  # return a precentage of yellow\n",
        "  return yellow_count*100 / num_plants\n"
      ],
      "metadata": {
        "id": "SKXPvb0syXMA"
      },
      "execution_count": null,
      "outputs": []
    },
    {
      "cell_type": "markdown",
      "source": [
        "Below we can now try out this simulation. If you run it multiple times, it should return a different answer each time. Should generally be around 75, but can sometimes be higher or lower. This demonstrates the **real** variability that can arise in biology!"
      ],
      "metadata": {
        "id": "zpOvj-f525y0"
      }
    },
    {
      "cell_type": "code",
      "source": [
        "sim_coinflips()"
      ],
      "metadata": {
        "colab": {
          "base_uri": "https://localhost:8080/"
        },
        "id": "dBV-mDZu0FBj",
        "outputId": "c2abb728-6f5a-4ae9-c83d-f9ec8874f02c"
      },
      "execution_count": null,
      "outputs": [
        {
          "output_type": "execute_result",
          "data": {
            "text/plain": [
              "73.0"
            ]
          },
          "metadata": {},
          "execution_count": 6
        }
      ]
    },
    {
      "cell_type": "markdown",
      "source": [
        "Finally, we can simulate Mendel's **real** experiments and see how much they deviate from the expected 75%. In this case, instead of running the simulation for just 100 plants, we can run it for the true number of plants he looked at, whether it was 580 or 8023. \n",
        "\n",
        "By repeatedly running these simulations we can get a sense of how surprising Mendel's results were."
      ],
      "metadata": {
        "id": "cgRaNIF8HqJD"
      }
    },
    {
      "cell_type": "code",
      "source": [
        "# gene 1, shape of seeds\n",
        "percent_dominant = sim_coinflips(num_plants=7324)\n",
        "print(\"Percent dominant:\", np.round(percent_dominant, 2))\n",
        "\n",
        "# gene 2, color of cotyledons\n",
        "percent_dominant = sim_coinflips(num_plants=8023)\n",
        "print(\"Percent dominant:\", np.round(percent_dominant, 2))\n",
        "\n",
        "# gene 3, color of seed coats\n",
        "percent_dominant = sim_coinflips(num_plants=929)\n",
        "print(\"Percent dominant:\", np.round(percent_dominant, 2))\n",
        "\n",
        "# gene 4, shape of pod\n",
        "percent_dominant = sim_coinflips(num_plants=1181)\n",
        "print(\"Percent dominant:\", np.round(percent_dominant, 2))\n",
        "\n",
        "# gene 5, color of pod\n",
        "percent_dominant = sim_coinflips(num_plants=580)\n",
        "print(\"Percent dominant:\", np.round(percent_dominant, 2))\n",
        "\n",
        "# gene 6, distirbution of flowers\n",
        "percent_dominant = sim_coinflips(num_plants=858)\n",
        "print(\"Percent dominant:\", np.round(percent_dominant, 2))\n",
        "\n",
        "# gene 7, height of plant\n",
        "percent_dominant = sim_coinflips(num_plants=1064)\n",
        "print(\"Percent dominant:\", np.round(percent_dominant, 2))"
      ],
      "metadata": {
        "colab": {
          "base_uri": "https://localhost:8080/"
        },
        "id": "0blgB_oG4M8C",
        "outputId": "741fabd1-db22-4898-b255-74e4d5554405"
      },
      "execution_count": null,
      "outputs": [
        {
          "output_type": "stream",
          "name": "stdout",
          "text": [
            "Percent dominant: 76.71\n",
            "Percent dominant: 75.13\n",
            "Percent dominant: 77.5\n",
            "Percent dominant: 74.6\n",
            "Percent dominant: 72.93\n",
            "Percent dominant: 74.59\n",
            "Percent dominant: 74.72\n"
          ]
        }
      ]
    },
    {
      "cell_type": "markdown",
      "source": [
        "# Problem 3 (30 points)\n",
        "\n",
        "A. For each of the seven traits in turn, simulate Mendel's experiment 1000 times, keeping in mind that Mendel looked at a different number of plants for each trait. Report a 95% confidence interval for each trait. \n",
        "\n",
        "Below I show the results for each trait in turn:"
      ],
      "metadata": {
        "id": "-TCPGSVrCwaH"
      }
    },
    {
      "cell_type": "code",
      "source": [
        "num_plants = [7324, 8023, 929, 1181, 580, 858, 1064]\n",
        "\n",
        "for num in num_plants:\n",
        "\n",
        "  # run simulation 1000 times\n",
        "  sims = np.zeros(1000)\n",
        "  for i in range(1000):\n",
        "    sims[i] = sim_coinflips(num_plants=num)\n",
        "\n",
        "  # computer and display confidence interval information\n",
        "  sims.sort()\n",
        "  lower = np.round(sims[24], 2)\n",
        "  upper = np.round(sims[-25], 2)\n",
        "  print(\"95% CI:\", lower, \"-\", upper)"
      ],
      "metadata": {
        "id": "JE6_ccWeTz85",
        "colab": {
          "base_uri": "https://localhost:8080/"
        },
        "outputId": "dd18e007-6760-4c02-ab70-24724b36eda1"
      },
      "execution_count": null,
      "outputs": [
        {
          "output_type": "stream",
          "name": "stdout",
          "text": [
            "95% CI: 74.07 - 75.96\n",
            "95% CI: 74.09 - 75.92\n",
            "95% CI: 72.34 - 77.83\n",
            "95% CI: 72.48 - 77.56\n",
            "95% CI: 71.21 - 78.62\n",
            "95% CI: 72.14 - 77.86\n",
            "95% CI: 72.09 - 77.63\n"
          ]
        }
      ]
    },
    {
      "cell_type": "markdown",
      "source": [
        "B. From Mendel's results (shown in class), how many of the traits lie within the confidence intervals you reported? Does this lead credence to Fisher's claim that Mendel's data were \"too good\"?\n",
        "\n",
        "From the lecture slides, these were the percentages that Mendel saw:\n",
        "- 74.7\n",
        "- 75.1\n",
        "- 75.9\n",
        "- 74.7\n",
        "- 73.8\n",
        "- 75.9\n",
        "- 74.0\n",
        "\n",
        "We see that each value lies well within the corresponding confidence interval from the previous part. While this fact alone isn't so surprising, it does give some credence to the claim that the data is too good. "
      ],
      "metadata": {
        "id": "Sga1hSQCT0ZP"
      }
    },
    {
      "cell_type": "markdown",
      "source": [
        "C. To further assess if Mendel's results are better than expected, the test statistic we will be using is the total deviation from 75% across the seven experiments. Look at the data shared in class, and for each pea phenotype calculate how much the percentage deviates from the expected 75%. What is the total deviation as summed up for all seven traits? Make sure to use the absolute value!"
      ],
      "metadata": {
        "id": "gfNrcnH5UIug"
      }
    },
    {
      "cell_type": "code",
      "source": [
        "mendel_vals = [74.7, 75.1, 75.9, 74.7, 73.8, 75.9, 74.0]\n",
        "tot_dev= 0\n",
        "\n",
        "for val in mendel_vals:\n",
        "  dev = abs(val-75)\n",
        "  tot_dev += dev\n",
        "\n",
        "tot_dev"
      ],
      "metadata": {
        "id": "oI21G7rfUuS0",
        "colab": {
          "base_uri": "https://localhost:8080/"
        },
        "outputId": "390d4583-f082-4b49-aaa8-434416b3c42e"
      },
      "execution_count": null,
      "outputs": [
        {
          "output_type": "execute_result",
          "data": {
            "text/plain": [
              "4.700000000000003"
            ]
          },
          "metadata": {},
          "execution_count": 9
        }
      ]
    },
    {
      "cell_type": "markdown",
      "source": [
        "We find the total deviation is 4.7 (ignoring Python's rounding errors in the final decimal). "
      ],
      "metadata": {
        "id": "5M58oKLJaxn0"
      }
    },
    {
      "cell_type": "markdown",
      "source": [
        "D. Simulate Mendel's entire set of 7 experiments 1,000 times. For each simulation, record the total deviation from the expected 75%, summed up for all the seven traits. Again, we want the absolute value here, since we care about the total deviation from expected."
      ],
      "metadata": {
        "id": "tB6a3F44cLqR"
      }
    },
    {
      "cell_type": "code",
      "source": [
        "num_plants = [7324, 8023, 929, 1181, 580, 858, 1064]\n",
        "\n",
        "devs = np.zeros(1000)\n",
        "\n",
        "for i in range(1000): \n",
        "\n",
        "  # keep track of total deviation\n",
        "  tot_dev = 0\n",
        "\n",
        "  # loop through the 7 traits\n",
        "  for num in num_plants:\n",
        "    dev = abs(sim_coinflips(num_plants=num)-75)\n",
        "    tot_dev += dev\n",
        "\n",
        "  # update deviation array\n",
        "  devs[i] = tot_dev"
      ],
      "metadata": {
        "id": "Ss52HjrrQ3DO"
      },
      "execution_count": null,
      "outputs": []
    },
    {
      "cell_type": "markdown",
      "source": [
        "E. Plot an ECDF of your simulated results. By eye, about what percentage of results were \"as good\" or better than Mendel's results? Remember we are testing Fisher's argument that Mendel's data were \"too good\", so were are looking for results with deviation equal to or less than what Mendel really saw."
      ],
      "metadata": {
        "id": "2Jdx7VvGdJsi"
      }
    },
    {
      "cell_type": "code",
      "source": [
        "def ecdf(data):\n",
        "  \"\"\"Generate x and y values for plotting an ECDF.\"\"\"\n",
        "  x_vals = np.sort(data)\n",
        "  y_vals = np.arange(1, len(data)+1) / len(data)\n",
        "  \n",
        "  return x_vals, y_vals"
      ],
      "metadata": {
        "id": "FGlnli3ibbYK"
      },
      "execution_count": null,
      "outputs": []
    },
    {
      "cell_type": "code",
      "source": [
        "x,y = ecdf(devs)\n",
        "plt.plot(x,y, '.')\n",
        "plt.xlabel(\"deviation from 75%\")\n",
        "plt.ylabel(\"ECDF\")"
      ],
      "metadata": {
        "colab": {
          "base_uri": "https://localhost:8080/",
          "height": 303
        },
        "id": "bEHHA5V7cGFN",
        "outputId": "3b037b3c-09db-4332-b714-3c7c04eeee2b"
      },
      "execution_count": null,
      "outputs": [
        {
          "output_type": "execute_result",
          "data": {
            "text/plain": [
              "Text(0, 0.5, 'ECDF')"
            ]
          },
          "metadata": {},
          "execution_count": 12
        },
        {
          "output_type": "display_data",
          "data": {
            "text/plain": [
              "<Figure size 432x288 with 1 Axes>"
            ],
            "image/png": "[encoded data removed]"
          },
          "metadata": {
            "needs_background": "light"
          }
        }
      ]
    },
    {
      "cell_type": "markdown",
      "source": [
        "From the plot, it looks like about 15%-20% of our simulations yielded a result of 4.7 or lower."
      ],
      "metadata": {
        "id": "3IzDYRlyce8j"
      }
    },
    {
      "cell_type": "markdown",
      "source": [
        "F. Compute a p-value from your simulated results. Do you agree with Fisher's argument that Mendel's data were too good?"
      ],
      "metadata": {
        "id": "reLE0aqweHha"
      }
    },
    {
      "cell_type": "code",
      "source": [
        "# look for results better than 4.7\n",
        "num_better = np.sum(devs < 4.7)\n",
        "\n",
        "# compute and display p-value\n",
        "p_val = num_better / len(devs)\n",
        "p_val"
      ],
      "metadata": {
        "id": "N1Zr46ITc5KO",
        "colab": {
          "base_uri": "https://localhost:8080/"
        },
        "outputId": "6aeb72c3-ad16-4e61-ad4a-1a7b7cee21f2"
      },
      "execution_count": null,
      "outputs": [
        {
          "output_type": "execute_result",
          "data": {
            "text/plain": [
              "0.2"
            ]
          },
          "metadata": {},
          "execution_count": 13
        }
      ]
    },
    {
      "cell_type": "markdown",
      "source": [
        "We get a p-value of 0.2, which matches well with what we saw by eye in the ECDF. At least with a cut-off of 0.05, we would not claim that Mendel's data were \"too good.\" That is, if we repeat Mendel's experiment, we not too infrequently see results that are as good as what Mendel saw."
      ],
      "metadata": {
        "id": "lO8lHqtydHWu"
      }
    },
    {
      "cell_type": "code",
      "source": [
        ""
      ],
      "metadata": {
        "id": "gA0ZtqnoKiof"
      },
      "execution_count": null,
      "outputs": []
    }
  ]
}