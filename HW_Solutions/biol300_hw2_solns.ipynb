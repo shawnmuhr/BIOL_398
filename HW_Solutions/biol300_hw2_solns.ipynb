{
  "nbformat": 4,
  "nbformat_minor": 0,
  "metadata": {
    "colab": {
      "name": "biol300_hw2_solns.ipynb",
      "provenance": [],
      "collapsed_sections": [],
      "toc_visible": true,
      "include_colab_link": true
    },
    "kernelspec": {
      "name": "python3",
      "display_name": "Python 3"
    },
    "language_info": {
      "name": "python"
    }
  },
  "cells": [
    {
      "cell_type": "markdown",
      "metadata": {
        "id": "view-in-github",
        "colab_type": "text"
      },
      "source": [
        "<a href=\"https://colab.research.google.com/github/shawnmuhr/BIOL_398/blob/main/HW_Solutions/biol300_hw2_solns.ipynb\" target=\"_parent\"><img src=\"https://colab.research.google.com/assets/colab-badge.svg\" alt=\"Open In Colab\"/></a>"
      ]
    },
    {
      "cell_type": "code",
      "metadata": {
        "id": "swcTzyQY-hLV"
      },
      "source": [
        " import random"
      ],
      "execution_count": null,
      "outputs": []
    },
    {
      "cell_type": "markdown",
      "source": [
        "# Exercise 0: Practicing using GitHub (10 points)\n",
        "\n",
        "We will be checking for commit messages, and to practice writing them, they will be worth points on this first assignment. To earn full points, *each* team member must submit *at least one* commit message during the process of working on this homework.\n",
        "\n"
      ],
      "metadata": {
        "id": "GBASCHbZfR5Z"
      }
    },
    {
      "cell_type": "markdown",
      "source": [
        "# Exercise 1a: Melting temperature calculator (10 pts)\n",
        "\n",
        "Let's say you want to make your own function for validating the design of a given PCR primer sequence. (Note many tools already exist [online](https://bioinfo.ut.ee/primer3-0.4.0/), but it's so much more satisfying to write your own!) As the first step, we want to calculate the melting temperature of a given primer sequence. We will use the following equation:\n",
        "\n",
        "$$ T_m = 81.5 + 0.41 \\times (\\%GC) - 675/N,$$\n",
        "\n",
        "where $T_m$ is the melting temperature in $^\\circ$C, %GC is the GC content (**in percent, not decimal!**), and $N$ is the length of the sequence. Write a function that will take in a DNA sequence, and output the melting temperature.\n",
        "\n",
        "Note you may want to make use of your `GC_content()` function from last week. You can redefine that function here to call it within the `melting_temp()` function below. \n",
        "\n",
        "# Solution 1a:\n",
        "\n",
        "First, I'll re-define the `GC_content` function that I wrote last time:"
      ],
      "metadata": {
        "id": "FuIxUcNuJ_nn"
      }
    },
    {
      "cell_type": "code",
      "source": [
        "def GC_content(DNA_seq):\n",
        "  \"\"\"Computes the GC content (as a float) given the provided DNA sequence \n",
        "  (a string)\"\"\"\n",
        "\n",
        "  # count Cs and Gs, respectively\n",
        "  C_count = DNA_seq.count('C')\n",
        "  G_count = DNA_seq.count('G')\n",
        "\n",
        "  # comupte GC content as a fraction \n",
        "  GC_frac = (C_count + G_count) / len(DNA_seq)\n",
        "\n",
        "  return GC_frac"
      ],
      "metadata": {
        "id": "DUTTnY9rA2Lu"
      },
      "execution_count": null,
      "outputs": []
    },
    {
      "cell_type": "markdown",
      "source": [
        "Now I can write the melting temperature function, calling my `GC_content` function from above."
      ],
      "metadata": {
        "id": "enlxBPMYBM4d"
      }
    },
    {
      "cell_type": "code",
      "source": [
        "def melting_temp(DNA_seq):\n",
        "  \"\"\"computes the melting temperature of provide DNA sequence\"\"\" \n",
        "\n",
        "  N = len(DNA_seq)\n",
        "\n",
        "  percent_GC_content = GC_content(DNA_seq)*100\n",
        "\n",
        "  T_m = 81.5 + 0.41*percent_GC_content - 675/N\n",
        "\n",
        "  return T_m"
      ],
      "metadata": {
        "id": "t0ST0C3HSDx1"
      },
      "execution_count": null,
      "outputs": []
    },
    {
      "cell_type": "markdown",
      "source": [
        "A few tests are included below, with the expected value in the comment above the function call."
      ],
      "metadata": {
        "id": "Bx-FbLRw1dZc"
      }
    },
    {
      "cell_type": "code",
      "source": [
        "# should be 71.8 (with rounding)\n",
        "melting_temp(\"ATCGATCAGTTACGATAGCCGAC\") "
      ],
      "metadata": {
        "colab": {
          "base_uri": "https://localhost:8080/"
        },
        "id": "ofzHBx-61k0-",
        "outputId": "b6ceb83b-b32b-4fb6-a830-c598b3c63d36"
      },
      "execution_count": null,
      "outputs": [
        {
          "output_type": "execute_result",
          "data": {
            "text/plain": [
              "71.76086956521738"
            ]
          },
          "metadata": {},
          "execution_count": 4
        }
      ]
    },
    {
      "cell_type": "code",
      "source": [
        "# should be 64.5\n",
        "melting_temp(\"GCATCGATCGATTACGAC\") "
      ],
      "metadata": {
        "id": "51BsAfJF2JzA",
        "outputId": "c8e31ca1-1444-4db3-9a02-718f42fc7f76",
        "colab": {
          "base_uri": "https://localhost:8080/"
        }
      },
      "execution_count": null,
      "outputs": [
        {
          "output_type": "execute_result",
          "data": {
            "text/plain": [
              "64.5"
            ]
          },
          "metadata": {},
          "execution_count": 5
        }
      ]
    },
    {
      "cell_type": "markdown",
      "metadata": {
        "id": "KVGco6Gx2Pk7"
      },
      "source": [
        "# Exercise 1b: Primer checker (20 pts)\n",
        "\n",
        "Let's now develop our full primer checker. For this, we will make reference to [ThermoFisher's guidlines for primer design](https://www.thermofisher.com/blog/behindthebench/pcr-primer-design-tips/). Specifically, your function should to make the following checks on a given DNA sequence:\n",
        "\n",
        "- GC content to be between 40 and 60%. (Again you can use your function from last week.)\n",
        "- Primer ends in a G or C\n",
        "- Length between 18 and 30 bases\n",
        "- Make sure the melting temperature is between 65$^\\circ$C and 75$^\\circ$C\n",
        "- Avoid strings of 4 of the same nucleotide (i.e. 'AAAA', 'CCCC', etc.)\n",
        "\n",
        "You'll want to check each of these rules in turn and `print` output to let the user know if they have violated any (or all!) of these design guidelines. If everything checks out, you can return the melting temperature so you can go about designing your PCR reaction!\n",
        "\n",
        "Note there are *a lot* of checks to do here. To keep the `primer_checker()` function more manageable, you may want to write some other smaller functions that you can call in this main function. How you approach the code is up to you.  \n",
        "\n",
        "# Solution 1b:\n",
        "\n",
        "Below I structure my `primer_checker` function as a set of consecutive `if` statements. This is probably reaching the max of what I would want to tackle with a single function, so it would also have been reasonable to break it out into several smaller functions."
      ]
    },
    {
      "cell_type": "code",
      "metadata": {
        "id": "qboZAu4-2tmO"
      },
      "source": [
        "def primer_checker(DNA_seq):\n",
        "  \"\"\"Provides output (in the form of print statements) to the user,\n",
        "  letting them know if the primer sequence has any design flaw.\n",
        "  Otherwise, returns the melting temperature\"\"\"\n",
        "\n",
        "  # primer is considered good, unless we fail one of the tests below\n",
        "  good_primer = True\n",
        "\n",
        "  # check for length\n",
        "  if len(DNA_seq) < 18:\n",
        "    good_primer = False\n",
        "    print(\"Your primer is too short\")\n",
        "  if len(DNA_seq) > 30:\n",
        "    good_primer = False\n",
        "    print(\"Your primer is too long\")\n",
        "\n",
        "  # check for ending in G or C\n",
        "  if DNA_seq[-1] not in [\"G\",\"C\"]:\n",
        "    good_primer = False\n",
        "    print(\"Your primer does not end in a G or C\")\n",
        "\n",
        "  # check for GC content\n",
        "  if GC_content(DNA_seq) < 0.4:\n",
        "    good_primer = False\n",
        "    print(\"Your primer's GC content is too low\")\n",
        "  if GC_content(DNA_seq) > 0.6:\n",
        "    good_primer = False\n",
        "    print(\"Your primer's GC content is too high\")\n",
        "\n",
        "  # check for melting temperature\n",
        "  T_m = melting_temp(DNA_seq)\n",
        "  if T_m < 65:\n",
        "    good_primer = False\n",
        "    print(\"Your primer's melting temperature is too low\") \n",
        "  if T_m > 75:\n",
        "    good_primer = False\n",
        "    print(\"Your primer's melting temperature is too high\")\n",
        "\n",
        "  # check for repeats of four nucleotides in a row\n",
        "  bad_seqs = [\"AAAA\",\"CCCC\",\"GGGG\",\"TTTT\"]\n",
        "  for i in range(len(DNA_seq)):\n",
        "    if DNA_seq[i:i+4] in bad_seqs:\n",
        "      good_primer = False\n",
        "      print(\"Your primer has a nucleotide repeated at least 4 times in a row\")\n",
        "      break # so this print statment only appears once\n",
        "\n",
        "  # return the melting temperature if everything checks out!\n",
        "  if good_primer:\n",
        "    return melting_temp(DNA_seq)\n",
        "  \n",
        "  # otherwise return nothing\n",
        "  return"
      ],
      "execution_count": null,
      "outputs": []
    },
    {
      "cell_type": "markdown",
      "source": [
        "# Exercise 1c: Testing your primer checker (10 points)\n",
        "\n",
        "For each of the five rules we put in place for good primer design, test out your function below to demonstrate that it responds appropriately for when the rule is followed and when the rule is broken. "
      ],
      "metadata": {
        "id": "V-UULDT-U4s8"
      }
    },
    {
      "cell_type": "markdown",
      "source": [
        "# Soultion 1c:\n",
        "\n",
        "First I'll start with a seqeunce that passes all the tests, and then test the various checks in turn:\n"
      ],
      "metadata": {
        "id": "LXGgbw2ZbvAj"
      }
    },
    {
      "cell_type": "code",
      "source": [
        "primer_checker(\"ATCGACTAAGCTAGCATCGATGCG\")"
      ],
      "metadata": {
        "colab": {
          "base_uri": "https://localhost:8080/"
        },
        "id": "ynJV-pXhb8Eq",
        "outputId": "558082cf-34e5-456d-b0de-af8454500ead"
      },
      "execution_count": null,
      "outputs": [
        {
          "output_type": "execute_result",
          "data": {
            "text/plain": [
              "73.875"
            ]
          },
          "metadata": {},
          "execution_count": 7
        }
      ]
    },
    {
      "cell_type": "markdown",
      "source": [
        "Let's test making the sequence too short and too long:"
      ],
      "metadata": {
        "id": "Gzz42MvccABl"
      }
    },
    {
      "cell_type": "code",
      "source": [
        "primer_checker(\"ATCGACTAAGCTAC\")\n",
        "print()\n",
        "primer_checker(\"ATCGACTAAGCTAGCATCGATGCGATCGACCAAG\")"
      ],
      "metadata": {
        "colab": {
          "base_uri": "https://localhost:8080/"
        },
        "id": "SE0WagiUcLt5",
        "outputId": "31f6245c-cfce-4e24-a8b7-d81d7300d0c3"
      },
      "execution_count": null,
      "outputs": [
        {
          "output_type": "stream",
          "name": "stdout",
          "text": [
            "Your primer is too short\n",
            "Your primer's melting temperature is too low\n",
            "\n",
            "Your primer is too long\n",
            "Your primer's melting temperature is too high\n"
          ]
        }
      ]
    },
    {
      "cell_type": "markdown",
      "source": [
        "Great. That worked. We also got melting temperature warnings, but that makes sense as we change the number of basepairs. Next let's test ending the primer without a C or G:"
      ],
      "metadata": {
        "id": "D42Q2BX5cX6t"
      }
    },
    {
      "cell_type": "code",
      "source": [
        "primer_checker(\"ATCGACTAAGCTAGCATCGATGCGA\") \n",
        "print()\n",
        "primer_checker(\"ATCGACTAAGCTAGCATCGATGCGT\") "
      ],
      "metadata": {
        "colab": {
          "base_uri": "https://localhost:8080/"
        },
        "id": "Zr3eWoIVjGdt",
        "outputId": "531fc9a9-e9e5-4d54-a672-b29b9969a6cf"
      },
      "execution_count": null,
      "outputs": [
        {
          "output_type": "stream",
          "name": "stdout",
          "text": [
            "Your primer does not end in a G or C\n",
            "\n",
            "Your primer does not end in a G or C\n"
          ]
        }
      ]
    },
    {
      "cell_type": "markdown",
      "source": [
        "Next let's alter the GC content and see how our function responds:"
      ],
      "metadata": {
        "id": "Ft5jIAX3Fmpi"
      }
    },
    {
      "cell_type": "code",
      "source": [
        "primer_checker(\"ATTAACTAAGATAGTATCGATACG\") # AT-rich\n",
        "print()\n",
        "primer_checker(\"AGCGACCAGGCTAGCAGCGAGGCG\") # GC-righ"
      ],
      "metadata": {
        "colab": {
          "base_uri": "https://localhost:8080/"
        },
        "id": "ejSoRaHMFrpc",
        "outputId": "91e23be8-071a-4656-ed8e-76b45664d321"
      },
      "execution_count": null,
      "outputs": [
        {
          "output_type": "stream",
          "name": "stdout",
          "text": [
            "Your primer's GC content is too low\n",
            "\n",
            "Your primer's GC content is too high\n",
            "Your primer's melting temperature is too high\n"
          ]
        }
      ]
    },
    {
      "cell_type": "markdown",
      "source": [
        "We already saw that the melting temperature checks worked above, so let's lastly check for string of nucleotides repeating four times or more. "
      ],
      "metadata": {
        "id": "rjxD_cXhE5-U"
      }
    },
    {
      "cell_type": "code",
      "source": [
        "primer_checker(\"ATCGACTAAAAGCTAGCATCGATGCG\") # A repeated\n",
        "print()\n",
        "primer_checker(\"ATCGACTTTTAAGCTAGCATCGATGCG\") # T repeated\n",
        "print()\n",
        "primer_checker(\"ATCGACTAAGCTAGCATCGAGGGG\") # G repeated\n",
        "print()\n",
        "primer_checker(\"ATCGACTAACCCCGCATCGAGGGG\") # C repeated"
      ],
      "metadata": {
        "colab": {
          "base_uri": "https://localhost:8080/"
        },
        "id": "hvRbIXhPctCT",
        "outputId": "88476085-76bd-486b-cbdf-b16b2903fce9"
      },
      "execution_count": null,
      "outputs": [
        {
          "output_type": "stream",
          "name": "stdout",
          "text": [
            "Your primer has a nucleotide repeated at least 4 times in a row\n",
            "\n",
            "Your primer has a nucleotide repeated at least 4 times in a row\n",
            "\n",
            "Your primer's melting temperature is too high\n",
            "Your primer has a nucleotide repeated at least 4 times in a row\n",
            "\n",
            "Your primer's GC content is too high\n",
            "Your primer's melting temperature is too high\n",
            "Your primer has a nucleotide repeated at least 4 times in a row\n"
          ]
        }
      ]
    },
    {
      "cell_type": "markdown",
      "source": [
        "We've now seen all the possible warning messages, so it seems our function works well!"
      ],
      "metadata": {
        "id": "0Uf66CA-F32A"
      }
    },
    {
      "cell_type": "markdown",
      "metadata": {
        "id": "tvlp-tg74q24"
      },
      "source": [
        "# Exercise 2: Mutate sequence (20 points)\n",
        "\n",
        "Last time we wrote code to mutate a single nucleotide to another nucleotide. Now we will expand the functionality to mutagenize an entire DNA sequence at a specified mutation rate. For example, if we have a DNA sequence of length ten and mutagenize at rate 0.1, we would expect *on average* one nucleotide to get mutated, but it may very well happen that more than one (or no) nucleotides get mutated. You may want to reference [Python's documentation about the random module](https://docs.python.org/3/library/random.html) for functions that may help you here.\n",
        "\n",
        "Again, I will reuse the functions from last time, so I copy the `mutate_nt` function here."
      ]
    },
    {
      "cell_type": "code",
      "source": [
        "def mutate_nt(nt):\n",
        "  \"\"\"Returns a randomly selected mutated nucleotide from the inputted \n",
        "  nucleotide\"\"\"\n",
        "\n",
        "  # initialize all possible options, then exclude the nt provided\n",
        "  options = [\"A\",\"T\",\"C\",\"G\"]\n",
        "  options.remove(nt)\n",
        "\n",
        "  # return one of the remaining options at random\n",
        "  return random.choice(options)"
      ],
      "metadata": {
        "id": "_g7NM-cHSfRI"
      },
      "execution_count": null,
      "outputs": []
    },
    {
      "cell_type": "code",
      "source": [
        "import random"
      ],
      "metadata": {
        "id": "rSPjAh7rjUCO"
      },
      "execution_count": null,
      "outputs": []
    },
    {
      "cell_type": "code",
      "metadata": {
        "id": "mRuQLEqX45fV"
      },
      "source": [
        "def mutate_seq(DNA_seq, mut_rate):\n",
        "  \"\"\"Returns a mutated DNA sequence at the mutation rate provided\"\"\"\n",
        "\n",
        "  # convert DNA to a list, so as to be more easily edited\n",
        "  DNA_list = list(DNA_seq)\n",
        "\n",
        "  # loop through DNA\n",
        "  for i in range(len(DNA_list)):\n",
        "\n",
        "    # get a random number from 0 to 1\n",
        "    rand_num = random.random()\n",
        "\n",
        "    # using that random number, decide whether to mutate or not\n",
        "    if rand_num < mut_rate:\n",
        "      rand_nuc = mutate_nt(DNA_list[i])\n",
        "      DNA_list[i] = rand_nuc\n",
        "\n",
        "  # combine the list back into a string for returning\n",
        "  DNA_seq = \"\".join(DNA_list)\n",
        "\n",
        "  return DNA_seq"
      ],
      "execution_count": null,
      "outputs": []
    },
    {
      "cell_type": "markdown",
      "source": [
        "Make sure to try your code out on a few sequence to see that they do in fact mutate! \n",
        "\n",
        "Just to see the mutations easily, I use a loop to mutate the same sequence 10 separate times."
      ],
      "metadata": {
        "id": "54C6yndqYovp"
      }
    },
    {
      "cell_type": "code",
      "source": [
        "for i in range(10):\n",
        "  print(mutate_seq(\"AAATTTCCCGGG\", 0.2))"
      ],
      "metadata": {
        "colab": {
          "base_uri": "https://localhost:8080/"
        },
        "id": "42sheeeMTK28",
        "outputId": "720e7ae2-3ef2-4051-ecaf-cda5b8ecc58c"
      },
      "execution_count": null,
      "outputs": [
        {
          "output_type": "stream",
          "name": "stdout",
          "text": [
            "AAATTTTTCAGG\n",
            "AAAAGTCCCGGG\n",
            "AAATTTCCCAGG\n",
            "AGGTTTCGCGGG\n",
            "ATACTTCTCGGG\n",
            "AAATTTACCTGG\n",
            "AAATTTCCCGGA\n",
            "AAATTTCCCGGA\n",
            "AAATTTCACGGT\n",
            "GAGTTTCCCAGG\n"
          ]
        }
      ]
    },
    {
      "cell_type": "markdown",
      "source": [
        "This demonsrates the randomness I was hoping for. Sometimes there's one or two mutations, and sometimes there's no mutations! It's all just a matter of chance."
      ],
      "metadata": {
        "id": "N7qqDYi8G2L9"
      }
    },
    {
      "cell_type": "markdown",
      "metadata": {
        "id": "28Ho4WoHARJe"
      },
      "source": [
        "# Exercise 3: ORF finder (30 pts)\n",
        "\n",
        "Again building off the code we wrote last time, we will now write an Open Reading Frame (ORF) finder. This means rather than just blinding translating from the start of the provided DNA sequence, we will want to be mindful of start codons and various reading frames. Your function should return a `list` of possible ORFs translated into amino acid sequences, considering all possible start codons in all possible reading frames. \n",
        "\n",
        "As an example, your code may output something like:\n",
        "`[\"MRPSLRAMHGAVRT*\",\"MHGAVRT*\",\"MAETMLP\",\"MLP\"]`, where some ORFs can be a subset of another ORFs, and some ORFs don't have a terminating stop codon because they've reached the end of the provided sequence.\n",
        "\n",
        "Again, we need to define the dictionary for corresponding codons to amino acids. "
      ]
    },
    {
      "cell_type": "code",
      "metadata": {
        "id": "PZ3ta2PRA3GR"
      },
      "source": [
        "aa_dict = \\\n",
        "{'TTT': 'F', 'TTC': 'F', 'TTA': 'L', 'TTG': 'L', 'TCT': 'S', 'TCC': 'S', \n",
        " 'TCA': 'S', 'TCG': 'S', 'TAT': 'Y', 'TAC': 'Y', 'TAA': '*', 'TAG': '*', \n",
        " 'TGT': 'C', 'TGC': 'C', 'TGA': '*', 'TGG': 'W', 'CTT': 'L', 'CTC': 'L', \n",
        " 'CTA': 'L', 'CTG': 'L', 'CCT': 'P', 'CCC': 'P', 'CCA': 'P', 'CCG': 'P', \n",
        " 'CAT': 'H', 'CAC': 'H', 'CAA': 'Q', 'CAG': 'Q', 'CGT': 'R', 'CGC': 'R', \n",
        " 'CGA': 'R', 'CGG': 'R', 'ATT': 'I', 'ATC': 'I', 'ATA': 'I', 'ATG': 'M', \n",
        " 'ACT': 'T', 'ACC': 'T', 'ACA': 'T', 'ACG': 'T', 'AAT': 'N', 'AAC': 'N', \n",
        " 'AAA': 'K', 'AAG': 'K', 'AGT': 'S', 'AGC': 'S', 'AGA': 'R', 'AGG': 'R', \n",
        " 'GTT': 'V', 'GTC': 'V', 'GTA': 'V', 'GTG': 'V', 'GCT': 'A', 'GCC': 'A', \n",
        " 'GCA': 'A', 'GCG': 'A', 'GAT': 'D', 'GAC': 'D', 'GAA': 'E', 'GAG': 'E', \n",
        " 'GGT': 'G', 'GGC': 'G', 'GGA': 'G', 'GGG': 'G'}"
      ],
      "execution_count": null,
      "outputs": []
    },
    {
      "cell_type": "markdown",
      "source": [
        "And now you can write your function.\n",
        "\n",
        "Using the `translate` function from last time, I can call it in my `ORF_finder` function."
      ],
      "metadata": {
        "id": "btJlEdNvhjYO"
      }
    },
    {
      "cell_type": "code",
      "source": [
        "def translate(DNA_seq):\n",
        "  \"\"\"Returns a string of the amino acid sequence that results from translating\n",
        "  the inputted DNA sequence\"\"\"\n",
        "\n",
        "  # round down to get number of codons\n",
        "  num_codons = int(len(DNA_seq)/3)\n",
        "\n",
        "  # initilize string of amino acids\n",
        "  aa_seq = \"\"\n",
        "  \n",
        "  for i in range(num_codons):\n",
        "\n",
        "    # determine codon and corresponding amino acid\n",
        "    codon = DNA_seq[i*3:i*3+3]\n",
        "    aa = aa_dict[codon]\n",
        "\n",
        "    # update amino acid string with new amino acid\n",
        "    aa_seq = aa_seq + aa\n",
        "\n",
        "    # check for stop codon\n",
        "    if aa == \"*\":\n",
        "      return aa_seq\n",
        "\n",
        "  return aa_seq"
      ],
      "metadata": {
        "id": "NA34kRMcTfxy"
      },
      "execution_count": null,
      "outputs": []
    },
    {
      "cell_type": "code",
      "metadata": {
        "id": "lvLfVDqPHH9B"
      },
      "source": [
        "def ORF_finder(DNA_seq):\n",
        "  \"\"\"Returns a list of all translated ORFs in the provided\n",
        "  DNA sequence\"\"\"\n",
        "\n",
        "  # initilize list to save ORF\n",
        "  ORFs = []\n",
        "\n",
        "  # loop through DNA and look for start codons\n",
        "  for i in range(len(DNA_seq)):\n",
        "    if DNA_seq[i:i+3] == \"ATG\":\n",
        "\n",
        "      # once you find a start codon,\n",
        "      # call the translate function to get the ORF from this start codon\n",
        "      ORF = translate(DNA_seq[i:])\n",
        "\n",
        "      # add ORF to list\n",
        "      ORFs.append(ORF)\n",
        "  \n",
        "  return ORFs"
      ],
      "execution_count": null,
      "outputs": []
    },
    {
      "cell_type": "markdown",
      "source": [
        "Test out your function on a few inputs to make sure it works as expected. A few things you may want to check for:\n",
        "- Does your function find multiple ORFs?\n",
        "- Does your function find overlapping ORFs?\n",
        "- Does your function find ORFs in different reading frames?\n",
        "\n"
      ],
      "metadata": {
        "id": "HCFfDpmECglS"
      }
    },
    {
      "cell_type": "markdown",
      "source": [
        "Below I test it out, seeing that it does find ORFs that are subsets of each other (e.g. the first and second), as well as an ORF in a different reading frame (e.g. the third one)."
      ],
      "metadata": {
        "id": "s84tzoQYHrqb"
      }
    },
    {
      "cell_type": "code",
      "source": [
        "ORF_finder(\"ATGCAGCATCAGATGCATCGACAATGCGACGACAGTCAGCATAGACGCA\")"
      ],
      "metadata": {
        "colab": {
          "base_uri": "https://localhost:8080/"
        },
        "id": "TAo-2TwRT9YO",
        "outputId": "774810d5-95b1-4a67-a381-857c9d7b2883"
      },
      "execution_count": null,
      "outputs": [
        {
          "output_type": "execute_result",
          "data": {
            "text/plain": [
              "['MQHQMHRQCDDSQHRR', 'MHRQCDDSQHRR', 'MRRQSA*']"
            ]
          },
          "metadata": {},
          "execution_count": 18
        }
      ]
    },
    {
      "cell_type": "markdown",
      "metadata": {
        "id": "tO945D2MK87G"
      },
      "source": [
        "# How long did this take? \n",
        "\n",
        "With a new course and new assignments, I want to be conscientious with how much time this course takes. Please let me know how long this took, so I can adjust future homeworks if needed.\n",
        "\n",
        "# References\n",
        "\n",
        "If you referenced any external sources for completing this homework, please list them below. (Just the links are fine.)\n",
        "\n",
        "# Submitting your homework\n",
        "\n",
        "Please make sure to state what each group member contribute and have each group member \"sign off\" that they agree they are satisfied with the final submission of this homework.\n",
        "\n",
        "You will submit this homework (and all subsequent homeworks via GitHub). Unless you have an approved extension or opt to submit the homework late (with a 10% deduction per day), your homework will be graded based on what is submitted on GitHub at the time of the deadline. So don't forget to push! "
      ]
    }
  ]
}