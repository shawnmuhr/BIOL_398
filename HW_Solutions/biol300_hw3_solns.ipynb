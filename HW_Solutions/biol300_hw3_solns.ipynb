{
  "nbformat": 4,
  "nbformat_minor": 0,
  "metadata": {
    "colab": {
      "name": "biol300_hw3_solns.ipynb",
      "provenance": [],
      "collapsed_sections": [],
      "include_colab_link": true
    },
    "kernelspec": {
      "name": "python3",
      "display_name": "Python 3"
    },
    "language_info": {
      "name": "python"
    }
  },
  "cells": [
    {
      "cell_type": "markdown",
      "metadata": {
        "id": "view-in-github",
        "colab_type": "text"
      },
      "source": [
        "<a href=\"https://colab.research.google.com/github/shawnmuhr/BIOL_398/blob/main/HW_Solutions/biol300_hw3_solns.ipynb\" target=\"_parent\"><img src=\"https://colab.research.google.com/assets/colab-badge.svg\" alt=\"Open In Colab\"/></a>"
      ]
    },
    {
      "cell_type": "markdown",
      "source": [
        "# Problem 1: Comparing the 18S sequencing of three bird species (20 points)\n",
        "\n",
        "a) Referencing the pre-class exercise we did for Friday, load in the `bird_18s.txt` file. \n",
        "\n",
        "b) Parse the information in this FASTA file, saving `chicken`, `duck`, and `turkey` variables as their corresponding DNA sequences.\n",
        "\n",
        "c) Write a function with the following function call `SNP_counter(seq1, seq2)` that will return the number of difference (i.e. single nucleotide polymorphisms) between the two sequences inputted.\n",
        "\n",
        "d) Using the function you wrote in part c, determine the number of difference between these birds' sequences. Display your results with the following print statements:\n",
        "\n",
        "> `chicken and duck differ by __ basepairs`\n",
        "\n",
        "> `chicken and turkey differ by __ basepairs`\n",
        "\n",
        "> `duck and turkey differ by __ basepairs`\n",
        "\n",
        "e) From your results, what can you conclude about the relative evolutionary relationship between these three birds? Does this make sense to you?\n"
      ],
      "metadata": {
        "id": "1eY0ThO1vWkb"
      }
    },
    {
      "cell_type": "code",
      "source": [
        "from google.colab import files\n",
        "uploaded = files.upload()"
      ],
      "metadata": {
        "colab": {
          "resources": {
            "http://localhost:8080/nbextensions/google.colab/files.js": {
              "data": "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",
              "ok": true,
              "headers": [
                [
                  "content-type",
                  "application/javascript"
                ]
              ],
              "status": 200,
              "status_text": ""
            }
          },
          "base_uri": "https://localhost:8080/",
          "height": 73
        },
        "id": "vBHIgBs4xpwW",
        "outputId": "69a5ea96-a13f-4c0d-f337-f4464d921e4b"
      },
      "execution_count": null,
      "outputs": [
        {
          "output_type": "display_data",
          "data": {
            "text/plain": [
              "<IPython.core.display.HTML object>"
            ],
            "text/html": [
              "\n",
              "     <input type=\"file\" id=\"files-8ff266f9-d963-429b-a03b-f5eda6dccc42\" name=\"files[]\" multiple disabled\n",
              "        style=\"border:none\" />\n",
              "     <output id=\"result-8ff266f9-d963-429b-a03b-f5eda6dccc42\">\n",
              "      Upload widget is only available when the cell has been executed in the\n",
              "      current browser session. Please rerun this cell to enable.\n",
              "      </output>\n",
              "      <script src=\"/nbextensions/google.colab/files.js\"></script> "
            ]
          },
          "metadata": {}
        },
        {
          "output_type": "stream",
          "name": "stdout",
          "text": [
            "Saving 201Syllabus_S22.pdf to 201Syllabus_S22.pdf\n"
          ]
        }
      ]
    },
    {
      "cell_type": "code",
      "source": [
        "bird_data = uploaded['bird_18S.txt'].decode(\"utf-8\").split('\\n')\n",
        "bird_data"
      ],
      "metadata": {
        "colab": {
          "base_uri": "https://localhost:8080/"
        },
        "id": "x9311LVcyNOl",
        "outputId": "af13d9ba-dc04-45d4-c0eb-a2d9122b95c1"
      },
      "execution_count": null,
      "outputs": [
        {
          "output_type": "execute_result",
          "data": {
            "text/plain": [
              "['>chicken',\n",
              " 'CCAGCTCCAATAGCGTATATTAAAGTTGCTGCAGTTAAAAAGCTCGTAGTTGGATCTTGG',\n",
              " 'GATCGAGCTGGCGGTCCGCCGCGAGGCGAGCTACCGCCTGTCCCAGCCCCTGTCTCTCGG',\n",
              " 'CGCCCCCTCGATGCTCTTAACTGAGTGTCCCGCGGGGCCCGAAGCGTTTACTTTGAAAAA',\n",
              " 'ATTAGAGTGTTCAAAGCAGGCTGGCCGCCGGAATACTCCAGCTAGGAATAATGGAATAGG',\n",
              " 'ACTCCGGTTCTATTTTGTTGGTTTTCGGAAACGGGGCCATGATTAAGAGGGACGGCCGGG',\n",
              " 'GGCATTCGTATTGTGCCGCTAGAGGTGAAATTCTTGGACCGGCGCAAGACGAACTAAAGC',\n",
              " 'GAAA',\n",
              " '>duck',\n",
              " 'CCAGCTCCAATAGCGTATCTTAAAGTTGCTGCAGTTAAAAAGCTCGTAGTTGGATCTTGG',\n",
              " 'GATGGAGCTGGCGGTCCGCCGCGAGGCGAGCTACCGCCTGTGCCAGCCCCTGCCTGTCGG',\n",
              " 'CGCCCCCTCGATGCTCTTAAGTGAGTGTCCCGCGGGGCCCGAAGCGTTTACTTTGAAAAA',\n",
              " 'ATTAGAGTGTTCAAAGCAGGCCGGCCGCCGGAATACTGCAGCTAGGAATAATGGAATAGG',\n",
              " 'ACTCCGGTTCTATTTTGTTGGTTTTCGGAAACGGGGCCATGATTAAGAGGGACGGCCGGG',\n",
              " 'GGCATTCGTATTGTGCCGCTAGAGGTGAAATTCTTGGACCGGCGCAAGACGAACTAAAGC',\n",
              " 'GAAA',\n",
              " '>turkey',\n",
              " 'CCAGCTCCAATAGCGTATCTTAAAGTTGCTGCAGTTAAAAAGCTCGTAGTTGGATCTTGG',\n",
              " 'GATCGAGCTGGCGGTCCGCCGCGAGGCGAGCTACCGCCTGTCCCAGCCCCTGTCTCTCGG',\n",
              " 'CGCCCCCTCGATGCTCTTAACTGAGTGTCCCGCGGGGCCCGAAGCGTTTACTTTGAAAAA',\n",
              " 'ATTAGAGTGTTCAAAGCAGGCCGGCCGCCGGAATACTCCAGCTAGGAATAATGGAATAGG',\n",
              " 'ACTCCGGTTCTATTTTGTTGGTTTTCGGAAACGGGGCCATGATTAAGAGGGACGGCCGGG',\n",
              " 'GGCATTCGTATTGTGCCGCTAGAGGTGAAATTCTTGGACCGGCGCAAGACGAACTAAAGC',\n",
              " 'GAAA']"
            ]
          },
          "metadata": {},
          "execution_count": 2
        }
      ]
    },
    {
      "cell_type": "markdown",
      "source": [
        "First I find the locations of the three headers."
      ],
      "metadata": {
        "id": "SVS2KULKX0JU"
      }
    },
    {
      "cell_type": "code",
      "source": [
        "chicken_loc = bird_data.index(\">chicken\")\n",
        "duck_loc = bird_data.index(\">duck\")\n",
        "turkey_loc = bird_data.index(\">turkey\")\n",
        "print(chicken_loc, duck_loc, turkey_loc)"
      ],
      "metadata": {
        "colab": {
          "base_uri": "https://localhost:8080/"
        },
        "id": "odzDmNr7caTE",
        "outputId": "e74c95eb-4852-4a09-87ee-2ea46c4c13b0"
      },
      "execution_count": null,
      "outputs": [
        {
          "output_type": "stream",
          "name": "stdout",
          "text": [
            "0 8 16\n"
          ]
        }
      ]
    },
    {
      "cell_type": "markdown",
      "source": [
        "Using the locations of the headers, I stitch together the intervening sequences with the `join` method. That is, the sequences between the chicken and duck headers correspond to the chicken sequence, while the sequences between the duck and turkey headers correspond to the duck sequence."
      ],
      "metadata": {
        "id": "GbFxHTR_YMcN"
      }
    },
    {
      "cell_type": "code",
      "source": [
        "chicken = \"\".join(bird_data[chicken_loc+1 : duck_loc])\n",
        "duck = \"\".join(bird_data[duck_loc+1 : turkey_loc])\n",
        "turkey = \"\".join(bird_data[turkey_loc+1:])"
      ],
      "metadata": {
        "id": "ACuETKJbyWT-"
      },
      "execution_count": null,
      "outputs": []
    },
    {
      "cell_type": "markdown",
      "source": [
        "Printing out these sequences, they look good! Now we can move on to comparing them! "
      ],
      "metadata": {
        "id": "VwpZC5DZZtw7"
      }
    },
    {
      "cell_type": "code",
      "source": [
        "print(chicken)\n",
        "print(duck)\n",
        "print(turkey)"
      ],
      "metadata": {
        "colab": {
          "base_uri": "https://localhost:8080/"
        },
        "id": "h6EOCRnsZ78s",
        "outputId": "e7d183f3-b922-49e0-985e-81e21b31db8d"
      },
      "execution_count": null,
      "outputs": [
        {
          "output_type": "stream",
          "name": "stdout",
          "text": [
            "CCAGCTCCAATAGCGTATATTAAAGTTGCTGCAGTTAAAAAGCTCGTAGTTGGATCTTGGGATCGAGCTGGCGGTCCGCCGCGAGGCGAGCTACCGCCTGTCCCAGCCCCTGTCTCTCGGCGCCCCCTCGATGCTCTTAACTGAGTGTCCCGCGGGGCCCGAAGCGTTTACTTTGAAAAAATTAGAGTGTTCAAAGCAGGCTGGCCGCCGGAATACTCCAGCTAGGAATAATGGAATAGGACTCCGGTTCTATTTTGTTGGTTTTCGGAAACGGGGCCATGATTAAGAGGGACGGCCGGGGGCATTCGTATTGTGCCGCTAGAGGTGAAATTCTTGGACCGGCGCAAGACGAACTAAAGCGAAA\n",
            "CCAGCTCCAATAGCGTATCTTAAAGTTGCTGCAGTTAAAAAGCTCGTAGTTGGATCTTGGGATGGAGCTGGCGGTCCGCCGCGAGGCGAGCTACCGCCTGTGCCAGCCCCTGCCTGTCGGCGCCCCCTCGATGCTCTTAAGTGAGTGTCCCGCGGGGCCCGAAGCGTTTACTTTGAAAAAATTAGAGTGTTCAAAGCAGGCCGGCCGCCGGAATACTGCAGCTAGGAATAATGGAATAGGACTCCGGTTCTATTTTGTTGGTTTTCGGAAACGGGGCCATGATTAAGAGGGACGGCCGGGGGCATTCGTATTGTGCCGCTAGAGGTGAAATTCTTGGACCGGCGCAAGACGAACTAAAGCGAAA\n",
            "CCAGCTCCAATAGCGTATCTTAAAGTTGCTGCAGTTAAAAAGCTCGTAGTTGGATCTTGGGATCGAGCTGGCGGTCCGCCGCGAGGCGAGCTACCGCCTGTCCCAGCCCCTGTCTCTCGGCGCCCCCTCGATGCTCTTAACTGAGTGTCCCGCGGGGCCCGAAGCGTTTACTTTGAAAAAATTAGAGTGTTCAAAGCAGGCCGGCCGCCGGAATACTCCAGCTAGGAATAATGGAATAGGACTCCGGTTCTATTTTGTTGGTTTTCGGAAACGGGGCCATGATTAAGAGGGACGGCCGGGGGCATTCGTATTGTGCCGCTAGAGGTGAAATTCTTGGACCGGCGCAAGACGAACTAAAGCGAAA\n"
          ]
        }
      ]
    },
    {
      "cell_type": "code",
      "source": [
        "def SNP_counter(seq1, seq2):\n",
        "  \"\"\" Returns the number of differences between two sequences\"\"\"\n",
        "\n",
        "  diff_counter = 0\n",
        "\n",
        "  # loop through the length of the sequence\n",
        "  for i in range(len(seq1)):\n",
        "\n",
        "    # if we find a mismatch, we increment the counter\n",
        "    if seq1[i] != seq2[i]:\n",
        "      diff_counter +=1\n",
        "\n",
        "  return diff_counter"
      ],
      "metadata": {
        "id": "yDT3j975yuDg"
      },
      "execution_count": null,
      "outputs": []
    },
    {
      "cell_type": "code",
      "source": [
        "chicken_v_duck = SNP_counter(chicken, duck)\n",
        "chicken_v_turkey = SNP_counter(chicken, turkey)\n",
        "duck_v_turkey = SNP_counter(duck, turkey)\n",
        "\n",
        "print(\"chicken and duck differ by\", chicken_v_duck, \"basepairs\")\n",
        "print(\"chicken and turkey differ by\", chicken_v_turkey, \"basepairs\")\n",
        "print(\"duck and turkey differ by\", duck_v_turkey, \"basepairs\")"
      ],
      "metadata": {
        "colab": {
          "base_uri": "https://localhost:8080/"
        },
        "id": "VvehQbHGy0Vf",
        "outputId": "52bcafd1-c50d-4fb1-aeb8-3740b562fa68"
      },
      "execution_count": null,
      "outputs": [
        {
          "output_type": "stream",
          "name": "stdout",
          "text": [
            "chicken and duck differ by 8 basepairs\n",
            "chicken and turkey differ by 2 basepairs\n",
            "duck and turkey differ by 6 basepairs\n"
          ]
        }
      ]
    },
    {
      "cell_type": "markdown",
      "source": [
        "From this, we see that chicken and turkey are most related! We may have expected this as duck is an aquatic bird with webbed feet, etc. But it is satisfying to confirm it in this way. "
      ],
      "metadata": {
        "id": "WMJDOT4VaWCi"
      }
    },
    {
      "cell_type": "markdown",
      "source": [
        "# Problem 2: Using GC content to find the pathogenticy island in *Salmonella*\n",
        "\n",
        "We've spent some time in this class computing the GC content of various sequences, but we will now apply that skill to address a question about *Salmonella*: where does it's pathogenicity arise from? GC content can vary across species, so regions of the *Salmonella* genome that differ greatly in GC content tend to suggest regions that arose from Horizontal Gene Transfer (HGT), meaning it picked up the gene from another organism. Such swapping of genes is very common in bacteria, and it is suspected that the genes that make *Salmonella* pathogenic arose from HGT, meaning those genes will have a different GC content from the rest of the genome. The following exercises will walk you through the process of uncovering this 'pathogenicity island' yourself!\n",
        "\n",
        "## Problem 2.1 (10 points)\n",
        "\n",
        "This time, we are interested not just of the GC content of an *entire* sequence, but of chunks along a genome, allowing us to find regions of lower or higher GC content. Write a function that divides a sequence into blocks and computes the GC content for each block, returning a list. The function signature should look like\n",
        "\n",
        "`GC_blocks(seq, block_size)`\n",
        "\n",
        "To be clear, if `seq = 'ATGACTACGT'` and `block_size = 4`, the blocks to be considered are\n",
        "\n",
        "> `ATGA` and `CTAC`\n",
        "\n",
        "and the function should return `[0.25, 0.5]`. Note that the blocks are non-overlapping and that we don't bother with the end of the sequence that does not fit completely in a block. **Note: Make sure to call your `GC_content` function from before!**"
      ],
      "metadata": {
        "id": "PppnXL9a0YV6"
      }
    },
    {
      "cell_type": "code",
      "source": [
        "def GC_content(DNA_seq):\n",
        "  \"\"\"Computes the GC content (as a float) given the provided DNA sequence \n",
        "  (as a string)\"\"\"\n",
        "\n",
        "  # count Cs and Gs, respectively\n",
        "  C_count = DNA_seq.count('C')\n",
        "  G_count = DNA_seq.count('G')\n",
        "\n",
        "  # comupte GC content as a fraction \n",
        "  GC_frac = (C_count + G_count) / len(DNA_seq)\n",
        "\n",
        "  return GC_frac"
      ],
      "metadata": {
        "id": "D_4DtNaxzTk5"
      },
      "execution_count": null,
      "outputs": []
    },
    {
      "cell_type": "code",
      "source": [
        "def GC_blocks(seq, block_size):\n",
        "  \"\"\" Returns a list of GC content across the length of the provided \n",
        "  sequence, moving along in 'chunks' of length block_size\"\"\"\n",
        "\n",
        "  # figure out how many blocks there will be, rounding down\n",
        "  blocks = int(len(seq)/block_size)\n",
        "\n",
        "  GC_blocks = []\n",
        "\n",
        "  # loop through the number of block\n",
        "  for i in range(blocks):\n",
        "    \n",
        "    # grab the DNA sequence block we are interested in\n",
        "    block = seq[block_size*i : block_size*(i+1)]\n",
        "\n",
        "    # compute GC content of this block, and add to our list\n",
        "    GC_block = GC_content(block)\n",
        "    GC_blocks.append(GC_block)\n",
        "\n",
        "  return GC_blocks"
      ],
      "metadata": {
        "id": "GmeiSaMAIl8a"
      },
      "execution_count": null,
      "outputs": []
    },
    {
      "cell_type": "markdown",
      "source": [
        "Let's verify that it returns the expected result:"
      ],
      "metadata": {
        "id": "MfkkBPf3bP3J"
      }
    },
    {
      "cell_type": "code",
      "source": [
        "GC_blocks('ATGACTACGT', 4)"
      ],
      "metadata": {
        "colab": {
          "base_uri": "https://localhost:8080/"
        },
        "id": "-RxwJgmgJgUI",
        "outputId": "9e165d46-3230-4a1f-ad03-e004d73d7c74"
      },
      "execution_count": null,
      "outputs": [
        {
          "output_type": "execute_result",
          "data": {
            "text/plain": [
              "[0.25, 0.5]"
            ]
          },
          "metadata": {},
          "execution_count": 14
        }
      ]
    },
    {
      "cell_type": "markdown",
      "source": [
        "## Problem 2.2 (15 points)\n",
        "\n",
        "Write a function that takes as input a sequence, block size, and a threshold GC content, and returns a visualization of the sequence, where `'*'` designates a block that is below the threshold, and `'_'` designates a block that is above the threshold. You would call the function like this: For example,\n",
        "\n",
        "> `GC_map('ATGACTACGT', 4, 0.4)`\n",
        "\n",
        "returns `'*_'`, indicating the first block has a GC content below 0.4, while the second block has a GC content above 0.4. Note that bases not included in GC blocks are truncated from the visualization."
      ],
      "metadata": {
        "id": "fx5_RF1iKJCe"
      }
    },
    {
      "cell_type": "code",
      "source": [
        "def GC_map(seq, block_size, gc_thresh):\n",
        "\n",
        "  # call our previous function to get our GC content values\n",
        "  GC_values = GC_blocks(seq, block_size)\n",
        "\n",
        "  output_seq = \"\"\n",
        "\n",
        "  # loop through GC content values\n",
        "  for GC_val in GC_values:\n",
        "\n",
        "    # update the output string based on value of GC content\n",
        "    if GC_val < gc_thresh:\n",
        "      output_seq += \"*\"\n",
        "    else:\n",
        "      output_seq += \"_\"\n",
        "\n",
        "  return output_seq"
      ],
      "metadata": {
        "id": "VC5cUYnwJlaY"
      },
      "execution_count": null,
      "outputs": []
    },
    {
      "cell_type": "markdown",
      "source": [
        "Again, let's check that this works as expected:"
      ],
      "metadata": {
        "id": "C5NnID69b9G-"
      }
    },
    {
      "cell_type": "code",
      "source": [
        "GC_map('ATGACTACGT', 4, 0.4)"
      ],
      "metadata": {
        "colab": {
          "base_uri": "https://localhost:8080/",
          "height": 36
        },
        "id": "3js91y7ILCHL",
        "outputId": "024edb2a-e8cb-49a4-d3fa-533002eb55de"
      },
      "execution_count": null,
      "outputs": [
        {
          "output_type": "execute_result",
          "data": {
            "application/vnd.google.colaboratory.intrinsic+json": {
              "type": "string"
            },
            "text/plain": [
              "'*_'"
            ]
          },
          "metadata": {},
          "execution_count": 17
        }
      ]
    },
    {
      "cell_type": "markdown",
      "source": [
        "# Problem 2.3 (10 points)\n",
        "\n",
        "Let's take your GC_map function for a spin, trying it on a portion of the Salmonella genome! First, load in the 'salmonella_spi1_region.txt' file and store the sequence as a single string with no gaps."
      ],
      "metadata": {
        "id": "ZrsHHxPDYFjg"
      }
    },
    {
      "cell_type": "code",
      "source": [
        "from google.colab import files\n",
        "uploaded = files.upload()"
      ],
      "metadata": {
        "colab": {
          "resources": {
            "http://localhost:8080/nbextensions/google.colab/files.js": {
              "data": "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",
              "ok": true,
              "headers": [
                [
                  "content-type",
                  "application/javascript"
                ]
              ],
              "status": 200,
              "status_text": ""
            }
          },
          "base_uri": "https://localhost:8080/",
          "height": 56
        },
        "id": "xzyI3CVXLI4k",
        "outputId": "0b77d8b9-3a72-4258-eee2-7e532e4b1728"
      },
      "execution_count": null,
      "outputs": [
        {
          "output_type": "display_data",
          "data": {
            "text/html": [
              "\n",
              "     <input type=\"file\" id=\"files-9d36a67b-9721-4001-b5e9-28e3ad56ada8\" name=\"files[]\" multiple disabled\n",
              "        style=\"border:none\" />\n",
              "     <output id=\"result-9d36a67b-9721-4001-b5e9-28e3ad56ada8\">\n",
              "      Upload widget is only available when the cell has been executed in the\n",
              "      current browser session. Please rerun this cell to enable.\n",
              "      </output>\n",
              "      <script src=\"/nbextensions/google.colab/files.js\"></script> "
            ],
            "text/plain": [
              "<IPython.core.display.HTML object>"
            ]
          },
          "metadata": {}
        },
        {
          "output_type": "stream",
          "name": "stdout",
          "text": [
            "Saving salmonella_spi1_region.txt to salmonella_spi1_region.txt\n"
          ]
        }
      ]
    },
    {
      "cell_type": "markdown",
      "source": [
        "Let's look at the first ten lines to get a sense of the structure."
      ],
      "metadata": {
        "id": "QgANRbaJcO6I"
      }
    },
    {
      "cell_type": "code",
      "source": [
        "salmonella = uploaded['salmonella_spi1_region.txt'].decode(\"utf-8\").split('\\n')\n",
        "salmonella[:10]"
      ],
      "metadata": {
        "colab": {
          "base_uri": "https://localhost:8080/"
        },
        "id": "FkFymSLqbuWR",
        "outputId": "74abb4a6-5dfb-41a3-f4b7-dd2dd6448dca"
      },
      "execution_count": null,
      "outputs": [
        {
          "output_type": "execute_result",
          "data": {
            "text/plain": [
              "['>gi|821161554|gb|CP011428.1| Salmonella enterica subsp. enterica strain YU39, complete genome, subsequence 3000000 to 3200000',\n",
              " 'AAAACCTTAGTAACTGGACTGCTGGGATTTTTCAGCCTGGATACGCTGGTAGATCTCTTC',\n",
              " 'ACGATGGACAGAAACTTCTTTCGGGGCGTTCACGCCAATACGCACCTGGTTGCCCTTCAC',\n",
              " 'CCCTAAAACTGTCACGGTGACCTCATCGCCAATCATGAGGGTCTCACCAACTCGACGAGT',\n",
              " 'CAGAATCAGCATTCTTTGCTCCTTGAAAGATTAAAAGAGTCGGGTCTCTCTGTATCCCGG',\n",
              " 'CATTATCCATCATATAACGCCAAAAAGTAAGCGATGACAAACACCTTAGGTGTAAGCAGT',\n",
              " 'CATGGCATTACATTCTGTTAAACCTAAGTTTAGCCGATATACAAAACTTCAACCTGACTT',\n",
              " 'TATCGTTGTCGATAGCGTTGACGTAAACGCCGCAGCACGGGCTGCGGCGCCAACGAACGC',\n",
              " 'TTATAATTATTGCAATTTTGCGCTGACCCAGCCTTGTACACTGGCTAACGCTGCAGGCAG',\n",
              " 'AGCTGCCGCATCCGTACCACCGGCTTGCGCCATGTCCGGACGACCGCCACCCTTACCGCC']"
            ]
          },
          "metadata": {},
          "execution_count": 19
        }
      ]
    },
    {
      "cell_type": "markdown",
      "source": [
        "Since this file only has one sequence, we can use the `join` method again, this time on *all* the lines in the file (excluding the header). We do that below, and take a look at the first 1000 characters to make sure it looks correct."
      ],
      "metadata": {
        "id": "c6RlDwbFcUUU"
      }
    },
    {
      "cell_type": "code",
      "source": [
        "salmonella_seq = \"\".join(salmonella[1:])\n",
        "salmonella_seq[:1000]"
      ],
      "metadata": {
        "colab": {
          "base_uri": "https://localhost:8080/",
          "height": 128
        },
        "id": "PxyozlAAb9wk",
        "outputId": "728fb24f-14c8-4077-e293-5ed501d813f1"
      },
      "execution_count": null,
      "outputs": [
        {
          "output_type": "execute_result",
          "data": {
            "application/vnd.google.colaboratory.intrinsic+json": {
              "type": "string"
            },
            "text/plain": [
              "'AAAACCTTAGTAACTGGACTGCTGGGATTTTTCAGCCTGGATACGCTGGTAGATCTCTTCACGATGGACAGAAACTTCTTTCGGGGCGTTCACGCCAATACGCACCTGGTTGCCCTTCACCCCTAAAACTGTCACGGTGACCTCATCGCCAATCATGAGGGTCTCACCAACTCGACGAGTCAGAATCAGCATTCTTTGCTCCTTGAAAGATTAAAAGAGTCGGGTCTCTCTGTATCCCGGCATTATCCATCATATAACGCCAAAAAGTAAGCGATGACAAACACCTTAGGTGTAAGCAGTCATGGCATTACATTCTGTTAAACCTAAGTTTAGCCGATATACAAAACTTCAACCTGACTTTATCGTTGTCGATAGCGTTGACGTAAACGCCGCAGCACGGGCTGCGGCGCCAACGAACGCTTATAATTATTGCAATTTTGCGCTGACCCAGCCTTGTACACTGGCTAACGCTGCAGGCAGAGCTGCCGCATCCGTACCACCGGCTTGCGCCATGTCCGGACGACCGCCACCCTTACCGCCCACCTGCTGAGCGACCATCCCAATCAATTCCCCTGCTTTAACCCGGTCGGTCACATCCTTCGACACGCCCGCAATCAGAGAAACCTTACCTTCAACAACCGTTGCCAGTACGATAACGGTAGACCCCAGTTGATTTTTCAGATCATCAACCATGGTTCGCAGCATTTTCGGCTCAATACCAGCAAGCTCGCTAACCAGGAGCTTCACGCCGTTGAGATCGACCGCTTTACTGGAAAGATTTGCACTCTCCTGCGCTGCGGCCTGGTCCTTCAACTGCTGCAACTCTTTTTCCAGCTGACGTGTACGTTCCAGCACGGCACGCACTTTGTCGCCCAGATTCTGGCTGTCGCCCTTCAGCAGATGCGCAATATCGTTTAAGCGATCGCTTTGCGCATGAACGGTGGCCATAGCGCCTTCACCGGTTACCGCCTCAATACGACGAATGCCCGCTGCGGTGCCG'"
            ]
          },
          "metadata": {},
          "execution_count": 22
        }
      ]
    },
    {
      "cell_type": "markdown",
      "source": [
        "## Problem 2.4 (5 points)\n",
        "\n",
        "Run your `GC_map()` function on the salmonella sequence with `block_size = 1000` and  `gc_thresh = 0.45`. \n",
        "\n",
        "Looking at your visualization of GC content, about how far through the sequence (e.g. 10%, 80%) do you notice a region of lower GC content blocks? This is the pathogenicity island! This region is suspected to be where the genes that make *Salmonella* pathogenic lie!\n",
        "\n",
        "Finally we are ready to run our `GC_map` function on the section of the salmonella genome!"
      ],
      "metadata": {
        "id": "HTk8VPUOhFmJ"
      }
    },
    {
      "cell_type": "code",
      "source": [
        "GC_map(salmonella_seq, 1000, 0.45)"
      ],
      "metadata": {
        "colab": {
          "base_uri": "https://localhost:8080/",
          "height": 54
        },
        "id": "G9Vmc4_6cSKh",
        "outputId": "99a2c668-d8fe-4efb-c42c-644755fb1d33"
      },
      "execution_count": null,
      "outputs": [
        {
          "output_type": "execute_result",
          "data": {
            "application/vnd.google.colaboratory.intrinsic+json": {
              "type": "string"
            },
            "text/plain": [
              "'_______________________________________****___***_*_**______**_____*_*___***_**_____________________________________*_____________*________________________*____________________________________________'"
            ]
          },
          "metadata": {},
          "execution_count": 23
        }
      ]
    },
    {
      "cell_type": "markdown",
      "source": [
        "It looks like there is a region spanning 20 to 40% of the way through this sequence that has many low GC-content blocks, indicated by the `*`s. There's also a few spurious chunks further down, but that larger region is likely the pathogenicity island. "
      ],
      "metadata": {
        "id": "w3mKsXUKyjbF"
      }
    },
    {
      "cell_type": "markdown",
      "source": [
        "# Problem 3: Exploring a PDB file (30 points)\n",
        "\n",
        "For this last problem, we will explore a new type of data file, a protein database, or PDB file. We will be looking at SARS-COV2 spike protein [found here on PDB website](https://www.rcsb.org/structure/6XLU), although you will be manipualting the .txt file for this problem.\n",
        "\n",
        "You may wish to open the file to get a sense of its structure. If you scroll down far enough, you will see a bunch of lines that begin with `ATOM`. These lines are the ones that describe the structure of the protein, by specifying the precise x-, y-, and z-coordinates of each atom in the structure. Each line contains information like atom number, atom identity (carbon, nitrogen, etc.), which amino acid the atom belongs to, and which subunit chain the amino acid belongs to. As an example, I show the first line below:\n",
        "> `ATOM   1     N N   . ALA A  1 14   ? 137.193 160.456 208.534 1.00 62.75 ? 27   ALA A N   1`\n",
        " \n",
        "See the [PDB formatting guidelines](http://www.wwpdb.org/documentation/file-format-content/format33/sect9.html#ATOM) for a full description of what each column of information contains.\n",
        "\n",
        "a) Read in the `'6xlu.txt'` file. \n",
        "\n",
        "b) Parse the information from the file to only get the ATOMs found in chain `'A'`. Note the chainID can be found in the 25th index of a given line in this file. Save each ATOM line corresponding to chain `'A'` to a list.\n",
        "\n",
        "c) Display the first 10 and last 10 lines of your list to make sure you've isolated only the atoms we care about.\n",
        "\n",
        "d) How many atoms are in chain `'A'`?\n",
        "\n",
        "e) How many amino acids are in chain `'A'`?\n",
        "\n",
        "f) Modify your code to repeat the process for chains `'B'` and `'C'`. How many amino acids do they have? What do you suspect this implies for the overall structure of the spike protein? "
      ],
      "metadata": {
        "id": "GOWAX7sWoRih"
      }
    },
    {
      "cell_type": "code",
      "source": [
        "from google.colab import files\n",
        "uploaded = files.upload()"
      ],
      "metadata": {
        "colab": {
          "resources": {
            "http://localhost:8080/nbextensions/google.colab/files.js": {
              "data": "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",
              "ok": true,
              "headers": [
                [
                  "content-type",
                  "application/javascript"
                ]
              ],
              "status": 200,
              "status_text": ""
            }
          },
          "base_uri": "https://localhost:8080/",
          "height": 73
        },
        "id": "pulKtg0bssIW",
        "outputId": "e38c9d09-77d6-4740-aa05-d02aa38e1b2b"
      },
      "execution_count": null,
      "outputs": [
        {
          "output_type": "display_data",
          "data": {
            "text/html": [
              "\n",
              "     <input type=\"file\" id=\"files-35c85cf1-b3d0-483e-9a49-b8ff30000f44\" name=\"files[]\" multiple disabled\n",
              "        style=\"border:none\" />\n",
              "     <output id=\"result-35c85cf1-b3d0-483e-9a49-b8ff30000f44\">\n",
              "      Upload widget is only available when the cell has been executed in the\n",
              "      current browser session. Please rerun this cell to enable.\n",
              "      </output>\n",
              "      <script src=\"/nbextensions/google.colab/files.js\"></script> "
            ],
            "text/plain": [
              "<IPython.core.display.HTML object>"
            ]
          },
          "metadata": {}
        },
        {
          "output_type": "stream",
          "name": "stdout",
          "text": [
            "Saving 6xlu.txt to 6xlu.txt\n"
          ]
        }
      ]
    },
    {
      "cell_type": "markdown",
      "source": [
        "First, let's read in the file. I will split by the new line character, to get a list of each line."
      ],
      "metadata": {
        "id": "c2JYSwr11lbF"
      }
    },
    {
      "cell_type": "code",
      "source": [
        "spike = uploaded['6xlu.txt'].decode(\"utf-8\").split('\\n')\n",
        "spike[:10]"
      ],
      "metadata": {
        "id": "hYb497qb4PcS",
        "colab": {
          "base_uri": "https://localhost:8080/"
        },
        "outputId": "9b11a32e-09ea-4679-ec47-f520f2a1d13b"
      },
      "execution_count": null,
      "outputs": [
        {
          "output_type": "execute_result",
          "data": {
            "text/plain": [
              "['data_6XLU',\n",
              " '# ',\n",
              " '_entry.id   6XLU ',\n",
              " '# ',\n",
              " '_audit_conform.dict_name       mmcif_pdbx.dic ',\n",
              " '_audit_conform.dict_version    5.352 ',\n",
              " '_audit_conform.dict_location   http://mmcif.pdb.org/dictionaries/ascii/mmcif_pdbx.dic ',\n",
              " '# ',\n",
              " 'loop_',\n",
              " '_database_2.database_id ']"
            ]
          },
          "metadata": {},
          "execution_count": 3
        }
      ]
    },
    {
      "cell_type": "markdown",
      "source": [
        "While a function wasn't explicitly asked for, I see that I will need to run the same code for chains A, B, and C. So I write a function to grab only the atoms from a given chain."
      ],
      "metadata": {
        "id": "XzfMvFMq4ROp"
      }
    },
    {
      "cell_type": "code",
      "source": [
        "def grab_chain(pdb_lines, chain_name):\n",
        "  \"\"\"Returns the lines the corresponds to desired chain.\n",
        "  The inputted pdb_lines must already be parsed to be a list\n",
        "  of the file lines\"\"\"\n",
        "\n",
        "  chain = []\n",
        "\n",
        "  # loop through the lines of the pdb file\n",
        "  for line in pdb_lines:\n",
        "\n",
        "    # if line starts with ATOM and has the desired chain, \n",
        "    # we add it to our list\n",
        "    if line[0:4] == \"ATOM\":\n",
        "      if line[25] == chain_name:\n",
        "        chain.append(line)\n",
        "    \n",
        "  return chain"
      ],
      "metadata": {
        "id": "9Nca7qxMtC33"
      },
      "execution_count": null,
      "outputs": []
    },
    {
      "cell_type": "markdown",
      "source": [
        "Let's run this function on chains A, B, and C in turn. The length of the resulting chain specifies how many atoms are in the given chain. We see that they have a similar, but not exactly the same, number of atoms."
      ],
      "metadata": {
        "id": "RL_OS3dr5Xsr"
      }
    },
    {
      "cell_type": "code",
      "source": [
        "chain_A = grab_chain(spike, \"A\")\n",
        "chain_B = grab_chain(spike, \"B\")\n",
        "chain_C = grab_chain(spike, \"C\")\n",
        "print(\"Chain A contains\", len(chain_A), \"atoms.\")\n",
        "print(\"Chain B contains\", len(chain_B), \"atoms.\")\n",
        "print(\"Chain C contains\", len(chain_C), \"atoms.\")"
      ],
      "metadata": {
        "colab": {
          "base_uri": "https://localhost:8080/"
        },
        "id": "ETSXEo3x8exZ",
        "outputId": "c645a03c-760b-46a7-dc87-3b2438c15175"
      },
      "execution_count": null,
      "outputs": [
        {
          "output_type": "stream",
          "name": "stdout",
          "text": [
            "Chain A contains 8276 atoms.\n",
            "Chain B contains 8302 atoms.\n",
            "Chain C contains 8294 atoms.\n"
          ]
        }
      ]
    },
    {
      "cell_type": "markdown",
      "source": [
        "Let's display  the first and last 10 lines of chain_A:"
      ],
      "metadata": {
        "id": "-dL6W4wG6vsb"
      }
    },
    {
      "cell_type": "code",
      "source": [
        "chain_A[:10]"
      ],
      "metadata": {
        "colab": {
          "base_uri": "https://localhost:8080/"
        },
        "id": "dXODBxdZuHQ9",
        "outputId": "0aba79a2-7af3-4115-d532-9793d02a7ecf"
      },
      "execution_count": null,
      "outputs": [
        {
          "output_type": "execute_result",
          "data": {
            "text/plain": [
              "['ATOM   1     N N   . ALA A  1 14   ? 137.193 160.456 208.534 1.00 62.75 ? 27   ALA A N   1 ',\n",
              " 'ATOM   2     C CA  . ALA A  1 14   ? 136.846 161.310 207.402 1.00 62.75 ? 27   ALA A CA  1 ',\n",
              " 'ATOM   3     C C   . ALA A  1 14   ? 138.012 162.215 207.025 1.00 62.75 ? 27   ALA A C   1 ',\n",
              " 'ATOM   4     O O   . ALA A  1 14   ? 138.903 162.453 207.837 1.00 62.75 ? 27   ALA A O   1 ',\n",
              " 'ATOM   5     C CB  . ALA A  1 14   ? 135.613 162.138 207.720 1.00 62.75 ? 27   ALA A CB  1 ',\n",
              " 'ATOM   6     N N   . TYR A  1 15   ? 137.999 162.715 205.789 1.00 61.90 ? 28   TYR A N   1 ',\n",
              " 'ATOM   7     C CA  . TYR A  1 15   ? 139.055 163.573 205.274 1.00 61.90 ? 28   TYR A CA  1 ',\n",
              " 'ATOM   8     C C   . TYR A  1 15   ? 138.468 164.515 204.239 1.00 61.90 ? 28   TYR A C   1 ',\n",
              " 'ATOM   9     O O   . TYR A  1 15   ? 137.430 164.231 203.641 1.00 61.90 ? 28   TYR A O   1 ',\n",
              " 'ATOM   10    C CB  . TYR A  1 15   ? 140.183 162.766 204.643 1.00 61.90 ? 28   TYR A CB  1 ']"
            ]
          },
          "metadata": {},
          "execution_count": 7
        }
      ]
    },
    {
      "cell_type": "code",
      "source": [
        "chain_A[-10:]"
      ],
      "metadata": {
        "colab": {
          "base_uri": "https://localhost:8080/"
        },
        "id": "I0Q3vbNLx44Z",
        "outputId": "02b5ca62-3005-4b2b-862a-9d2ded57761b"
      },
      "execution_count": null,
      "outputs": [
        {
          "output_type": "execute_result",
          "data": {
            "text/plain": [
              "['ATOM   8267  C CB  . ASP A  1 1133 ? 182.881 182.210 97.826  1.00 66.32 ? 1146 ASP A CB  1 ',\n",
              " 'ATOM   8268  C CG  . ASP A  1 1133 ? 183.120 181.238 98.977  1.00 66.32 ? 1146 ASP A CG  1 ',\n",
              " 'ATOM   8269  O OD1 . ASP A  1 1133 ? 184.035 181.493 99.783  1.00 66.32 ? 1146 ASP A OD1 1 ',\n",
              " 'ATOM   8270  O OD2 . ASP A  1 1133 ? 182.412 180.214 99.071  1.00 66.32 ? 1146 ASP A OD2 1 ',\n",
              " 'ATOM   8271  N N   . SER A  1 1134 ? 183.248 185.826 97.084  1.00 63.52 ? 1147 SER A N   1 ',\n",
              " 'ATOM   8272  C CA  . SER A  1 1134 ? 183.507 186.843 96.069  1.00 63.52 ? 1147 SER A CA  1 ',\n",
              " 'ATOM   8273  C C   . SER A  1 1134 ? 184.900 186.772 95.439  1.00 63.52 ? 1147 SER A C   1 ',\n",
              " 'ATOM   8274  O O   . SER A  1 1134 ? 185.111 187.250 94.325  1.00 63.52 ? 1147 SER A O   1 ',\n",
              " 'ATOM   8275  C CB  . SER A  1 1134 ? 183.318 188.225 96.691  1.00 63.52 ? 1147 SER A CB  1 ',\n",
              " 'ATOM   8276  O OG  . SER A  1 1134 ? 181.985 188.404 97.121  1.00 63.52 ? 1147 SER A OG  1 ']"
            ]
          },
          "metadata": {},
          "execution_count": 8
        }
      ]
    },
    {
      "cell_type": "markdown",
      "source": [
        "From this output, we can confirm that there are 8276 atoms in chain A, from the number that appears immediately after `ATOM`. We can also see that two columns over from the chain name 'A', there is a specification for the amino acid number. That is, all the atoms corresponding to ALA are in the 14th amino acid (interesting to think what happened to the first 13!), while all the atoms corresponding to SER are in the 1134th amino acid in the chain.\n",
        "\n",
        "For the purposes of this exercise, I just wanted you to get familiar with the structure of this file, so it was sufficient to assume that the chain goes from 14 to 1134, or is 1121 amino acids long. (Below, I will delve more deeply into this).\n",
        "\n",
        "To see the length of chain B and C in a similar way, let's just print out the first and last line of each chain and similarly look at that numeric value for the amino acid. "
      ],
      "metadata": {
        "id": "yls5vWjL7M0S"
      }
    },
    {
      "cell_type": "code",
      "source": [
        "print(chain_B[0])\n",
        "print(chain_B[-1])\n",
        "print(chain_C[0])\n",
        "print(chain_C[-1])"
      ],
      "metadata": {
        "colab": {
          "base_uri": "https://localhost:8080/"
        },
        "id": "RhFj1q5P_Gvr",
        "outputId": "c85f5e67-6be9-40ee-cc4c-cfa3a4234f52"
      },
      "execution_count": null,
      "outputs": [
        {
          "output_type": "stream",
          "name": "stdout",
          "text": [
            "ATOM   8277  N N   . ALA B  1 14   ? 234.997 157.197 208.500 1.00 60.77 ? 27   ALA B N   1 \n",
            "ATOM   16578 O OG  . SER B  1 1134 ? 186.570 183.701 97.382  1.00 62.19 ? 1147 SER B OG  1 \n",
            "ATOM   16579 N N   . ALA C  1 14   ? 188.766 243.345 208.464 1.00 60.93 ? 27   ALA C N   1 \n",
            "ATOM   24872 O OG  . SER C  1 1134 ? 190.458 190.251 97.144  1.00 66.43 ? 1147 SER C OG  1 \n"
          ]
        }
      ]
    },
    {
      "cell_type": "markdown",
      "source": [
        "Interesting! All three chains both start and end with same number of amino acids, suggesting that the spike protein is what we would call a homo-trimer, or a protein made up of three identical (or nearly identical) chains!\n",
        "\n",
        "## Extension\n",
        "\n",
        "Everything below is beyond what I expected for this problem, but devles more deeply into the number of amino acids. That is, I assumed that the number incremented for each chain from 14 to 1134, but I would like to verify if that is the case.\n",
        "\n",
        "From a little careful counting, I find that the amino acid number can be found at characters 30 to 33 in each line. I will use this information to parse out if the numbers do truly increment."
      ],
      "metadata": {
        "id": "Jb0rKGiK_hLm"
      }
    },
    {
      "cell_type": "code",
      "source": [
        "def missing_aa(chain):\n",
        "  \"\"\"returns the indices of amino acids that are missing from a given chain\"\"\"\n",
        "\n",
        "  # find the first and last amino acid number in the chain\n",
        "  start = int(chain[0][30:34])\n",
        "  end = int(chain[-1][30:34])\n",
        "\n",
        "  # keep a list of numbers found\n",
        "  aa_nums = []\n",
        "\n",
        "  # loop through chain and get the aa number at each atom\n",
        "  for atom in chain:\n",
        "    aa_num = int(atom[30:34])\n",
        "    aa_nums.append(aa_num)\n",
        "\n",
        "  # keep a list of missing amino acid number\n",
        "  missing_aa = []\n",
        "\n",
        "  # loop from the start and end and find which numbers are missing\n",
        "  for i in range(start,end+1):\n",
        "    if i not in aa_nums:\n",
        "      missing_aa.append(i)\n",
        "\n",
        "  return missing_aa"
      ],
      "metadata": {
        "id": "OQBMv9K5t1cA"
      },
      "execution_count": null,
      "outputs": []
    },
    {
      "cell_type": "code",
      "source": [
        "print(missing_aa(chain_A))\n",
        "print(missing_aa(chain_B))\n",
        "print(missing_aa(chain_C))"
      ],
      "metadata": {
        "id": "xHt-IKYiyd5x",
        "colab": {
          "base_uri": "https://localhost:8080/"
        },
        "outputId": "f1976d26-681b-4534-96f3-6fe491f49ba7"
      },
      "execution_count": null,
      "outputs": [
        {
          "output_type": "stream",
          "name": "stdout",
          "text": [
            "[57, 58, 59, 60, 61, 62, 63, 64, 65, 66, 131, 132, 133, 134, 135, 136, 137, 138, 139, 140, 161, 162, 163, 164, 165, 166, 167, 168, 169, 170, 171, 172, 238, 239, 240, 241, 242, 243, 244, 245, 246, 247, 248, 249, 250, 432, 433, 664, 665, 666, 667, 668, 669, 670, 671, 672, 673, 674, 675, 816, 817, 818, 819, 820]\n",
            "[57, 58, 59, 60, 61, 62, 63, 64, 65, 66, 131, 132, 133, 134, 135, 136, 137, 138, 139, 140, 160, 161, 162, 163, 164, 165, 166, 167, 168, 169, 170, 171, 172, 239, 240, 241, 242, 243, 244, 245, 246, 247, 248, 249, 250, 251, 432, 433, 664, 665, 666, 667, 668, 669, 670, 671, 672, 673, 674, 675]\n",
            "[57, 58, 59, 60, 61, 62, 63, 64, 65, 66, 131, 132, 133, 134, 135, 136, 137, 138, 139, 140, 160, 161, 162, 163, 164, 165, 166, 167, 168, 169, 170, 171, 172, 239, 240, 241, 242, 243, 244, 245, 246, 247, 248, 249, 250, 432, 433, 664, 665, 666, 667, 668, 669, 670, 671, 672, 673, 674, 675, 816, 817]\n"
          ]
        }
      ]
    },
    {
      "cell_type": "markdown",
      "source": [
        "We see that each chain is in fact missing some amino acid indices! This suggests that there is some post-translational processing that is happening, clipping out a few amino acids at various points along the protein. \n",
        "\n",
        "To get the true length of each chain, we can subract the number of missing indicies from the expected length of 1120."
      ],
      "metadata": {
        "id": "KQZlLwRVDG-K"
      }
    },
    {
      "cell_type": "code",
      "source": [
        "print(\"Chain A is\", 1121 - len(missing_aa(chain_A)), \"amino acids long.\")\n",
        "print(\"Chain B is\", 1121 - len(missing_aa(chain_B)), \"amino acids long.\")\n",
        "print(\"Chain C is\", 1121 - len(missing_aa(chain_C)), \"amino acids long.\")"
      ],
      "metadata": {
        "id": "oOaYDUzXxNg8",
        "colab": {
          "base_uri": "https://localhost:8080/"
        },
        "outputId": "5edaff1d-646a-4b12-ca47-877aa69cf699"
      },
      "execution_count": null,
      "outputs": [
        {
          "output_type": "stream",
          "name": "stdout",
          "text": [
            "Chain A is 1057 amino acids long.\n",
            "Chain B is 1061 amino acids long.\n",
            "Chain C is 1060 amino acids long.\n"
          ]
        }
      ]
    },
    {
      "cell_type": "markdown",
      "source": [
        "We see they are nearly the same length, just with slight differences in which specific amino acids were clipped out."
      ],
      "metadata": {
        "id": "gVzTo_ZHELd_"
      }
    }
  ]
}