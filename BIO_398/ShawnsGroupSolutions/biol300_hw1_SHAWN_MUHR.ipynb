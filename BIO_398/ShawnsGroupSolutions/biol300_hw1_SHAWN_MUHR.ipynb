{
  "nbformat": 4,
  "nbformat_minor": 0,
  "metadata": {
    "colab": {
      "name": "biol300_hw1_SHAWN_MUHR.ipynb",
      "provenance": [],
      "collapsed_sections": [],
      "toc_visible": true,
      "include_colab_link": true
    },
    "kernelspec": {
      "name": "python3",
      "display_name": "Python 3"
    },
    "language_info": {
      "name": "python"
    }
  },
  "cells": [
    {
      "cell_type": "markdown",
      "metadata": {
        "id": "view-in-github",
        "colab_type": "text"
      },
      "source": [
        "<a href=\"https://colab.research.google.com/github/shawnmuhr/BIOL_398/blob/main/BIO_398/ShawnsGroupSolutions/biol300_hw1_SHAWN_MUHR.ipynb\" target=\"_parent\"><img src=\"https://colab.research.google.com/assets/colab-badge.svg\" alt=\"Open In Colab\"/></a>"
      ]
    },
    {
      "cell_type": "code",
      "metadata": {
        "id": "swcTzyQY-hLV"
      },
      "source": [
        "import random"
      ],
      "execution_count": null,
      "outputs": []
    },
    {
      "cell_type": "markdown",
      "metadata": {
        "id": "KVGco6Gx2Pk7"
      },
      "source": [
        "# Exercise 1 (10 pts)\n",
        "\n",
        "Concepts: Control Flow, Loops, Functions, Stings\n",
        "\n",
        "Task: Write a function that will compute the GC content of a given DNA sequence. GC content is the fraction of the sequence that is made up of guanines and cytosines (as opposed to adenines and thymines).  "
      ]
    },
    {
      "cell_type": "code",
      "metadata": {
        "id": "qboZAu4-2tmO"
      },
      "source": [
        "\n",
        "def GC_content(DNA_seq):\n",
        "  GC_Count = 0\n",
        "  total_seq = len(DNA_seq)\n",
        "  for letter in DNA_seq:\n",
        "    if letter == 'G':\n",
        "      GC_Count += 1\n",
        "    if letter == 'C':\n",
        "      GC_Count += 1\n",
        "\n",
        "\n",
        "  \n",
        "\n",
        "  return GC_Count/total_seq"
      ],
      "execution_count": null,
      "outputs": []
    },
    {
      "cell_type": "code",
      "metadata": {
        "id": "zc65NNUu5PwO",
        "colab": {
          "base_uri": "https://localhost:8080/",
          "height": 166
        },
        "outputId": "a38ca0ec-ec91-4732-b379-670fd572be2c"
      },
      "source": [
        "print(GC_content(\"ATCG\"))"
      ],
      "execution_count": null,
      "outputs": [
        {
          "output_type": "error",
          "ename": "NameError",
          "evalue": "ignored",
          "traceback": [
            "\u001b[0;31m---------------------------------------------------------------------------\u001b[0m",
            "\u001b[0;31mNameError\u001b[0m                                 Traceback (most recent call last)",
            "\u001b[0;32m<ipython-input-5-ad494f897426>\u001b[0m in \u001b[0;36m<module>\u001b[0;34m()\u001b[0m\n\u001b[0;32m----> 1\u001b[0;31m \u001b[0mprint\u001b[0m\u001b[0;34m(\u001b[0m\u001b[0mGC_content\u001b[0m\u001b[0;34m(\u001b[0m\u001b[0;34m\"ATCG\"\u001b[0m\u001b[0;34m)\u001b[0m\u001b[0;34m)\u001b[0m\u001b[0;34m\u001b[0m\u001b[0;34m\u001b[0m\u001b[0m\n\u001b[0m",
            "\u001b[0;31mNameError\u001b[0m: name 'GC_content' is not defined"
          ]
        }
      ]
    },
    {
      "cell_type": "markdown",
      "source": [
        "As an example, running `GC_content(\"ATCG\")` above should return `0.5`. Try your funtion out with a few other different sequences and dispaly the results to confrim that your function works as expected:"
      ],
      "metadata": {
        "id": "sA4WNxyQDFVo"
      }
    },
    {
      "cell_type": "code",
      "source": [
        "print(GC_content(\"ATCG\"))"
      ],
      "metadata": {
        "id": "tMMk6rrFDOEq",
        "colab": {
          "base_uri": "https://localhost:8080/",
          "height": 166
        },
        "outputId": "f111880d-08bb-468d-f9c1-c89704032158"
      },
      "execution_count": null,
      "outputs": [
        {
          "output_type": "error",
          "ename": "NameError",
          "evalue": "ignored",
          "traceback": [
            "\u001b[0;31m---------------------------------------------------------------------------\u001b[0m",
            "\u001b[0;31mNameError\u001b[0m                                 Traceback (most recent call last)",
            "\u001b[0;32m<ipython-input-3-ad494f897426>\u001b[0m in \u001b[0;36m<module>\u001b[0;34m()\u001b[0m\n\u001b[0;32m----> 1\u001b[0;31m \u001b[0mprint\u001b[0m\u001b[0;34m(\u001b[0m\u001b[0mGC_content\u001b[0m\u001b[0;34m(\u001b[0m\u001b[0;34m\"ATCG\"\u001b[0m\u001b[0;34m)\u001b[0m\u001b[0;34m)\u001b[0m\u001b[0;34m\u001b[0m\u001b[0;34m\u001b[0m\u001b[0m\n\u001b[0m",
            "\u001b[0;31mNameError\u001b[0m: name 'GC_content' is not defined"
          ]
        }
      ]
    },
    {
      "cell_type": "markdown",
      "metadata": {
        "id": "tvlp-tg74q24"
      },
      "source": [
        "# Exercise 2 (10 pts)\n",
        "\n",
        "Concepts: Control Flow, Functions, Modules\n",
        "\n",
        "Task: Write a function that will mutate a given nucleotide (A, T, C, or G) to any *other* nucleotide. For this, you will want to make use of functions in the `random` module. Note that I have already imported the `random` module at the top of this file, which is generally accepted as good practice.\n",
        "\n"
      ]
    },
    {
      "cell_type": "code",
      "metadata": {
        "id": "mRuQLEqX45fV"
      },
      "source": [
        "def mutate_nt(nt):\n",
        "  \"\"\"Returns a randomly selected mutated nucleotide from the inputted\n",
        "  nucleotide\"\"\"\n",
        "  output = nt\n",
        "  possible_letters = ['A', 'T', 'C', 'G']\n",
        "  while output == nt:\n",
        "    output = random.choice(possible_letters)\n",
        "\n",
        "  return output"
      ],
      "execution_count": null,
      "outputs": []
    },
    {
      "cell_type": "code",
      "metadata": {
        "colab": {
          "base_uri": "https://localhost:8080/",
          "height": 218
        },
        "id": "oxwqOmYy_4WV",
        "outputId": "6955bae9-ad6b-4aff-e1d4-a5971f2d1999"
      },
      "source": [
        "print(mutate_nt(\"A\"))\n",
        "print(mutate_nt(\"T\"))\n",
        "print(mutate_nt(\"C\"))\n",
        "print(mutate_nt(\"G\"))"
      ],
      "execution_count": null,
      "outputs": [
        {
          "output_type": "error",
          "ename": "NameError",
          "evalue": "ignored",
          "traceback": [
            "\u001b[0;31m---------------------------------------------------------------------------\u001b[0m",
            "\u001b[0;31mNameError\u001b[0m                                 Traceback (most recent call last)",
            "\u001b[0;32m<ipython-input-3-0c6fe59e4bc7>\u001b[0m in \u001b[0;36m<module>\u001b[0;34m()\u001b[0m\n\u001b[0;32m----> 1\u001b[0;31m \u001b[0mprint\u001b[0m\u001b[0;34m(\u001b[0m\u001b[0mmutate_nt\u001b[0m\u001b[0;34m(\u001b[0m\u001b[0;34m\"A\"\u001b[0m\u001b[0;34m)\u001b[0m\u001b[0;34m)\u001b[0m\u001b[0;34m\u001b[0m\u001b[0;34m\u001b[0m\u001b[0m\n\u001b[0m\u001b[1;32m      2\u001b[0m \u001b[0mprint\u001b[0m\u001b[0;34m(\u001b[0m\u001b[0mmutate_nt\u001b[0m\u001b[0;34m(\u001b[0m\u001b[0;34m\"T\"\u001b[0m\u001b[0;34m)\u001b[0m\u001b[0;34m)\u001b[0m\u001b[0;34m\u001b[0m\u001b[0;34m\u001b[0m\u001b[0m\n\u001b[1;32m      3\u001b[0m \u001b[0mprint\u001b[0m\u001b[0;34m(\u001b[0m\u001b[0mmutate_nt\u001b[0m\u001b[0;34m(\u001b[0m\u001b[0;34m\"C\"\u001b[0m\u001b[0;34m)\u001b[0m\u001b[0;34m)\u001b[0m\u001b[0;34m\u001b[0m\u001b[0;34m\u001b[0m\u001b[0m\n\u001b[1;32m      4\u001b[0m \u001b[0mprint\u001b[0m\u001b[0;34m(\u001b[0m\u001b[0mmutate_nt\u001b[0m\u001b[0;34m(\u001b[0m\u001b[0;34m\"G\"\u001b[0m\u001b[0;34m)\u001b[0m\u001b[0;34m)\u001b[0m\u001b[0;34m\u001b[0m\u001b[0;34m\u001b[0m\u001b[0m\n",
            "\u001b[0;31mNameError\u001b[0m: name 'mutate_nt' is not defined"
          ]
        }
      ]
    },
    {
      "cell_type": "markdown",
      "metadata": {
        "id": "28Ho4WoHARJe"
      },
      "source": [
        "Run the cell above a couple times to verify that your results are in fact random. Also make sure that you actually mutate the DNA and don't return the same nucleotide as was provided! \n",
        "\n",
        "# Exercise 3 (20 pts)\n",
        "\n",
        "Concepts: Control Flow, Loops, Functions, Strings, Dictionaries\n",
        "\n",
        "Task: Write a function that will \"translate\" a given DNA sequence into the corresponding amino acids sequence. For this, the data structure of a `dictionary` will be extremely useful. Below I save a dictionary where the *keys* are the three-basepair codons and the *values* are the corresponding one-letter code for the amino acid. Note that the stop codons are denoted with `*`."
      ]
    },
    {
      "cell_type": "code",
      "metadata": {
        "id": "PZ3ta2PRA3GR"
      },
      "source": [
        "aa_dict = \\\n",
        "{'TTT': 'F', 'TTC': 'F', 'TTA': 'L', 'TTG': 'L', 'TCT': 'S', 'TCC': 'S', \n",
        " 'TCA': 'S', 'TCG': 'S', 'TAT': 'Y', 'TAC': 'Y', 'TAA': '*', 'TAG': '*', \n",
        " 'TGT': 'C', 'TGC': 'C', 'TGA': '*', 'TGG': 'W', 'CTT': 'L', 'CTC': 'L', \n",
        " 'CTA': 'L', 'CTG': 'L', 'CCT': 'P', 'CCC': 'P', 'CCA': 'P', 'CCG': 'P', \n",
        " 'CAT': 'H', 'CAC': 'H', 'CAA': 'Q', 'CAG': 'Q', 'CGT': 'R', 'CGC': 'R', \n",
        " 'CGA': 'R', 'CGG': 'R', 'ATT': 'I', 'ATC': 'I', 'ATA': 'I', 'ATG': 'M', \n",
        " 'ACT': 'T', 'ACC': 'T', 'ACA': 'T', 'ACG': 'T', 'AAT': 'N', 'AAC': 'N', \n",
        " 'AAA': 'K', 'AAG': 'K', 'AGT': 'S', 'AGC': 'S', 'AGA': 'R', 'AGG': 'R', \n",
        " 'GTT': 'V', 'GTC': 'V', 'GTA': 'V', 'GTG': 'V', 'GCT': 'A', 'GCC': 'A', \n",
        " 'GCA': 'A', 'GCG': 'A', 'GAT': 'D', 'GAC': 'D', 'GAA': 'E', 'GAG': 'E', \n",
        " 'GGT': 'G', 'GGC': 'G', 'GGA': 'G', 'GGG': 'G'}\n"
      ],
      "execution_count": null,
      "outputs": []
    },
    {
      "cell_type": "markdown",
      "metadata": {
        "id": "YvPHcjACE82_"
      },
      "source": [
        "With this dictionary, you should be able to loop through a DNA sequence in chunks of three basepairs to get the corresponding amino acid sequence. For this, we won't worry about looking for a start codon (we will just start reading off the DNA at the beginning), but you should make sure to terminate the sequence if there's a stop codon."
      ]
    },
    {
      "cell_type": "code",
      "metadata": {
        "id": "lvLfVDqPHH9B"
      },
      "source": [
        "def translate(DNA_seq):\n",
        "  \"\"\"Returns a string of the amino acid sequence that results from translating\n",
        "  the inputted DNA sequence\"\"\"\n",
        "  empty_list = []\n",
        "  num_of_codons = len(DNA_seq) / 3\n",
        "  check_if_able = len(DNA_seq) % 3\n",
        "  i = 0\n",
        "  start_cut = int(0)\n",
        "  while i < num_of_codons:\n",
        "      i += 1\n",
        "\n",
        "      empty_list.append(DNA_seq[start_cut: start_cut + 3])\n",
        "      start_cut += 3\n",
        "  final_answer = ''\n",
        "\n",
        "\n",
        "  i = 0\n",
        "  start_cut = int(0)\n",
        "  for index in empty_list:\n",
        "      # while '*' not in final_answer:\n",
        "      for dna, amino_acid in aa_dict.items():\n",
        "          # find the index of the dna strand\n",
        "          if dna == index:\n",
        "              # empty_list.append(amino_acid)\n",
        "              final_answer += amino_acid\n",
        "          if dna == index and amino_acid == '*':\n",
        "               return final_answer\n",
        "  return final_answer\n"
      ],
      "execution_count": null,
      "outputs": []
    },
    {
      "cell_type": "markdown",
      "source": [
        "Below, test out your function on a few single codons. Does it return what you expect?\n",
        "\n"
      ],
      "metadata": {
        "id": "HCFfDpmECglS"
      }
    },
    {
      "cell_type": "code",
      "source": [
        "# TEST YOUR CODE HERE\n",
        "# I tested it on pycharm and it worked! However, I couldn't figure out how to link the information from above to here.\n",
        "def translate(DNA_seq):\n",
        "  \"\"\"Returns a string of the amino acid sequence that results from translating\n",
        "  the inputted DNA sequence\"\"\"\n",
        "  empty_list = []\n",
        "  num_of_codons = len(DNA_seq) / 3\n",
        "  check_if_able = len(DNA_seq) % 3\n",
        "  i = 0\n",
        "  start_cut = int(0)\n",
        "  while i < num_of_codons:\n",
        "      i += 1\n",
        "\n",
        "      empty_list.append(DNA_seq[start_cut: start_cut + 3])\n",
        "      start_cut += 3\n",
        "  final_answer = ''\n",
        "\n",
        "\n",
        "  i = 0\n",
        "  start_cut = int(0)\n",
        "  for index in empty_list:\n",
        "      # while '*' not in final_answer:\n",
        "      for dna, amino_acid in aa_dict.items():\n",
        "          # find the index of the dna strand\n",
        "          if dna == index:\n",
        "              # empty_list.append(amino_acid)\n",
        "              final_answer += amino_acid\n",
        "          if dna == index and amino_acid == '*':\n",
        "               return final_answer\n",
        "  return final_answer\n",
        "print(translate(\"ATGATCAGCATCATACTACGACTACAATCAGCATCATACAGCATATAGCATCATCACTA\"))"
      ],
      "metadata": {
        "id": "Hl9PbG9gDiyv",
        "colab": {
          "base_uri": "https://localhost:8080/",
          "height": 322
        },
        "outputId": "8817de42-7e2e-4341-cfc1-37ef520df9e6"
      },
      "execution_count": null,
      "outputs": [
        {
          "output_type": "error",
          "ename": "NameError",
          "evalue": "ignored",
          "traceback": [
            "\u001b[0;31m---------------------------------------------------------------------------\u001b[0m",
            "\u001b[0;31mNameError\u001b[0m                                 Traceback (most recent call last)",
            "\u001b[0;32m<ipython-input-2-5ad1ec507e85>\u001b[0m in \u001b[0;36m<module>\u001b[0;34m()\u001b[0m\n\u001b[1;32m     29\u001b[0m                \u001b[0;32mreturn\u001b[0m \u001b[0mfinal_answer\u001b[0m\u001b[0;34m\u001b[0m\u001b[0;34m\u001b[0m\u001b[0m\n\u001b[1;32m     30\u001b[0m   \u001b[0;32mreturn\u001b[0m \u001b[0mfinal_answer\u001b[0m\u001b[0;34m\u001b[0m\u001b[0;34m\u001b[0m\u001b[0m\n\u001b[0;32m---> 31\u001b[0;31m \u001b[0mprint\u001b[0m\u001b[0;34m(\u001b[0m\u001b[0mtranslate\u001b[0m\u001b[0;34m(\u001b[0m\u001b[0;34m\"ATGATCAGCATCATACTACGACTACAATCAGCATCATACAGCATATAGCATCATCACTA\"\u001b[0m\u001b[0;34m)\u001b[0m\u001b[0;34m)\u001b[0m\u001b[0;34m\u001b[0m\u001b[0;34m\u001b[0m\u001b[0m\n\u001b[0m",
            "\u001b[0;32m<ipython-input-2-5ad1ec507e85>\u001b[0m in \u001b[0;36mtranslate\u001b[0;34m(DNA_seq)\u001b[0m\n\u001b[1;32m     21\u001b[0m   \u001b[0;32mfor\u001b[0m \u001b[0mindex\u001b[0m \u001b[0;32min\u001b[0m \u001b[0mempty_list\u001b[0m\u001b[0;34m:\u001b[0m\u001b[0;34m\u001b[0m\u001b[0;34m\u001b[0m\u001b[0m\n\u001b[1;32m     22\u001b[0m       \u001b[0;31m# while '*' not in final_answer:\u001b[0m\u001b[0;34m\u001b[0m\u001b[0;34m\u001b[0m\u001b[0;34m\u001b[0m\u001b[0m\n\u001b[0;32m---> 23\u001b[0;31m       \u001b[0;32mfor\u001b[0m \u001b[0mdna\u001b[0m\u001b[0;34m,\u001b[0m \u001b[0mamino_acid\u001b[0m \u001b[0;32min\u001b[0m \u001b[0maa_dict\u001b[0m\u001b[0;34m.\u001b[0m\u001b[0mitems\u001b[0m\u001b[0;34m(\u001b[0m\u001b[0;34m)\u001b[0m\u001b[0;34m:\u001b[0m\u001b[0;34m\u001b[0m\u001b[0;34m\u001b[0m\u001b[0m\n\u001b[0m\u001b[1;32m     24\u001b[0m           \u001b[0;31m# find the index of the dna strand\u001b[0m\u001b[0;34m\u001b[0m\u001b[0;34m\u001b[0m\u001b[0;34m\u001b[0m\u001b[0m\n\u001b[1;32m     25\u001b[0m           \u001b[0;32mif\u001b[0m \u001b[0mdna\u001b[0m \u001b[0;34m==\u001b[0m \u001b[0mindex\u001b[0m\u001b[0;34m:\u001b[0m\u001b[0;34m\u001b[0m\u001b[0;34m\u001b[0m\u001b[0m\n",
            "\u001b[0;31mNameError\u001b[0m: name 'aa_dict' is not defined"
          ]
        }
      ]
    },
    {
      "cell_type": "markdown",
      "source": [
        "Next, test your function on slightly more complicated sequences, ones with more than one codon. \n",
        "\n",
        "As you test your function, consider how it responds if the DNA sequence length is not multiple of 3. If your function currently gives an error, address this bug before proceeding. "
      ],
      "metadata": {
        "id": "eDdyuNhCDpYt"
      }
    },
    {
      "cell_type": "code",
      "source": [
        "# It worked after changing it to an integer!"
      ],
      "metadata": {
        "id": "IcTo8yrDFf4j"
      },
      "execution_count": null,
      "outputs": []
    },
    {
      "cell_type": "markdown",
      "source": [
        "As a final test, we will now translate a longer sequence, one that would be a bit tedious to translate by hand. Make sure the code cell below returns `TRUE`."
      ],
      "metadata": {
        "id": "3DjVoZ7eFkkP"
      }
    },
    {
      "cell_type": "code",
      "metadata": {
        "id": "BnkPdcNDHfQj",
        "colab": {
          "base_uri": "https://localhost:8080/"
        },
        "outputId": "9ed87995-6244-4730-e471-c41a2d4c8aac"
      },
      "source": [
        "translate(\"ATGATCAGCATCATACTACGACTACAATCAGCATCATACAGCATATAGCATCATCACTA\") == 'MISIILRLQSASYSI*'"
      ],
      "execution_count": null,
      "outputs": [
        {
          "output_type": "execute_result",
          "data": {
            "text/plain": [
              "False"
            ]
          },
          "metadata": {},
          "execution_count": 11
        }
      ]
    },
    {
      "cell_type": "markdown",
      "metadata": {
        "id": "tO945D2MK87G"
      },
      "source": [
        "# How long did this take? \n",
        "\n",
        "With a new course and new assignments, I want to be conscientious with how much time this course take. Please let me know how long this took, so I can adjust future homeworks if needed.\n",
        "\n",
        "# Submitting your homework\n",
        "\n",
        "- Rename your version of this document as `biol300_hw1_FIRSTNAME_LASTNAME.ipynb`. \n",
        "- Go to File, then Download, and download this document as `.ipynb` \n",
        "- Upload this downloaded `.ipynb` file on Canvas for your HW1 submission."
      ]
    }
  ]
}